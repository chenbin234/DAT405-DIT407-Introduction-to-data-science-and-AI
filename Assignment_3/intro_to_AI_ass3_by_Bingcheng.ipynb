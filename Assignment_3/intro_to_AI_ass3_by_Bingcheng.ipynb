{
 "cells": [
  {
   "attachments": {},
   "cell_type": "markdown",
   "metadata": {},
   "source": [
    "# Assignment 3: Clustering - Group 4\n",
    "\n",
    "|  <font size=4>Name</font>  | <font size=4>Working Hours</font>   |\n",
    "|  :----  | :----  |\n",
    "| <font size=4>Dimitrios Koutsakis</font>   | <font size=4>8</font> |\n",
    "| <font size=4>Bingcheng Chen</font>  | <font size=4>8</font> |"
   ]
  },
  {
   "attachments": {},
   "cell_type": "markdown",
   "metadata": {},
   "source": [
    "**Import Libraries**"
   ]
  }
 ],
 "metadata": {
  "kernelspec": {
   "display_name": "Python 3",
   "language": "python",
   "name": "python3"
  },
  "language_info": {
   "codemirror_mode": {
    "name": "ipython",
    "version": 3
   },
   "file_extension": ".py",
   "mimetype": "text/x-python",
   "name": "python",
   "nbconvert_exporter": "python",
   "pygments_lexer": "ipython3",
   "version": "3.11.0"
  },
  "orig_nbformat": 4
 },
 "nbformat": 4,
 "nbformat_minor": 2
}
