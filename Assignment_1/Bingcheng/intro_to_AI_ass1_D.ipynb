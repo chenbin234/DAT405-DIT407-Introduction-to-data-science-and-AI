{
  "cells": [
    {
      "cell_type": "markdown",
      "metadata": {
        "id": "CqZz1TikwMLH"
      },
      "source": [
        "# Assignment 1: Introduction to Data Science and Python - Group 4\n",
        "\n",
        "|  <font size=4>Name</font>  | <font size=4>Working Hours</font>   |\n",
        "|  :----  | :----  |\n",
        "| <font size=4>Dimitrios Koutsakis</font>   | <font size=4>?</font> |\n",
        "| <font size=4>Bingcheng Chen</font>  | <font size=4>?</font> |\n",
        "\n",
        "---\n",
        "\n"
      ]
    },
    {
      "cell_type": "markdown",
      "metadata": {
        "id": "Xl3O5ZIauLUS"
      },
      "source": [
        "### a. Write a Python program that draws a scatter plot of GDP per capita vs life expectancy."
      ]
    },
    {
      "cell_type": "markdown",
      "metadata": {
        "id": "xF_75q7L9a5P"
      },
      "source": [
        "**Import Libraries**\n",
        "\n"
      ]
    },
    {
      "cell_type": "code",
      "execution_count": 4,
      "metadata": {
        "id": "XtbdwEABc7cD"
      },
      "outputs": [],
      "source": [
        "import pandas as pd\n",
        "import numpy as np\n",
        "import matplotlib.pyplot as plt"
      ]
    },
    {
      "cell_type": "code",
      "execution_count": 5,
      "metadata": {
        "id": "JMIIWa6HDaDY"
      },
      "outputs": [],
      "source": [
        "%matplotlib inline\n",
        "plt.rcParams['figure.dpi'] = 100\n",
        "pd.set_option('display.max_rows', 100)"
      ]
    },
    {
      "cell_type": "markdown",
      "metadata": {
        "id": "SWtUMZLp9cbX"
      },
      "source": [
        "**Load datasets**\n",
        "\n",
        "We selected the following datasets:\n",
        "\n",
        "*   GDP per capita: https://ourworldindata.org/grapher/gdp-per-capita-maddison-2020\n",
        "*   Life expectancy: https://ourworldindata.org/grapher/life-expectancy?tab=map\n",
        "*   GDP: https://ourworldindata.org/grapher/gross-domestic-product?tab=chart\n",
        "\n"
      ]
    },
    {
      "cell_type": "code",
      "execution_count": 6,
      "metadata": {
        "colab": {
          "base_uri": "https://localhost:8080/",
          "height": 371
        },
        "id": "Rg6xNt0rwkrk",
        "outputId": "f3aa34e9-6ad4-4929-e4ba-2990cb6cebf2"
      },
      "outputs": [],
      "source": [
        "gdp_per_captita = pd.read_csv('gdp-per-capita-maddison-2020.csv')\n",
        "life_expectancy = pd.read_csv('life-expectancy.csv')\n",
        "gdp = pd.read_csv('gross-domestic-product.csv')"
      ]
    },
    {
      "cell_type": "markdown",
      "metadata": {
        "id": "kakwbxyQ9nCA"
      },
      "source": [
        "**Clean datasets**\n",
        "\n",
        "*   Droped unnecessary column '417485-annotations' from gdp_per_captita dataset\n",
        "*   Droped entities which are not a country from all datasets\n",
        "*   Droped 'NaN' values from all datasets\n",
        "\n"
      ]
    },
    {
      "cell_type": "code",
      "execution_count": 7,
      "metadata": {
        "id": "pDLJD7jo9jZn"
      },
      "outputs": [],
      "source": [
        "# Drop unnecessary column '417485-annotations' \n",
        "gdp_per_captita = gdp_per_captita.drop('417485-annotations', axis=1)\n",
        "\n",
        "# Drop Entities which are not a country\n",
        "gdp_per_captita = gdp_per_captita[gdp_per_captita['Code'] != 'OWID_WRL']\n",
        "life_expectancy = life_expectancy[life_expectancy['Code'] != 'OWID_WRL']\n",
        "gdp = gdp[gdp['Code'] != 'OWID_WRL']\n",
        "\n",
        "# Drop 'NaN' values\n",
        "life_expectancy = life_expectancy[life_expectancy['Code'].notnull()]\n",
        "gdp = gdp[gdp['Code'].notnull()]"
      ]
    },
    {
      "cell_type": "markdown",
      "metadata": {
        "id": "WLsBqg87cpjR"
      },
      "source": [
        "**Merge datasets**\n",
        "\n",
        "Joined common entries of gdp_per_captita and life_expectancy datasets"
      ]
    },
    {
      "cell_type": "code",
      "execution_count": 8,
      "metadata": {
        "colab": {
          "base_uri": "https://localhost:8080/",
          "height": 423
        },
        "id": "nKtEnAxOYXmF",
        "outputId": "d04fdea3-0f93-46c3-e0e9-3f147e9e0089"
      },
      "outputs": [
        {
          "data": {
            "text/html": [
              "<div>\n",
              "<style scoped>\n",
              "    .dataframe tbody tr th:only-of-type {\n",
              "        vertical-align: middle;\n",
              "    }\n",
              "\n",
              "    .dataframe tbody tr th {\n",
              "        vertical-align: top;\n",
              "    }\n",
              "\n",
              "    .dataframe thead th {\n",
              "        text-align: right;\n",
              "    }\n",
              "</style>\n",
              "<table border=\"1\" class=\"dataframe\">\n",
              "  <thead>\n",
              "    <tr style=\"text-align: right;\">\n",
              "      <th></th>\n",
              "      <th>Entity</th>\n",
              "      <th>Code</th>\n",
              "      <th>Year</th>\n",
              "      <th>GDP per capita</th>\n",
              "      <th>Life expectancy at birth (historical)</th>\n",
              "    </tr>\n",
              "  </thead>\n",
              "  <tbody>\n",
              "    <tr>\n",
              "      <th>0</th>\n",
              "      <td>Afghanistan</td>\n",
              "      <td>AFG</td>\n",
              "      <td>1950</td>\n",
              "      <td>1156.0000</td>\n",
              "      <td>27.7</td>\n",
              "    </tr>\n",
              "    <tr>\n",
              "      <th>1</th>\n",
              "      <td>Afghanistan</td>\n",
              "      <td>AFG</td>\n",
              "      <td>1951</td>\n",
              "      <td>1170.0000</td>\n",
              "      <td>28.0</td>\n",
              "    </tr>\n",
              "    <tr>\n",
              "      <th>2</th>\n",
              "      <td>Afghanistan</td>\n",
              "      <td>AFG</td>\n",
              "      <td>1952</td>\n",
              "      <td>1189.0000</td>\n",
              "      <td>28.4</td>\n",
              "    </tr>\n",
              "    <tr>\n",
              "      <th>3</th>\n",
              "      <td>Afghanistan</td>\n",
              "      <td>AFG</td>\n",
              "      <td>1953</td>\n",
              "      <td>1240.0000</td>\n",
              "      <td>28.9</td>\n",
              "    </tr>\n",
              "    <tr>\n",
              "      <th>4</th>\n",
              "      <td>Afghanistan</td>\n",
              "      <td>AFG</td>\n",
              "      <td>1954</td>\n",
              "      <td>1245.0000</td>\n",
              "      <td>29.2</td>\n",
              "    </tr>\n",
              "    <tr>\n",
              "      <th>...</th>\n",
              "      <td>...</td>\n",
              "      <td>...</td>\n",
              "      <td>...</td>\n",
              "      <td>...</td>\n",
              "      <td>...</td>\n",
              "    </tr>\n",
              "    <tr>\n",
              "      <th>12426</th>\n",
              "      <td>Zimbabwe</td>\n",
              "      <td>ZWE</td>\n",
              "      <td>2014</td>\n",
              "      <td>1594.0000</td>\n",
              "      <td>58.8</td>\n",
              "    </tr>\n",
              "    <tr>\n",
              "      <th>12427</th>\n",
              "      <td>Zimbabwe</td>\n",
              "      <td>ZWE</td>\n",
              "      <td>2015</td>\n",
              "      <td>1560.0000</td>\n",
              "      <td>59.6</td>\n",
              "    </tr>\n",
              "    <tr>\n",
              "      <th>12428</th>\n",
              "      <td>Zimbabwe</td>\n",
              "      <td>ZWE</td>\n",
              "      <td>2016</td>\n",
              "      <td>1534.0000</td>\n",
              "      <td>60.3</td>\n",
              "    </tr>\n",
              "    <tr>\n",
              "      <th>12429</th>\n",
              "      <td>Zimbabwe</td>\n",
              "      <td>ZWE</td>\n",
              "      <td>2017</td>\n",
              "      <td>1582.3662</td>\n",
              "      <td>60.7</td>\n",
              "    </tr>\n",
              "    <tr>\n",
              "      <th>12430</th>\n",
              "      <td>Zimbabwe</td>\n",
              "      <td>ZWE</td>\n",
              "      <td>2018</td>\n",
              "      <td>1611.4052</td>\n",
              "      <td>61.4</td>\n",
              "    </tr>\n",
              "  </tbody>\n",
              "</table>\n",
              "<p>12431 rows × 5 columns</p>\n",
              "</div>"
            ],
            "text/plain": [
              "            Entity Code  Year  GDP per capita   \n",
              "0      Afghanistan  AFG  1950       1156.0000  \\\n",
              "1      Afghanistan  AFG  1951       1170.0000   \n",
              "2      Afghanistan  AFG  1952       1189.0000   \n",
              "3      Afghanistan  AFG  1953       1240.0000   \n",
              "4      Afghanistan  AFG  1954       1245.0000   \n",
              "...            ...  ...   ...             ...   \n",
              "12426     Zimbabwe  ZWE  2014       1594.0000   \n",
              "12427     Zimbabwe  ZWE  2015       1560.0000   \n",
              "12428     Zimbabwe  ZWE  2016       1534.0000   \n",
              "12429     Zimbabwe  ZWE  2017       1582.3662   \n",
              "12430     Zimbabwe  ZWE  2018       1611.4052   \n",
              "\n",
              "       Life expectancy at birth (historical)  \n",
              "0                                       27.7  \n",
              "1                                       28.0  \n",
              "2                                       28.4  \n",
              "3                                       28.9  \n",
              "4                                       29.2  \n",
              "...                                      ...  \n",
              "12426                                   58.8  \n",
              "12427                                   59.6  \n",
              "12428                                   60.3  \n",
              "12429                                   60.7  \n",
              "12430                                   61.4  \n",
              "\n",
              "[12431 rows x 5 columns]"
            ]
          },
          "execution_count": 8,
          "metadata": {},
          "output_type": "execute_result"
        }
      ],
      "source": [
        "# Merge gdp_per_captita and life_expectancy datasets\n",
        "gdp_per_captita_merged = pd.merge(gdp_per_captita, life_expectancy, on=['Entity', 'Code', 'Year'])\n",
        "\n",
        "gdp_per_captita_merged"
      ]
    },
    {
      "cell_type": "markdown",
      "metadata": {
        "id": "8lHhVEceu43_"
      },
      "source": [
        "**Plot**"
      ]
    },
    {
      "cell_type": "code",
      "execution_count": 9,
      "metadata": {
        "colab": {
          "base_uri": "https://localhost:8080/",
          "height": 857
        },
        "id": "H0Ma3NvPZf1k",
        "outputId": "1100c40d-ab3a-4bd4-8074-fe77ca3a9255"
      },
      "outputs": [
        {
          "data": {
            "image/png": "[encoded data removed]",
            "text/plain": [
              "<Figure size 1500x1000 with 1 Axes>"
            ]
          },
          "metadata": {},
          "output_type": "display_data"
        }
      ],
      "source": [
        "df_1900 = gdp_per_captita_merged[gdp_per_captita_merged['Year'] == 1900]\n",
        "df_1950 = gdp_per_captita_merged[gdp_per_captita_merged['Year'] == 1950]\n",
        "df_1990 = gdp_per_captita_merged[gdp_per_captita_merged['Year'] == 1990]\n",
        "df_2018 = gdp_per_captita_merged[gdp_per_captita_merged['Year'] == 2018]\n",
        "\n",
        "plt.figure(figsize=[15,10])\n",
        "\n",
        "plt.scatter(df_1900['GDP per capita'], df_1900['Life expectancy at birth (historical)'], s=2, color='y')\n",
        "plt.scatter(df_1950['GDP per capita'], df_1950['Life expectancy at birth (historical)'], s=2, color='r')\n",
        "plt.scatter(df_1990['GDP per capita'], df_1990['Life expectancy at birth (historical)'], s=2, color='g')\n",
        "plt.scatter(df_2018['GDP per capita'], df_2018['Life expectancy at birth (historical)'], s=2, color='b')\n",
        "\n",
        "\n",
        "plt.legend(['1900', '1950', '1990', '2018'])\n",
        "plt.grid(axis = 'y', zorder=0, alpha=0.3)\n",
        "plt.xlabel('GDP per capita')\n",
        "plt.ylabel('Life expectancy')\n",
        "plt.title('All Countries')\n",
        "plt.xlim(0)\n",
        "\n",
        "plt.show()"
      ]
    },
    {
      "cell_type": "markdown",
      "metadata": {
        "id": "OvFbDS9svsHN"
      },
      "source": [
        "## Questions\n",
        "\n",
        "---\n",
        "\n"
      ]
    },
    {
      "cell_type": "markdown",
      "metadata": {
        "id": "KwNweTQ1IvnR"
      },
      "source": [
        "**Dataset**:\n",
        "\n",
        "\n",
        "Joined common entries of gdp, gdp_per_captita and life_expectancy datasets.\n",
        "\n",
        "All questions are answered relative to data from the year 2018 (df_year)."
      ]
    },
    {
      "cell_type": "code",
      "execution_count": 10,
      "metadata": {
        "colab": {
          "base_uri": "https://localhost:8080/",
          "height": 423
        },
        "id": "CE6vKFz3IRyO",
        "outputId": "3836258c-1cbe-4f65-883b-872503917f72"
      },
      "outputs": [
        {
          "data": {
            "text/html": [
              "<div>\n",
              "<style scoped>\n",
              "    .dataframe tbody tr th:only-of-type {\n",
              "        vertical-align: middle;\n",
              "    }\n",
              "\n",
              "    .dataframe tbody tr th {\n",
              "        vertical-align: top;\n",
              "    }\n",
              "\n",
              "    .dataframe thead th {\n",
              "        text-align: right;\n",
              "    }\n",
              "</style>\n",
              "<table border=\"1\" class=\"dataframe\">\n",
              "  <thead>\n",
              "    <tr style=\"text-align: right;\">\n",
              "      <th></th>\n",
              "      <th>Entity</th>\n",
              "      <th>Code</th>\n",
              "      <th>Year</th>\n",
              "      <th>GDP per capita</th>\n",
              "      <th>Life expectancy at birth (historical)</th>\n",
              "      <th>GDP (constant 2015 US$)</th>\n",
              "    </tr>\n",
              "  </thead>\n",
              "  <tbody>\n",
              "    <tr>\n",
              "      <th>16</th>\n",
              "      <td>Afghanistan</td>\n",
              "      <td>AFG</td>\n",
              "      <td>2018</td>\n",
              "      <td>1934.5550</td>\n",
              "      <td>63.1</td>\n",
              "      <td>20323487744</td>\n",
              "    </tr>\n",
              "    <tr>\n",
              "      <th>55</th>\n",
              "      <td>Albania</td>\n",
              "      <td>ALB</td>\n",
              "      <td>2018</td>\n",
              "      <td>11104.1660</td>\n",
              "      <td>79.2</td>\n",
              "      <td>12702457856</td>\n",
              "    </tr>\n",
              "    <tr>\n",
              "      <th>114</th>\n",
              "      <td>Algeria</td>\n",
              "      <td>DZA</td>\n",
              "      <td>2018</td>\n",
              "      <td>14228.0250</td>\n",
              "      <td>76.1</td>\n",
              "      <td>175426093056</td>\n",
              "    </tr>\n",
              "    <tr>\n",
              "      <th>153</th>\n",
              "      <td>Angola</td>\n",
              "      <td>AGO</td>\n",
              "      <td>2018</td>\n",
              "      <td>7771.4420</td>\n",
              "      <td>62.1</td>\n",
              "      <td>110764474368</td>\n",
              "    </tr>\n",
              "    <tr>\n",
              "      <th>212</th>\n",
              "      <td>Argentina</td>\n",
              "      <td>ARG</td>\n",
              "      <td>2018</td>\n",
              "      <td>18556.3830</td>\n",
              "      <td>77.0</td>\n",
              "      <td>583118094336</td>\n",
              "    </tr>\n",
              "    <tr>\n",
              "      <th>...</th>\n",
              "      <td>...</td>\n",
              "      <td>...</td>\n",
              "      <td>...</td>\n",
              "      <td>...</td>\n",
              "      <td>...</td>\n",
              "      <td>...</td>\n",
              "    </tr>\n",
              "    <tr>\n",
              "      <th>7442</th>\n",
              "      <td>Uzbekistan</td>\n",
              "      <td>UZB</td>\n",
              "      <td>2018</td>\n",
              "      <td>11220.3700</td>\n",
              "      <td>71.1</td>\n",
              "      <td>100427399168</td>\n",
              "    </tr>\n",
              "    <tr>\n",
              "      <th>7477</th>\n",
              "      <td>Vietnam</td>\n",
              "      <td>VNM</td>\n",
              "      <td>2018</td>\n",
              "      <td>6814.1420</td>\n",
              "      <td>74.0</td>\n",
              "      <td>234736467968</td>\n",
              "    </tr>\n",
              "    <tr>\n",
              "      <th>7506</th>\n",
              "      <td>Yemen</td>\n",
              "      <td>YEM</td>\n",
              "      <td>2018</td>\n",
              "      <td>2284.8900</td>\n",
              "      <td>64.6</td>\n",
              "      <td>36789669888</td>\n",
              "    </tr>\n",
              "    <tr>\n",
              "      <th>7565</th>\n",
              "      <td>Zambia</td>\n",
              "      <td>ZMB</td>\n",
              "      <td>2018</td>\n",
              "      <td>3534.0337</td>\n",
              "      <td>62.3</td>\n",
              "      <td>23747586048</td>\n",
              "    </tr>\n",
              "    <tr>\n",
              "      <th>7624</th>\n",
              "      <td>Zimbabwe</td>\n",
              "      <td>ZWE</td>\n",
              "      <td>2018</td>\n",
              "      <td>1611.4052</td>\n",
              "      <td>61.4</td>\n",
              "      <td>22077325312</td>\n",
              "    </tr>\n",
              "  </tbody>\n",
              "</table>\n",
              "<p>162 rows × 6 columns</p>\n",
              "</div>"
            ],
            "text/plain": [
              "           Entity Code  Year  GDP per capita   \n",
              "16    Afghanistan  AFG  2018       1934.5550  \\\n",
              "55        Albania  ALB  2018      11104.1660   \n",
              "114       Algeria  DZA  2018      14228.0250   \n",
              "153        Angola  AGO  2018       7771.4420   \n",
              "212     Argentina  ARG  2018      18556.3830   \n",
              "...           ...  ...   ...             ...   \n",
              "7442   Uzbekistan  UZB  2018      11220.3700   \n",
              "7477      Vietnam  VNM  2018       6814.1420   \n",
              "7506        Yemen  YEM  2018       2284.8900   \n",
              "7565       Zambia  ZMB  2018       3534.0337   \n",
              "7624     Zimbabwe  ZWE  2018       1611.4052   \n",
              "\n",
              "      Life expectancy at birth (historical)  GDP (constant 2015 US$)  \n",
              "16                                     63.1              20323487744  \n",
              "55                                     79.2              12702457856  \n",
              "114                                    76.1             175426093056  \n",
              "153                                    62.1             110764474368  \n",
              "212                                    77.0             583118094336  \n",
              "...                                     ...                      ...  \n",
              "7442                                   71.1             100427399168  \n",
              "7477                                   74.0             234736467968  \n",
              "7506                                   64.6              36789669888  \n",
              "7565                                   62.3              23747586048  \n",
              "7624                                   61.4              22077325312  \n",
              "\n",
              "[162 rows x 6 columns]"
            ]
          },
          "execution_count": 10,
          "metadata": {},
          "output_type": "execute_result"
        }
      ],
      "source": [
        "# Merge gdp, gdp_per_captita and life_expectancy datasets\n",
        "df = pd.merge(gdp_per_captita_merged, gdp, on=['Entity', 'Code', 'Year'])\n",
        "\n",
        "# Get data entries of YEAR\n",
        "YEAR = 2018\n",
        "df_YEAR = df[df['Year'] == YEAR]\n",
        "\n",
        "df_YEAR"
      ]
    },
    {
      "cell_type": "markdown",
      "metadata": {
        "id": "NwRAgvO2kPsF"
      },
      "source": [
        "### b. Which countries have a life expectancy higher than one standard deviation above the mean?"
      ]
    },
    {
      "cell_type": "code",
      "execution_count": 11,
      "metadata": {
        "colab": {
          "base_uri": "https://localhost:8080/",
          "height": 1000
        },
        "id": "tbmDlkBgkLQl",
        "outputId": "adbdd19e-3a02-428e-f107-5e345fe70d6e"
      },
      "outputs": [
        {
          "name": "stdout",
          "output_type": "stream",
          "text": [
            "Number of countries with high life expectancy: 30\n",
            "\n",
            "Countries with high life expectancy:\n"
          ]
        },
        {
          "data": {
            "text/html": [
              "<div>\n",
              "<style scoped>\n",
              "    .dataframe tbody tr th:only-of-type {\n",
              "        vertical-align: middle;\n",
              "    }\n",
              "\n",
              "    .dataframe tbody tr th {\n",
              "        vertical-align: top;\n",
              "    }\n",
              "\n",
              "    .dataframe thead th {\n",
              "        text-align: right;\n",
              "    }\n",
              "</style>\n",
              "<table border=\"1\" class=\"dataframe\">\n",
              "  <thead>\n",
              "    <tr style=\"text-align: right;\">\n",
              "      <th></th>\n",
              "      <th>Entity</th>\n",
              "      <th>Life expectancy at birth (historical)</th>\n",
              "    </tr>\n",
              "  </thead>\n",
              "  <tbody>\n",
              "    <tr>\n",
              "      <th>300</th>\n",
              "      <td>Australia</td>\n",
              "      <td>83.4</td>\n",
              "    </tr>\n",
              "    <tr>\n",
              "      <th>359</th>\n",
              "      <td>Austria</td>\n",
              "      <td>81.7</td>\n",
              "    </tr>\n",
              "    <tr>\n",
              "      <th>619</th>\n",
              "      <td>Belgium</td>\n",
              "      <td>81.5</td>\n",
              "    </tr>\n",
              "    <tr>\n",
              "      <th>1144</th>\n",
              "      <td>Canada</td>\n",
              "      <td>82.1</td>\n",
              "    </tr>\n",
              "    <tr>\n",
              "      <th>1811</th>\n",
              "      <td>Cyprus</td>\n",
              "      <td>81.4</td>\n",
              "    </tr>\n",
              "    <tr>\n",
              "      <th>1958</th>\n",
              "      <td>Denmark</td>\n",
              "      <td>81.0</td>\n",
              "    </tr>\n",
              "    <tr>\n",
              "      <th>2446</th>\n",
              "      <td>Finland</td>\n",
              "      <td>81.6</td>\n",
              "    </tr>\n",
              "    <tr>\n",
              "      <th>2505</th>\n",
              "      <td>France</td>\n",
              "      <td>82.6</td>\n",
              "    </tr>\n",
              "    <tr>\n",
              "      <th>2706</th>\n",
              "      <td>Germany</td>\n",
              "      <td>81.2</td>\n",
              "    </tr>\n",
              "    <tr>\n",
              "      <th>2824</th>\n",
              "      <td>Greece</td>\n",
              "      <td>81.4</td>\n",
              "    </tr>\n",
              "    <tr>\n",
              "      <th>3141</th>\n",
              "      <td>Hong Kong</td>\n",
              "      <td>85.2</td>\n",
              "    </tr>\n",
              "    <tr>\n",
              "      <th>3193</th>\n",
              "      <td>Iceland</td>\n",
              "      <td>82.8</td>\n",
              "    </tr>\n",
              "    <tr>\n",
              "      <th>3470</th>\n",
              "      <td>Ireland</td>\n",
              "      <td>82.1</td>\n",
              "    </tr>\n",
              "    <tr>\n",
              "      <th>3494</th>\n",
              "      <td>Israel</td>\n",
              "      <td>82.8</td>\n",
              "    </tr>\n",
              "    <tr>\n",
              "      <th>3553</th>\n",
              "      <td>Italy</td>\n",
              "      <td>83.2</td>\n",
              "    </tr>\n",
              "    <tr>\n",
              "      <th>3665</th>\n",
              "      <td>Japan</td>\n",
              "      <td>84.3</td>\n",
              "    </tr>\n",
              "    <tr>\n",
              "      <th>4127</th>\n",
              "      <td>Luxembourg</td>\n",
              "      <td>81.8</td>\n",
              "    </tr>\n",
              "    <tr>\n",
              "      <th>4405</th>\n",
              "      <td>Malta</td>\n",
              "      <td>83.3</td>\n",
              "    </tr>\n",
              "    <tr>\n",
              "      <th>4956</th>\n",
              "      <td>Netherlands</td>\n",
              "      <td>81.8</td>\n",
              "    </tr>\n",
              "    <tr>\n",
              "      <th>4998</th>\n",
              "      <td>New Zealand</td>\n",
              "      <td>82.4</td>\n",
              "    </tr>\n",
              "    <tr>\n",
              "      <th>5263</th>\n",
              "      <td>Norway</td>\n",
              "      <td>82.8</td>\n",
              "    </tr>\n",
              "    <tr>\n",
              "      <th>5725</th>\n",
              "      <td>Portugal</td>\n",
              "      <td>81.4</td>\n",
              "    </tr>\n",
              "    <tr>\n",
              "      <th>5803</th>\n",
              "      <td>Qatar</td>\n",
              "      <td>80.9</td>\n",
              "    </tr>\n",
              "    <tr>\n",
              "      <th>6292</th>\n",
              "      <td>Singapore</td>\n",
              "      <td>83.5</td>\n",
              "    </tr>\n",
              "    <tr>\n",
              "      <th>6343</th>\n",
              "      <td>Slovenia</td>\n",
              "      <td>81.4</td>\n",
              "    </tr>\n",
              "    <tr>\n",
              "      <th>6461</th>\n",
              "      <td>South Korea</td>\n",
              "      <td>83.3</td>\n",
              "    </tr>\n",
              "    <tr>\n",
              "      <th>6520</th>\n",
              "      <td>Spain</td>\n",
              "      <td>83.1</td>\n",
              "    </tr>\n",
              "    <tr>\n",
              "      <th>6637</th>\n",
              "      <td>Sweden</td>\n",
              "      <td>82.5</td>\n",
              "    </tr>\n",
              "    <tr>\n",
              "      <th>6676</th>\n",
              "      <td>Switzerland</td>\n",
              "      <td>83.6</td>\n",
              "    </tr>\n",
              "    <tr>\n",
              "      <th>7292</th>\n",
              "      <td>United Kingdom</td>\n",
              "      <td>81.1</td>\n",
              "    </tr>\n",
              "  </tbody>\n",
              "</table>\n",
              "</div>"
            ],
            "text/plain": [
              "              Entity  Life expectancy at birth (historical)\n",
              "300        Australia                                   83.4\n",
              "359          Austria                                   81.7\n",
              "619          Belgium                                   81.5\n",
              "1144          Canada                                   82.1\n",
              "1811          Cyprus                                   81.4\n",
              "1958         Denmark                                   81.0\n",
              "2446         Finland                                   81.6\n",
              "2505          France                                   82.6\n",
              "2706         Germany                                   81.2\n",
              "2824          Greece                                   81.4\n",
              "3141       Hong Kong                                   85.2\n",
              "3193         Iceland                                   82.8\n",
              "3470         Ireland                                   82.1\n",
              "3494          Israel                                   82.8\n",
              "3553           Italy                                   83.2\n",
              "3665           Japan                                   84.3\n",
              "4127      Luxembourg                                   81.8\n",
              "4405           Malta                                   83.3\n",
              "4956     Netherlands                                   81.8\n",
              "4998     New Zealand                                   82.4\n",
              "5263          Norway                                   82.8\n",
              "5725        Portugal                                   81.4\n",
              "5803           Qatar                                   80.9\n",
              "6292       Singapore                                   83.5\n",
              "6343        Slovenia                                   81.4\n",
              "6461     South Korea                                   83.3\n",
              "6520           Spain                                   83.1\n",
              "6637          Sweden                                   82.5\n",
              "6676     Switzerland                                   83.6\n",
              "7292  United Kingdom                                   81.1"
            ]
          },
          "execution_count": 11,
          "metadata": {},
          "output_type": "execute_result"
        }
      ],
      "source": [
        "# Life expectancy mean and standard deviation\n",
        "life_expectancy_mean = df_YEAR['Life expectancy at birth (historical)'].mean()\n",
        "life_expectancy_std = df_YEAR['Life expectancy at birth (historical)'].std()\n",
        "\n",
        "# Countries with high life expectancy (higher than mean + std)\n",
        "high_life_expectancy = df_YEAR[df_YEAR['Life expectancy at birth (historical)'] > (life_expectancy_mean + life_expectancy_std)]\n",
        "\n",
        "# Print results\n",
        "print('Number of countries with high life expectancy:', high_life_expectancy['Entity'].count())\n",
        "print('\\nCountries with high life expectancy:')\n",
        "high_life_expectancy[['Entity', 'Life expectancy at birth (historical)']]"
      ]
    },
    {
      "cell_type": "markdown",
      "metadata": {
        "id": "FHLToPwj1_XN"
      },
      "source": [
        "**Plot**"
      ]
    },
    {
      "cell_type": "code",
      "execution_count": 12,
      "metadata": {
        "colab": {
          "base_uri": "https://localhost:8080/",
          "height": 857
        },
        "id": "m2ewIHxd1YqO",
        "outputId": "8d712e3f-5210-47ae-b473-ff3867a5b0f6"
      },
      "outputs": [
        {
          "data": {
            "image/png": "[encoded data removed]",
            "text/plain": [
              "<Figure size 1500x1000 with 1 Axes>"
            ]
          },
          "metadata": {},
          "output_type": "display_data"
        }
      ],
      "source": [
        "plt.figure(figsize=[15,10])\n",
        "\n",
        "# Plot ountries with high life expectancy\n",
        "plt.scatter(high_life_expectancy['GDP per capita'], high_life_expectancy['Life expectancy at birth (historical)'], s=5, color='b')\n",
        "\n",
        "# Plot ountries with lower life expectancy\n",
        "low_life_expectancy = df_YEAR[~df_YEAR['Entity'].isin(high_life_expectancy['Entity'])]\n",
        "plt.scatter(low_life_expectancy['GDP per capita'], low_life_expectancy['Life expectancy at birth (historical)'], s=5, color='r')\n",
        "\n",
        "# Plot Mean + Standard Deviation of life expectancy\n",
        "plt.axhline(y=(life_expectancy_mean + life_expectancy_std), color='r', linestyle='-')\n",
        "\n",
        "plt.legend(['High life expectancy','Lower life expectancy', 'Mean + Standard Deviation'])\n",
        "plt.xlabel('GDP')\n",
        "plt.ylabel('Life expectancy')\n",
        "plt.title(str(YEAR) + ' - All Countries')\n",
        "plt.xlim(0)\n",
        "\n",
        "plt.show()"
      ]
    },
    {
      "cell_type": "markdown",
      "metadata": {
        "id": "DpaEoj2omsEC"
      },
      "source": [
        "### c. Which countries have high life expectancy but have low GDP?"
      ]
    },
    {
      "cell_type": "markdown",
      "metadata": {
        "id": "Yyvx_gp272B9"
      },
      "source": [
        "High life expectancy is considered every value higher than one standard deviation above the mean life expectency in the current dataset.\n",
        "\n",
        "Low GDP is considered every value lower than one standard deviation bellow the mean GDP in the current dataset."
      ]
    },
    {
      "cell_type": "code",
      "execution_count": 13,
      "metadata": {
        "colab": {
          "base_uri": "https://localhost:8080/"
        },
        "id": "FP4Tm8ImmQQI",
        "outputId": "666937ef-f13f-452a-97ec-e18023cd7f54"
      },
      "outputs": [
        {
          "name": "stdout",
          "output_type": "stream",
          "text": [
            "Number of countries with high life expectancy and low GDP: 0\n"
          ]
        }
      ],
      "source": [
        "# GDP mean and standard deviation\n",
        "gdp_mean = df_YEAR['GDP (constant 2015 US$)'].mean()\n",
        "gdp_std = df_YEAR['GDP (constant 2015 US$)'].std()\n",
        "\n",
        "# Countries with low GDP (lowr than mean - std) from the countries with high life expectancy\n",
        "high_life_expectancy_low_gdp = high_life_expectancy[high_life_expectancy['GDP (constant 2015 US$)'] < (gdp_mean - gdp_std)]\n",
        "\n",
        "# Print results\n",
        "print('Number of countries with high life expectancy and low GDP:', high_life_expectancy_low_gdp['Entity'].count())"
      ]
    },
    {
      "cell_type": "markdown",
      "metadata": {
        "id": "nVn5mrcwv9vZ"
      },
      "source": [
        "### d. Does every strong economy (normally indicated by GDP) have high life expectancy?"
      ]
    },
    {
      "cell_type": "markdown",
      "metadata": {
        "id": "g0m0aX-H8fNM"
      },
      "source": [
        "Strong economies are considered countries with a high GDP. \n",
        "\n",
        "High GDP is considered every value higher than one standard deviation above the mean GDP in the current dataset."
      ]
    },
    {
      "cell_type": "code",
      "execution_count": 14,
      "metadata": {
        "colab": {
          "base_uri": "https://localhost:8080/",
          "height": 212
        },
        "id": "Vr3dg9oIwD9g",
        "outputId": "4fe8ac31-6ec5-48cc-c4c1-7024958e1c06"
      },
      "outputs": [
        {
          "name": "stdout",
          "output_type": "stream",
          "text": [
            "Number of countries with high GDP: 7\n",
            "Number of countries with high GDP and high life expectancy: 4\n",
            "\n",
            "Countries with high GDP and low life expectancy:\n"
          ]
        },
        {
          "data": {
            "text/html": [
              "<div>\n",
              "<style scoped>\n",
              "    .dataframe tbody tr th:only-of-type {\n",
              "        vertical-align: middle;\n",
              "    }\n",
              "\n",
              "    .dataframe tbody tr th {\n",
              "        vertical-align: top;\n",
              "    }\n",
              "\n",
              "    .dataframe thead th {\n",
              "        text-align: right;\n",
              "    }\n",
              "</style>\n",
              "<table border=\"1\" class=\"dataframe\">\n",
              "  <thead>\n",
              "    <tr style=\"text-align: right;\">\n",
              "      <th></th>\n",
              "      <th>Entity</th>\n",
              "      <th>Life expectancy at birth (historical)</th>\n",
              "      <th>GDP (constant 2015 US$)</th>\n",
              "    </tr>\n",
              "  </thead>\n",
              "  <tbody>\n",
              "    <tr>\n",
              "      <th>1419</th>\n",
              "      <td>China</td>\n",
              "      <td>77.7</td>\n",
              "      <td>13493418852352</td>\n",
              "    </tr>\n",
              "    <tr>\n",
              "      <th>3252</th>\n",
              "      <td>India</td>\n",
              "      <td>70.7</td>\n",
              "      <td>2590898651136</td>\n",
              "    </tr>\n",
              "    <tr>\n",
              "      <th>7351</th>\n",
              "      <td>United States</td>\n",
              "      <td>79.0</td>\n",
              "      <td>19551980879872</td>\n",
              "    </tr>\n",
              "  </tbody>\n",
              "</table>\n",
              "</div>"
            ],
            "text/plain": [
              "             Entity  Life expectancy at birth (historical)   \n",
              "1419          China                                   77.7  \\\n",
              "3252          India                                   70.7   \n",
              "7351  United States                                   79.0   \n",
              "\n",
              "      GDP (constant 2015 US$)  \n",
              "1419           13493418852352  \n",
              "3252            2590898651136  \n",
              "7351           19551980879872  "
            ]
          },
          "execution_count": 14,
          "metadata": {},
          "output_type": "execute_result"
        }
      ],
      "source": [
        "# Countries with high GDP (higher than mean + std)\n",
        "high_gdp = df_YEAR[df_YEAR['GDP (constant 2015 US$)'] > (gdp_mean + gdp_std)]\n",
        "\n",
        "# Countries with high life expectancy (higher than mean + std) from the contries with high GDP\n",
        "high_gdp_high_life_expectancy = high_gdp[high_gdp['Life expectancy at birth (historical)'] > (life_expectancy_mean + life_expectancy_std)]\n",
        "\n",
        "# Countries without high life expectancy from the contries with high GDP\n",
        "high_gdp_low_life_expectancy = high_gdp[~high_gdp['Entity'].isin(high_gdp_high_life_expectancy['Entity'])]\n",
        "\n",
        "# Print results\n",
        "print('Number of countries with high GDP:', high_gdp['Entity'].count())\n",
        "print('Number of countries with high GDP and high life expectancy:', high_gdp_high_life_expectancy['Entity'].count())\n",
        "print('\\nCountries with high GDP and low life expectancy:')\n",
        "high_gdp_low_life_expectancy[['Entity', 'Life expectancy at birth (historical)', 'GDP (constant 2015 US$)']]"
      ]
    },
    {
      "cell_type": "markdown",
      "metadata": {
        "id": "CVO6ZmMf1Rov"
      },
      "source": [
        "**Plot**"
      ]
    },
    {
      "cell_type": "code",
      "execution_count": 15,
      "metadata": {
        "colab": {
          "base_uri": "https://localhost:8080/",
          "height": 857
        },
        "id": "msbHat7XUI6x",
        "outputId": "6c7bfcf4-d306-4c13-a701-96a6cd022f3c"
      },
      "outputs": [
        {
          "data": {
            "image/png": "[encoded data removed]",
            "text/plain": [
              "<Figure size 1500x1000 with 1 Axes>"
            ]
          },
          "metadata": {},
          "output_type": "display_data"
        }
      ],
      "source": [
        "plt.figure(figsize=[15,10])\n",
        "\n",
        "# Plot countries with high GDP\n",
        "plt.scatter(high_gdp_high_life_expectancy['GDP per capita'], high_gdp_high_life_expectancy['Life expectancy at birth (historical)'], s=10, color='b')\n",
        "plt.scatter(high_gdp_low_life_expectancy['GDP per capita'], high_gdp_low_life_expectancy['Life expectancy at birth (historical)'], s=10, color='r')\n",
        "\n",
        "# Plot Mean + Standard Deviation of life expectancy\n",
        "plt.axhline(y=(life_expectancy_mean + life_expectancy_std), color='r', linestyle='-')\n",
        "\n",
        "plt.legend(['High life expectancy','Lower life expectancy', 'Mean + Standard Deviation'])\n",
        "plt.grid(axis = 'y', zorder=0, alpha=0.3)\n",
        "plt.xlabel('GDP')\n",
        "plt.ylabel('Life expectancy')\n",
        "plt.title(str(YEAR) + ' - Countries with high GDP')\n",
        "\n",
        "plt.show()"
      ]
    },
    {
      "cell_type": "markdown",
      "metadata": {
        "id": "XqkG7bJr0aSy"
      },
      "source": [
        "### e. Related to question d, what would happen if you use GDP per capita as an indicator of a strong economy?"
      ]
    },
    {
      "cell_type": "markdown",
      "metadata": {
        "id": "KI-dwjQ99RKS"
      },
      "source": [
        "High GDP pr capita is considered every value higher than one standard deviation above the mean GDP per capita in the current dataset."
      ]
    },
    {
      "cell_type": "code",
      "execution_count": 16,
      "metadata": {
        "colab": {
          "base_uri": "https://localhost:8080/",
          "height": 275
        },
        "id": "Ewmqv8Gr0d6J",
        "outputId": "15e9fa35-4110-4744-b92a-3ba3e2313c0b"
      },
      "outputs": [
        {
          "name": "stdout",
          "output_type": "stream",
          "text": [
            "Number of countries with high GDP per capita: 21\n",
            "Number of countries with high GDP per capita and high life expectancy: 16\n",
            "\n",
            "Countries with high GDP per capita and low life expectancy:\n"
          ]
        },
        {
          "data": {
            "text/html": [
              "<div>\n",
              "<style scoped>\n",
              "    .dataframe tbody tr th:only-of-type {\n",
              "        vertical-align: middle;\n",
              "    }\n",
              "\n",
              "    .dataframe tbody tr th {\n",
              "        vertical-align: top;\n",
              "    }\n",
              "\n",
              "    .dataframe thead th {\n",
              "        text-align: right;\n",
              "    }\n",
              "</style>\n",
              "<table border=\"1\" class=\"dataframe\">\n",
              "  <thead>\n",
              "    <tr style=\"text-align: right;\">\n",
              "      <th></th>\n",
              "      <th>Entity</th>\n",
              "      <th>Life expectancy at birth (historical)</th>\n",
              "      <th>GDP per capita</th>\n",
              "    </tr>\n",
              "  </thead>\n",
              "  <tbody>\n",
              "    <tr>\n",
              "      <th>427</th>\n",
              "      <td>Bahrain</td>\n",
              "      <td>79.9</td>\n",
              "      <td>39498.766</td>\n",
              "    </tr>\n",
              "    <tr>\n",
              "      <th>3823</th>\n",
              "      <td>Kuwait</td>\n",
              "      <td>79.7</td>\n",
              "      <td>65520.740</td>\n",
              "    </tr>\n",
              "    <tr>\n",
              "      <th>6032</th>\n",
              "      <td>Saudi Arabia</td>\n",
              "      <td>77.2</td>\n",
              "      <td>50304.750</td>\n",
              "    </tr>\n",
              "    <tr>\n",
              "      <th>7233</th>\n",
              "      <td>United Arab Emirates</td>\n",
              "      <td>79.6</td>\n",
              "      <td>76397.820</td>\n",
              "    </tr>\n",
              "    <tr>\n",
              "      <th>7351</th>\n",
              "      <td>United States</td>\n",
              "      <td>79.0</td>\n",
              "      <td>55334.740</td>\n",
              "    </tr>\n",
              "  </tbody>\n",
              "</table>\n",
              "</div>"
            ],
            "text/plain": [
              "                    Entity  Life expectancy at birth (historical)   \n",
              "427                Bahrain                                   79.9  \\\n",
              "3823                Kuwait                                   79.7   \n",
              "6032          Saudi Arabia                                   77.2   \n",
              "7233  United Arab Emirates                                   79.6   \n",
              "7351         United States                                   79.0   \n",
              "\n",
              "      GDP per capita  \n",
              "427        39498.766  \n",
              "3823       65520.740  \n",
              "6032       50304.750  \n",
              "7233       76397.820  \n",
              "7351       55334.740  "
            ]
          },
          "execution_count": 16,
          "metadata": {},
          "output_type": "execute_result"
        }
      ],
      "source": [
        "# GDP per capita mean and standard deviation\n",
        "gdp_per_captita_mean = df_YEAR['GDP per capita'].mean()\n",
        "gdp_per_captita_std = df_YEAR['GDP per capita'].std()\n",
        "\n",
        "# Countries with high GDP per capita (higher than mean + std)\n",
        "high_gdp_per_capita = df_YEAR[df_YEAR['GDP per capita'] > (gdp_per_captita_mean + gdp_per_captita_std)]\n",
        "\n",
        "# Countries with high life expectancy (higher than mean + std) from the contries with high GDP per capita\n",
        "high_gdp_per_capita_high_life_expectancy = high_gdp_per_capita[high_gdp_per_capita['Life expectancy at birth (historical)'] > (life_expectancy_mean + life_expectancy_std)]\n",
        "\n",
        "# Countries without high life expectancy from the contries with high GDP per capita\n",
        "high_gdp_per_capita_low_life_expectancy = high_gdp_per_capita[~high_gdp_per_capita['Entity'].isin(high_gdp_per_capita_high_life_expectancy['Entity'])]\n",
        "\n",
        "# Print results\n",
        "print('Number of countries with high GDP per capita:', high_gdp_per_capita['Entity'].count())\n",
        "print('Number of countries with high GDP per capita and high life expectancy:', high_gdp_per_capita_high_life_expectancy['Entity'].count())\n",
        "print('\\nCountries with high GDP per capita and low life expectancy:')\n",
        "high_gdp_per_capita_low_life_expectancy[['Entity', 'Life expectancy at birth (historical)', 'GDP per capita']]"
      ]
    },
    {
      "cell_type": "markdown",
      "metadata": {
        "id": "SnO-5H651TKf"
      },
      "source": [
        "**Plot**"
      ]
    },
    {
      "cell_type": "code",
      "execution_count": 17,
      "metadata": {
        "colab": {
          "base_uri": "https://localhost:8080/",
          "height": 857
        },
        "id": "Ies4Lhc9XkFy",
        "outputId": "2afe4726-a696-47bc-bdfc-e6e39ac8870a"
      },
      "outputs": [
        {
          "data": {
            "image/png": "[encoded data removed]",
            "text/plain": [
              "<Figure size 1500x1000 with 1 Axes>"
            ]
          },
          "metadata": {},
          "output_type": "display_data"
        }
      ],
      "source": [
        "plt.figure(figsize=[15,10])\n",
        "\n",
        "# Plot countries with high GDP per capita\n",
        "plt.scatter(high_gdp_per_capita_high_life_expectancy['GDP per capita'], high_gdp_per_capita_high_life_expectancy['Life expectancy at birth (historical)'], s=10, color='b')\n",
        "plt.scatter(high_gdp_per_capita_low_life_expectancy['GDP per capita'], high_gdp_per_capita_low_life_expectancy['Life expectancy at birth (historical)'], s=10, color='r')\n",
        "\n",
        "# Plot Mean + Standard Deviation of life expectancy\n",
        "plt.axhline(y=(life_expectancy_mean + life_expectancy_std), color='r', linestyle='-')\n",
        "\n",
        "plt.legend(['High life expectancy','Lower life expectancy', 'Mean + Standard Deviation'])\n",
        "plt.grid(axis = 'y', zorder=0, alpha=0.3)\n",
        "plt.xlabel('GDP per capita')\n",
        "plt.ylabel('Life expectancy')\n",
        "plt.title(str(YEAR) + ' - Countries with high GDP per capita')\n",
        "\n",
        "plt.show()"
      ]
    }
  ],
  "metadata": {
    "colab": {
      "provenance": [],
      "toc_visible": true
    },
    "kernelspec": {
      "display_name": "Python 3",
      "name": "python3"
    },
    "language_info": {
      "codemirror_mode": {
        "name": "ipython",
        "version": 3
      },
      "file_extension": ".py",
      "mimetype": "text/x-python",
      "name": "python",
      "nbconvert_exporter": "python",
      "pygments_lexer": "ipython3",
      "version": "3.11.0"
    }
  },
  "nbformat": 4,
  "nbformat_minor": 0
}
