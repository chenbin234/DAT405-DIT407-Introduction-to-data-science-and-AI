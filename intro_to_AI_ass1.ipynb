{
  "cells": [
    {
      "attachments": {},
      "cell_type": "markdown",
      "metadata": {},
      "source": [
        "## Assignment 1: Introduction to Data Science and Python - By Group 4\n",
        "\n",
        "|  <font size=4>Name</font>  | <font size=4>Working Hours</font>   |\n",
        "|  :----  | :----  |\n",
        "| <font size=4>Dimitrios Koutsakis</font>   | <font size=4>?</font> |\n",
        "| <font size=4>Bingcheng Chen</font>  | <font size=4>?</font> |"
      ]
    },
    {
      "attachments": {},
      "cell_type": "markdown",
      "metadata": {},
      "source": [
        "### Step 0: Import Library"
      ]
    },
    {
      "cell_type": "code",
      "execution_count": 286,
      "metadata": {
        "id": "EQEfVNj6Y9J3"
      },
      "outputs": [],
      "source": [
        "import ipywidgets as widgets\n",
        "import pandas as pd\n",
        "import numpy as np\n",
        "import matplotlib.pyplot as plt\n",
        "import seaborn as sns\n",
        "\n",
        "\n",
        "%matplotlib inline\n",
        "plt.rcParams['figure.dpi'] = 100\n",
        "pd.set_option('display.max_rows', 100)"
      ]
    },
    {
      "attachments": {},
      "cell_type": "markdown",
      "metadata": {},
      "source": [
        "### Step 1: Select and Load datasets"
      ]
    },
    {
      "cell_type": "code",
      "execution_count": 287,
      "metadata": {},
      "outputs": [],
      "source": [
        "# load related datasets, in this assignment, we choose 3 datasets\n",
        "gdp_per_captita = pd.read_csv('gdp-per-capita-maddison-2020.csv')\n",
        "life_expectancy = pd.read_csv('life-expectancy.csv')\n",
        "gdp = pd.read_csv('gross-domestic-product.csv')"
      ]
    },
    {
      "attachments": {},
      "cell_type": "markdown",
      "metadata": {},
      "source": [
        "### Step2: Merge datasets"
      ]
    },
    {
      "cell_type": "code",
      "execution_count": 288,
      "metadata": {},
      "outputs": [
        {
          "data": {
            "text/html": [
              "<div>\n",
              "<style scoped>\n",
              "    .dataframe tbody tr th:only-of-type {\n",
              "        vertical-align: middle;\n",
              "    }\n",
              "\n",
              "    .dataframe tbody tr th {\n",
              "        vertical-align: top;\n",
              "    }\n",
              "\n",
              "    .dataframe thead th {\n",
              "        text-align: right;\n",
              "    }\n",
              "</style>\n",
              "<table border=\"1\" class=\"dataframe\">\n",
              "  <thead>\n",
              "    <tr style=\"text-align: right;\">\n",
              "      <th></th>\n",
              "      <th>Entity</th>\n",
              "      <th>Code</th>\n",
              "      <th>Year</th>\n",
              "      <th>GDP per capita</th>\n",
              "      <th>417485-annotations</th>\n",
              "      <th>Life expectancy at birth (historical)</th>\n",
              "    </tr>\n",
              "  </thead>\n",
              "  <tbody>\n",
              "    <tr>\n",
              "      <th>0</th>\n",
              "      <td>Afghanistan</td>\n",
              "      <td>AFG</td>\n",
              "      <td>1950</td>\n",
              "      <td>1156.0000</td>\n",
              "      <td>NaN</td>\n",
              "      <td>27.7</td>\n",
              "    </tr>\n",
              "    <tr>\n",
              "      <th>1</th>\n",
              "      <td>Afghanistan</td>\n",
              "      <td>AFG</td>\n",
              "      <td>1951</td>\n",
              "      <td>1170.0000</td>\n",
              "      <td>NaN</td>\n",
              "      <td>28.0</td>\n",
              "    </tr>\n",
              "    <tr>\n",
              "      <th>2</th>\n",
              "      <td>Afghanistan</td>\n",
              "      <td>AFG</td>\n",
              "      <td>1952</td>\n",
              "      <td>1189.0000</td>\n",
              "      <td>NaN</td>\n",
              "      <td>28.4</td>\n",
              "    </tr>\n",
              "    <tr>\n",
              "      <th>3</th>\n",
              "      <td>Afghanistan</td>\n",
              "      <td>AFG</td>\n",
              "      <td>1953</td>\n",
              "      <td>1240.0000</td>\n",
              "      <td>NaN</td>\n",
              "      <td>28.9</td>\n",
              "    </tr>\n",
              "    <tr>\n",
              "      <th>4</th>\n",
              "      <td>Afghanistan</td>\n",
              "      <td>AFG</td>\n",
              "      <td>1954</td>\n",
              "      <td>1245.0000</td>\n",
              "      <td>NaN</td>\n",
              "      <td>29.2</td>\n",
              "    </tr>\n",
              "    <tr>\n",
              "      <th>...</th>\n",
              "      <td>...</td>\n",
              "      <td>...</td>\n",
              "      <td>...</td>\n",
              "      <td>...</td>\n",
              "      <td>...</td>\n",
              "      <td>...</td>\n",
              "    </tr>\n",
              "    <tr>\n",
              "      <th>12440</th>\n",
              "      <td>Zimbabwe</td>\n",
              "      <td>ZWE</td>\n",
              "      <td>2014</td>\n",
              "      <td>1594.0000</td>\n",
              "      <td>NaN</td>\n",
              "      <td>58.8</td>\n",
              "    </tr>\n",
              "    <tr>\n",
              "      <th>12441</th>\n",
              "      <td>Zimbabwe</td>\n",
              "      <td>ZWE</td>\n",
              "      <td>2015</td>\n",
              "      <td>1560.0000</td>\n",
              "      <td>NaN</td>\n",
              "      <td>59.6</td>\n",
              "    </tr>\n",
              "    <tr>\n",
              "      <th>12442</th>\n",
              "      <td>Zimbabwe</td>\n",
              "      <td>ZWE</td>\n",
              "      <td>2016</td>\n",
              "      <td>1534.0000</td>\n",
              "      <td>NaN</td>\n",
              "      <td>60.3</td>\n",
              "    </tr>\n",
              "    <tr>\n",
              "      <th>12443</th>\n",
              "      <td>Zimbabwe</td>\n",
              "      <td>ZWE</td>\n",
              "      <td>2017</td>\n",
              "      <td>1582.3662</td>\n",
              "      <td>NaN</td>\n",
              "      <td>60.7</td>\n",
              "    </tr>\n",
              "    <tr>\n",
              "      <th>12444</th>\n",
              "      <td>Zimbabwe</td>\n",
              "      <td>ZWE</td>\n",
              "      <td>2018</td>\n",
              "      <td>1611.4052</td>\n",
              "      <td>NaN</td>\n",
              "      <td>61.4</td>\n",
              "    </tr>\n",
              "  </tbody>\n",
              "</table>\n",
              "<p>12445 rows × 6 columns</p>\n",
              "</div>"
            ],
            "text/plain": [
              "            Entity Code  Year  GDP per capita 417485-annotations   \n",
              "0      Afghanistan  AFG  1950       1156.0000                NaN  \\\n",
              "1      Afghanistan  AFG  1951       1170.0000                NaN   \n",
              "2      Afghanistan  AFG  1952       1189.0000                NaN   \n",
              "3      Afghanistan  AFG  1953       1240.0000                NaN   \n",
              "4      Afghanistan  AFG  1954       1245.0000                NaN   \n",
              "...            ...  ...   ...             ...                ...   \n",
              "12440     Zimbabwe  ZWE  2014       1594.0000                NaN   \n",
              "12441     Zimbabwe  ZWE  2015       1560.0000                NaN   \n",
              "12442     Zimbabwe  ZWE  2016       1534.0000                NaN   \n",
              "12443     Zimbabwe  ZWE  2017       1582.3662                NaN   \n",
              "12444     Zimbabwe  ZWE  2018       1611.4052                NaN   \n",
              "\n",
              "       Life expectancy at birth (historical)  \n",
              "0                                       27.7  \n",
              "1                                       28.0  \n",
              "2                                       28.4  \n",
              "3                                       28.9  \n",
              "4                                       29.2  \n",
              "...                                      ...  \n",
              "12440                                   58.8  \n",
              "12441                                   59.6  \n",
              "12442                                   60.3  \n",
              "12443                                   60.7  \n",
              "12444                                   61.4  \n",
              "\n",
              "[12445 rows x 6 columns]"
            ]
          },
          "execution_count": 288,
          "metadata": {},
          "output_type": "execute_result"
        }
      ],
      "source": [
        "# merge three datasets into one dataset\n",
        "df = pd.merge(gdp_per_captita,life_expectancy)\n",
        "# df = pd.merge(df1,gdp)\n",
        "df"
      ]
    },
    {
      "attachments": {},
      "cell_type": "markdown",
      "metadata": {},
      "source": [
        "### Step 3: Clean data"
      ]
    },
    {
      "attachments": {},
      "cell_type": "markdown",
      "metadata": {},
      "source": [
        "Clear data of gdp_per_captita"
      ]
    },
    {
      "cell_type": "code",
      "execution_count": 289,
      "metadata": {},
      "outputs": [
        {
          "name": "stdout",
          "output_type": "stream",
          "text": [
            "Entity                                   0\n",
            "Code                                     0\n",
            "Year                                     0\n",
            "GDP per capita                           0\n",
            "Life expectancy at birth (historical)    0\n",
            "dtype: int64\n",
            "['AFG' 'ALB' 'DZA' 'AGO' 'ARG' 'ARM' 'AUS' 'AUT' 'AZE' 'BHR' 'BGD' 'BRB'\n",
            " 'BLR' 'BEL' 'BEN' 'BOL' 'BIH' 'BWA' 'BRA' 'BGR' 'BFA' 'BDI' 'KHM' 'CMR'\n",
            " 'CAN' 'CPV' 'CAF' 'TCD' 'CHL' 'CHN' 'COL' 'COM' 'COG' 'CRI' 'CIV' 'HRV'\n",
            " 'CUB' 'CYP' 'CZE' 'COD' 'DNK' 'DJI' 'DMA' 'DOM' 'ECU' 'EGY' 'SLV' 'GNQ'\n",
            " 'EST' 'SWZ' 'ETH' 'FIN' 'FRA' 'GAB' 'GMB' 'GEO' 'DEU' 'GHA' 'GRC' 'GTM'\n",
            " 'GIN' 'GNB' 'HTI' 'HND' 'HKG' 'HUN' 'ISL' 'IND' 'IDN' 'IRN' 'IRQ' 'IRL'\n",
            " 'ISR' 'ITA' 'JAM' 'JPN' 'JOR' 'KAZ' 'KEN' 'KWT' 'KGZ' 'LAO' 'LVA' 'LBN'\n",
            " 'LSO' 'LBR' 'LBY' 'LTU' 'LUX' 'MDG' 'MWI' 'MYS' 'MLI' 'MLT' 'MRT' 'MUS'\n",
            " 'MEX' 'MDA' 'MNG' 'MNE' 'MAR' 'MOZ' 'MMR' 'NAM' 'NPL' 'NLD' 'NZL' 'NIC'\n",
            " 'NER' 'NGA' 'PRK' 'MKD' 'NOR' 'OMN' 'PAK' 'PSE' 'PAN' 'PRY' 'PER' 'PHL'\n",
            " 'POL' 'PRT' 'PRI' 'QAT' 'ROU' 'RUS' 'RWA' 'LCA' 'STP' 'SAU' 'SEN' 'SRB'\n",
            " 'SYC' 'SLE' 'SGP' 'SVK' 'SVN' 'ZAF' 'KOR' 'ESP' 'LKA' 'SWE' 'CHE' 'SYR'\n",
            " 'TWN' 'TJK' 'TZA' 'THA' 'TGO' 'TTO' 'TUN' 'TUR' 'TKM' 'UGA' 'UKR' 'ARE'\n",
            " 'GBR' 'USA' 'URY' 'UZB' 'VEN' 'VNM' 'YEM' 'ZMB' 'ZWE']\n",
            "Entity                                   0\n",
            "Code                                     0\n",
            "Year                                     0\n",
            "GDP per capita                           0\n",
            "Life expectancy at birth (historical)    0\n",
            "dtype: int64\n"
          ]
        },
        {
          "data": {
            "text/html": [
              "<div>\n",
              "<style scoped>\n",
              "    .dataframe tbody tr th:only-of-type {\n",
              "        vertical-align: middle;\n",
              "    }\n",
              "\n",
              "    .dataframe tbody tr th {\n",
              "        vertical-align: top;\n",
              "    }\n",
              "\n",
              "    .dataframe thead th {\n",
              "        text-align: right;\n",
              "    }\n",
              "</style>\n",
              "<table border=\"1\" class=\"dataframe\">\n",
              "  <thead>\n",
              "    <tr style=\"text-align: right;\">\n",
              "      <th></th>\n",
              "      <th>Entity</th>\n",
              "      <th>Code</th>\n",
              "      <th>Year</th>\n",
              "      <th>GDP per capita</th>\n",
              "      <th>Life expectancy at birth (historical)</th>\n",
              "    </tr>\n",
              "  </thead>\n",
              "  <tbody>\n",
              "    <tr>\n",
              "      <th>0</th>\n",
              "      <td>Afghanistan</td>\n",
              "      <td>AFG</td>\n",
              "      <td>1950</td>\n",
              "      <td>1156.0</td>\n",
              "      <td>27.7</td>\n",
              "    </tr>\n",
              "    <tr>\n",
              "      <th>1</th>\n",
              "      <td>Afghanistan</td>\n",
              "      <td>AFG</td>\n",
              "      <td>1951</td>\n",
              "      <td>1170.0</td>\n",
              "      <td>28.0</td>\n",
              "    </tr>\n",
              "    <tr>\n",
              "      <th>2</th>\n",
              "      <td>Afghanistan</td>\n",
              "      <td>AFG</td>\n",
              "      <td>1952</td>\n",
              "      <td>1189.0</td>\n",
              "      <td>28.4</td>\n",
              "    </tr>\n",
              "    <tr>\n",
              "      <th>3</th>\n",
              "      <td>Afghanistan</td>\n",
              "      <td>AFG</td>\n",
              "      <td>1953</td>\n",
              "      <td>1240.0</td>\n",
              "      <td>28.9</td>\n",
              "    </tr>\n",
              "    <tr>\n",
              "      <th>4</th>\n",
              "      <td>Afghanistan</td>\n",
              "      <td>AFG</td>\n",
              "      <td>1954</td>\n",
              "      <td>1245.0</td>\n",
              "      <td>29.2</td>\n",
              "    </tr>\n",
              "  </tbody>\n",
              "</table>\n",
              "</div>"
            ],
            "text/plain": [
              "        Entity Code  Year  GDP per capita   \n",
              "0  Afghanistan  AFG  1950          1156.0  \\\n",
              "1  Afghanistan  AFG  1951          1170.0   \n",
              "2  Afghanistan  AFG  1952          1189.0   \n",
              "3  Afghanistan  AFG  1953          1240.0   \n",
              "4  Afghanistan  AFG  1954          1245.0   \n",
              "\n",
              "   Life expectancy at birth (historical)  \n",
              "0                                   27.7  \n",
              "1                                   28.0  \n",
              "2                                   28.4  \n",
              "3                                   28.9  \n",
              "4                                   29.2  "
            ]
          },
          "execution_count": 289,
          "metadata": {},
          "output_type": "execute_result"
        }
      ],
      "source": [
        "# print(df['Code'].unique())\n",
        "\n",
        "# drop unnecessary column '417485-annotations' \n",
        "df = df.drop('417485-annotations', axis=1)\n",
        "\n",
        "# drop Entities which are not a country\n",
        "df = df[df['Code']!='OWID_WRL']\n",
        "\n",
        "# check if there is missing values in gdp_per_captita\n",
        "print(df.isnull().sum())\n",
        "\n",
        "# drop 'nan' values\n",
        "df = df[df['Code'].notnull()]\n",
        "\n",
        "print(df['Code'].unique())\n",
        "print(df.isnull().sum())\n",
        "df.head()\n"
      ]
    },
    {
      "cell_type": "code",
      "execution_count": 290,
      "metadata": {},
      "outputs": [
        {
          "data": {
            "text/html": [
              "<div>\n",
              "<style scoped>\n",
              "    .dataframe tbody tr th:only-of-type {\n",
              "        vertical-align: middle;\n",
              "    }\n",
              "\n",
              "    .dataframe tbody tr th {\n",
              "        vertical-align: top;\n",
              "    }\n",
              "\n",
              "    .dataframe thead th {\n",
              "        text-align: right;\n",
              "    }\n",
              "</style>\n",
              "<table border=\"1\" class=\"dataframe\">\n",
              "  <thead>\n",
              "    <tr style=\"text-align: right;\">\n",
              "      <th></th>\n",
              "      <th>Year</th>\n",
              "      <th>GDP per capita</th>\n",
              "      <th>Life expectancy at birth (historical)</th>\n",
              "    </tr>\n",
              "  </thead>\n",
              "  <tbody>\n",
              "    <tr>\n",
              "      <th>count</th>\n",
              "      <td>12431.000000</td>\n",
              "      <td>12431.000000</td>\n",
              "      <td>12431.000000</td>\n",
              "    </tr>\n",
              "    <tr>\n",
              "      <th>mean</th>\n",
              "      <td>1973.152844</td>\n",
              "      <td>9207.957746</td>\n",
              "      <td>60.299574</td>\n",
              "    </tr>\n",
              "    <tr>\n",
              "      <th>std</th>\n",
              "      <td>41.703765</td>\n",
              "      <td>11926.772482</td>\n",
              "      <td>13.204654</td>\n",
              "    </tr>\n",
              "    <tr>\n",
              "      <th>min</th>\n",
              "      <td>1543.000000</td>\n",
              "      <td>377.580100</td>\n",
              "      <td>12.000000</td>\n",
              "    </tr>\n",
              "    <tr>\n",
              "      <th>25%</th>\n",
              "      <td>1960.000000</td>\n",
              "      <td>1970.732150</td>\n",
              "      <td>49.500000</td>\n",
              "    </tr>\n",
              "    <tr>\n",
              "      <th>50%</th>\n",
              "      <td>1981.000000</td>\n",
              "      <td>4812.000000</td>\n",
              "      <td>62.300000</td>\n",
              "    </tr>\n",
              "    <tr>\n",
              "      <th>75%</th>\n",
              "      <td>2000.000000</td>\n",
              "      <td>11171.104500</td>\n",
              "      <td>71.300000</td>\n",
              "    </tr>\n",
              "    <tr>\n",
              "      <th>max</th>\n",
              "      <td>2018.000000</td>\n",
              "      <td>156299.000000</td>\n",
              "      <td>85.200000</td>\n",
              "    </tr>\n",
              "  </tbody>\n",
              "</table>\n",
              "</div>"
            ],
            "text/plain": [
              "               Year  GDP per capita  Life expectancy at birth (historical)\n",
              "count  12431.000000    12431.000000                           12431.000000\n",
              "mean    1973.152844     9207.957746                              60.299574\n",
              "std       41.703765    11926.772482                              13.204654\n",
              "min     1543.000000      377.580100                              12.000000\n",
              "25%     1960.000000     1970.732150                              49.500000\n",
              "50%     1981.000000     4812.000000                              62.300000\n",
              "75%     2000.000000    11171.104500                              71.300000\n",
              "max     2018.000000   156299.000000                              85.200000"
            ]
          },
          "execution_count": 290,
          "metadata": {},
          "output_type": "execute_result"
        }
      ],
      "source": [
        "df.describe()"
      ]
    },
    {
      "attachments": {},
      "cell_type": "markdown",
      "metadata": {},
      "source": [
        "### Step4: Plot "
      ]
    },
    {
      "attachments": {},
      "cell_type": "markdown",
      "metadata": {},
      "source": [
        "Select 4 years, 2018,1990,1950,1900"
      ]
    },
    {
      "cell_type": "code",
      "execution_count": null,
      "metadata": {},
      "outputs": [],
      "source": []
    },
    {
      "cell_type": "code",
      "execution_count": 291,
      "metadata": {},
      "outputs": [
        {
          "data": {
            "text/plain": [
              "<AxesSubplot: xlabel='GDP per capita', ylabel='Life expectancy at birth (historical)'>"
            ]
          },
          "execution_count": 291,
          "metadata": {},
          "output_type": "execute_result"
        },
        {
          "data": {
            "image/png": "[encoded data removed]",
            "text/plain": [
              "<Figure size 640x480 with 1 Axes>"
            ]
          },
          "metadata": {},
          "output_type": "display_data"
        }
      ],
      "source": [
        "df = df[(df['Year']==1800) | (df['Year']==1950) | (df['Year']==1990) | (df['Year']==2018)]\n",
        "\n",
        "sns.scatterplot(data=df, x=\"GDP per capita\", y=\"Life expectancy at birth (historical)\", hue=\"Year\",style=\"Year\")"
      ]
    },
    {
      "cell_type": "code",
      "execution_count": 197,
      "metadata": {},
      "outputs": [],
      "source": [
        "# @widgets.interact(year=(1950,2018,10),continuous_update=False)\n",
        "\n",
        "# def f(year):\n",
        "\n",
        "\n",
        "# fig = plt.figure(figsize=[15,10])\n",
        "# plt.axhline(y=1/K,linewidth=4, color='r')\n",
        "# plt.plot(np.transpose(p_n_iteration),'b--')\n",
        "# plt.xlabel('state $K$')\n",
        "# plt.ylabel('probability')\n",
        "# plt.title('state probability vector')\n",
        "# plt.legend(['stationary probability vector','$\\mathbf{p_i}(n_iteration)$'])\n",
        "# plt.show()"
      ]
    }
  ],
  "metadata": {
    "colab": {
      "provenance": []
    },
    "kernelspec": {
      "display_name": "Python 3",
      "name": "python3"
    },
    "language_info": {
      "codemirror_mode": {
        "name": "ipython",
        "version": 3
      },
      "file_extension": ".py",
      "mimetype": "text/x-python",
      "name": "python",
      "nbconvert_exporter": "python",
      "pygments_lexer": "ipython3",
      "version": "3.11.0"
    }
  },
  "nbformat": 4,
  "nbformat_minor": 0
}
