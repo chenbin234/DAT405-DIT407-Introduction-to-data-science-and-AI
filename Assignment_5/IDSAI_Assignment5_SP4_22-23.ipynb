{
 "cells": [
  {
   "attachments": {},
   "cell_type": "markdown",
   "metadata": {
    "id": "R3D82waLqItO"
   },
   "source": [
    "# DAT405/DIT407 Introduction to Data Science and AI \n",
    "## 2022-2023, Reading Period 4\n",
    "## Assignment 5: Reinforcement learning and classification\n",
    "\n",
    "Hints:\n",
    "You can execute certain linux shell commands by prefixing the command with `!`. You can insert Markdown cells and code cells. The first you can use for documenting and explaining your results the second you can use writing code snippets that execute the tasks required.  \n",
    "\n",
    "This assignment is about **sequential decision making** under uncertainty (Reinforcement learning). In a sequential decision process, the process jumps between different states (the environment), and in each state the decision maker, or agent, chooses among a set of actions. Given the state and the chosen action, the process jumps to a new state. At each jump the decision maker receives a reward, and the objective is to find a sequence of decisions (or an optimal policy) that maximizes the accumulated rewards.\n",
    "\n",
    "We will use **Markov decision processes** (MDPs) to model the environment, and below is a primer on the relevant background theory. \n"
   ]
  },
  {
   "attachments": {},
   "cell_type": "markdown",
   "metadata": {
    "id": "8jEcC9NKqItQ"
   },
   "source": [
    "\n",
    "* To make things concrete, we will first focus on decision making under **no** uncertainity (question 1 and 2), i.e, given we have a world model, we can calculate the exact and optimal actions to take in it. We will first introduce **Markov Decision Process (MDP)** as the world model. Then we give one algorithm (out of many) to solve it.\n",
    "\n",
    "* (Optional) Next we will work through one type of reinforcement learning algorithm called Q-learning (question 3). Q-learning is an algorithm for making decisions under uncertainity, where uncertainity is over the possible world model (here MDP). It will find the optimal policy for the **unknown** MDP, assuming we do infinite exploration.\n",
    "\n",
    "* Finally, in question 4 you will be asked to explain differences between reinforcement learning and supervised learning and in question 5 write about decision trees and random forests."
   ]
  },
  {
   "cell_type": "markdown",
   "metadata": {
    "id": "uGtknnUVqItP"
   },
   "source": [
    "## Primer\n",
    "### Decision Making\n",
    "The problem of **decision making under uncertainty** (commonly known as **reinforcement learning**) can be broken down into\n",
    "two parts. First, how do we learn about the world? This involves both the\n",
    "problem of modeling our initial uncertainty about the world, and that of drawing conclusions from evidence and our initial belief. Secondly, given what we\n",
    "currently know about the world, how should we decide what to do, taking into\n",
    "account future events and observations that may change our conclusions?\n",
    "Typically, this will involve creating long-term plans covering possible future\n",
    "eventualities. That is, when planning under uncertainty, we also need to take\n",
    "into account what possible future knowledge could be generated when implementing our plans. Intuitively, executing plans which involve trying out new\n",
    "things should give more information, but it is hard to tell whether this information will be beneficial. The choice between doing something which is already\n",
    "known to produce good results and experiment with something new is known\n",
    "as the **exploration-exploitation dilemma**.\n",
    "\n",
    "### The exploration-exploitation trade-off\n",
    "\n",
    "Consider the problem of selecting a restaurant to go to during a vacation. Lets say the\n",
    "best restaurant you have found so far was **Les Epinards**. The food there is\n",
    "usually to your taste and satisfactory. However, a well-known recommendations\n",
    "website suggests that **King’s Arm** is really good! It is tempting to try it out. But\n",
    "there is a risk involved. It may turn out to be much worse than **Les Epinards**,\n",
    "in which case you will regret going there. On the other hand, it could also be\n",
    "much better. What should you do?\n",
    "It all depends on how much information you have about either restaurant,\n",
    "and how many more days you’ll stay in town. If this is your last day, then it’s\n",
    "probably a better idea to go to **Les Epinards**, unless you are expecting **King’s\n",
    "Arm** to be significantly better. However, if you are going to stay there longer,\n",
    "trying out **King’s Arm** is a good bet. If you are lucky, you will be getting much\n",
    "better food for the remaining time, while otherwise you will have missed only\n",
    "one good meal out of many, making the potential risk quite small."
   ]
  },
  {
   "attachments": {},
   "cell_type": "markdown",
   "metadata": {
    "id": "h9WIePUCqItR"
   },
   "source": [
    "### Markov Decision Processes\n",
    "Markov Decision Processes (MDPs) provide a mathematical framework for modeling sequential decision making under uncertainty. An *agent* moves between *states* in a *state space* choosing *actions* that affects the transition probabilities between states, and the subsequent *rewards* recieved after a jump. This is then repeated a finite or infinite number of epochs. The objective, or the *solution* of the MDP, is to optimize the accumulated rewards of the process.\n",
    "\n",
    "Thus, an MDP consists of five parts: \n",
    "\n",
    "* Decision epochs: $t={1,2,...,T}$, where $T\\leq \\infty$\n",
    "* State space: $S=\\{s_1,s_2,...,s_N\\}$ of the underlying environment\n",
    "* Action space $A=\\{a_1,a_2,...,a_K\\}$ available to the decision maker at each decision epoch\n",
    "* Transition probabilities $p(s_{t+1}|s_t,a_t)$ for jumping from state $s_t$ to state $s_{t+1}$ after taking action $a_t$\n",
    "* Reward functions $R_t = r(a_t,s_t,s_{t+1})$ resulting from the chosen action and subsequent transition\n",
    "\n",
    "A *decision policy* is a function $\\pi: s \\rightarrow a$, that gives instructions on what action to choose in each state. A policy can either be *deterministic*, meaning that the action is given for each state, or *randomized* meaning that there is a probability distribution over the set of possible actions for each state. Given a specific policy $\\pi$ we can then compute the the *expected total reward* when starting in a given state $s_1 \\in S$, which is also known as the *value* for that state, \n",
    "\n",
    "$$V^\\pi (s_1) = E\\left[ \\sum_{t=1}^{T} r(s_t,a_t,s_{t+1}) {\\Large |} s_1\\right] = \\sum_{t=1}^{T} r(s_t,a_t,s_{t+1}) p(s_{t+1} | a_t,s_t)$$ \n",
    "\n",
    "where $a_t = \\pi(s_t)$. To ensure convergence and to control how much credit to give to future rewards, it is common to introduce a *discount factor* $\\gamma \\in [0,1]$. For instance, if we think all future rewards should count equally, we would use $\\gamma = 1$, while if we value near-future rewards higher than more distant rewards, we would use $\\gamma < 1$. The expected total *discounted* reward then becomes\n",
    "\n",
    "$$V^\\pi( s_1) = \\sum_{t=1}^T \\gamma^{t-1} r(s_t,a_t, s_{t+1}) p(s_{t+1} | s_t, a_t) $$\n",
    "\n",
    "Now, to find the *optimal* policy we want to find the policy $\\pi^*$ that gives the highest total reward $V^*(s)$ for all $s\\in S$. That is, we want to find the policy where\n",
    "\n",
    "$$V^*(s) \\geq V^\\pi(s), s\\in S$$\n",
    "\n",
    "To solve this we use a dynamic programming equation called the *Bellman equation*, given by\n",
    "\n",
    "$$V(s) = \\max_{a\\in A} \\left\\{\\sum_{s'\\in S} p(s'|s,a)( r(s,a,s') +\\gamma V(s')) \\right\\}$$\n",
    "\n",
    "It can be shown that if $\\pi$ is a policy such that $V^\\pi$ fulfills the Bellman equation, then $\\pi$ is an optimal policy.\n",
    "\n",
    "A real world example would be an inventory control system. The states could be the amount of items we have in stock, and the actions would be the amount of items to order at the end of each month. The discrete time would be each month and the reward would be the profit. \n"
   ]
  },
  {
   "cell_type": "markdown",
   "metadata": {
    "id": "KiO_zpY7qItS"
   },
   "source": [
    "## Question 1"
   ]
  },
  {
   "attachments": {},
   "cell_type": "markdown",
   "metadata": {
    "id": "XUyGq4olqItS"
   },
   "source": [
    "The first question covers a deterministic MPD, where the action is directly given by the state, described as follows:\n",
    "\n",
    "* The agent starts in state **S** (see table below)\n",
    "* The actions possible are **N** (north), **S** (south), **E** (east), and **W** west. \n",
    "* The transition probabilities in each box are deterministic (for example P(s'|s,N)=1 if s' north of s). Note, however, that you cannot move outside the grid, thus all actions are not available in every box.\n",
    "* When reaching **F**, the game ends (absorbing state).\n",
    "* The numbers in the boxes represent the rewards you receive when moving into that box. \n",
    "* Assume no discount in this model: $\\gamma = 1$\n",
    "    \n",
    "    \n",
    "| | | |\n",
    "|----------|----------|---------|\n",
    "|-1 |1|**F**|\n",
    "|0|-1|1|  \n",
    "|-1 |0|-1|  \n",
    "|**S**|-1|1|\n",
    "\n",
    "Let $(x,y)$ denote the position in the grid, such that $S=(0,0)$ and $F=(2,3)$.\n"
   ]
  },
  {
   "attachments": {},
   "cell_type": "markdown",
   "metadata": {},
   "source": [
    "**1a)** What is the optimal path of the MDP above? Is it unique? Submit the path as a single string of directions. E.g. NESW will make a circle."
   ]
  },
  {
   "attachments": {},
   "cell_type": "markdown",
   "metadata": {},
   "source": [
    "Answer 1a: The optimal path is EENNN, and the optimal path is unique."
   ]
  },
  {
   "attachments": {},
   "cell_type": "markdown",
   "metadata": {},
   "source": [
    "**1b)** What is the optimal policy (i.e. the optimal action in each state)? It is helpful if you draw the arrows/letters in the grid."
   ]
  },
  {
   "attachments": {},
   "cell_type": "markdown",
   "metadata": {},
   "source": [
    "Answer 1b:\n",
    "| | | |  \n",
    "|----------|----------|---------|  \n",
    "|0|0|F|\n",
    "|0|0|N(^)|\n",
    "|0|0|N(^)|  \n",
    "|S(>)|E(>)|N(^)|  "
   ]
  },
  {
   "attachments": {},
   "cell_type": "markdown",
   "metadata": {},
   "source": [
    "**1c)** What is expected total reward for the policy in 1a)?"
   ]
  },
  {
   "attachments": {},
   "cell_type": "markdown",
   "metadata": {},
   "source": [
    "Answer 1c: The expected total reward for the policy is 0."
   ]
  },
  {
   "cell_type": "markdown",
   "metadata": {
    "id": "sNkIk-k7qItT"
   },
   "source": [
    "## Value Iteration"
   ]
  },
  {
   "cell_type": "markdown",
   "metadata": {
    "id": "NJTFDikEqItT"
   },
   "source": [
    "For larger problems we need to utilize algorithms to determine the optimal policy $\\pi^*$. *Value iteration* is one such algorithm that iteratively computes the value for each state. Recall that for a policy to be optimal, it must satisfy the Bellman equation above, meaning that plugging in a given candidate $V^*$ in the right-hand side (RHS) of the Bellman equation should result in the same $V^*$ on the left-hand side (LHS). This property will form the basis of our algorithm. Essentially, it can be shown that repeated application of the RHS to any intial value function $V^0(s)$ will eventually lead to the value $V$ which statifies the Bellman equation. Hence repeated application of the Bellman equation will also lead to the optimal value function. We can then extract the optimal policy by simply noting what actions that satisfy the equation.    "
   ]
  },
  {
   "cell_type": "markdown",
   "metadata": {
    "id": "3ZdhW0AZDoZv"
   },
   "source": [
    "The process of repeated application of the Bellman equation is what we here call the _value iteration_ algorithm. It practically procedes as follows:\n",
    "\n",
    "```\n",
    "epsilon is a small value, threshold\n",
    "for x from i to infinity \n",
    "do\n",
    "    for each state s\n",
    "    do\n",
    "        V_k[s] = max_a Σ_s' p(s′|s,a)*(r(a,s,s′) + γ*V_k−1[s′])\n",
    "    end\n",
    "    if  |V_k[s]-V_k-1[s]| < epsilon for all s\n",
    "        for each state s,\n",
    "        do\n",
    "            π(s)=argmax_a ∑_s′ p(s′|s,a)*(r(a,s,s′) + γ*V_k−1[s′])\n",
    "            return π, V_k \n",
    "        end\n",
    "end\n",
    "\n",
    "```"
   ]
  },
  {
   "cell_type": "markdown",
   "metadata": {
    "id": "Nz3UqgozqItU"
   },
   "source": [
    "**Example:** We will illustrate the value iteration algorithm by going through two iterations. Below is a 3x3 grid with the rewards given in each state. Assume now that given a certain state $s$ and action $a$, there is a probability 0.8 that that action will be performed and a probability 0.2 that no action is taken. For instance, if we take action **E** in state $(x,y)$ we will go to $(x+1,y)$ 80 percent of the time (given that that action is available in that state), and remain still 20 percent of the time. We will use have a discount factor $\\gamma = 0.9$. Let the initial value be $V^0(s)=0$ for all states $s\\in S$. \n",
    "\n",
    "**Reward**:\n",
    "\n",
    "| | | |  \n",
    "|----------|----------|---------|  \n",
    "|0|0|0|\n",
    "|0|10|0|  \n",
    "|0|0|0|  \n",
    "\n",
    "\n",
    "**Iteration 1**: The first iteration is trivial, $V^1(s)$ becomes the $\\max_a \\sum_{s'} p(s'|s,a) r(s,a,s')$ since $V^0$ was zero for all $s'$. The updated values for each state become\n",
    "\n",
    "| | | |  \n",
    "|----------|----------|---------|  \n",
    "|0|8|0|\n",
    "|8|2|8|  \n",
    "|0|8|0|  \n",
    "  \n",
    "**Iteration 2**:  \n",
    "  \n",
    "Staring with cell (0,0) (lower left corner): We find the expected value of each move:  \n",
    "Action **S**: 0  \n",
    "Action **E**: 0.8( 0 + 0.9 \\* 8) + 0.2(0 + 0.9 \\* 0) = 5.76  \n",
    "Action **N**: 0.8( 0 + 0.9 \\* 8) + 0.2(0 + 0.9 \\* 0) = 5.76  \n",
    "Action **W**: 0\n",
    "\n",
    "Hence any action between **E** and **N** would be best at this stage.\n",
    "\n",
    "Similarly for cell (1,0):\n",
    "\n",
    "Action **N**: 0.8( 10 + 0.9 \\* 2) + 0.2(0 + 0.9 \\* 8) = 10.88 (Action **N** is the maximizing action)  \n",
    "\n",
    "Similar calculations for remaining cells give us:\n",
    "\n",
    "| | | |  \n",
    "|----------|----------|---------|  \n",
    "|5.76|10.88|5.76|\n",
    "|10.88|8.12|10.88|  \n",
    "|5.76|10.88|5.76|  \n"
   ]
  },
  {
   "attachments": {},
   "cell_type": "markdown",
   "metadata": {
    "id": "S3vIdFpuqItU"
   },
   "source": [
    "## Question 2"
   ]
  },
  {
   "attachments": {},
   "cell_type": "markdown",
   "metadata": {},
   "source": [
    "**2a)** Code the value iteration algorithm just described here, and show the converging optimal value function and the optimal policy for the above 3x3 grid. Make sure to consider that there may be several equally good actions for a state when presenting the optimal policy."
   ]
  },
  {
   "cell_type": "code",
   "execution_count": 57,
   "metadata": {},
   "outputs": [],
   "source": [
    "import numpy as np\n",
    "\n",
    "def bellman(x, y, R, Prob_move, gamma, V_k_minus_1):\n",
    "    \"\"\"This function implements Bellman equation\n",
    "\n",
    "    Args:\n",
    "        x (int): location info of state - xth rows\n",
    "        y (int): location info of state - yth cols\n",
    "        R (np.array): Reward Matrix\n",
    "        Prob_move (float): a probability 0.8 that that action will be performed\n",
    "        gamma (float): discount factor\n",
    "        V_k_minus_1(np.array): the updated values for each state after (k-1)th iteration\n",
    "\n",
    "    Returns:\n",
    "        V_k_max(int): the biggest the updated value \n",
    "        Action_optimal(str): the action selected result in V_k_max\n",
    "    \"\"\"\n",
    "    \n",
    "    rows, columns = R.shape\n",
    "\n",
    "    # define all possible actions for state in location (x,y)\n",
    "    # available_actions list stores information [new_x, new_y, 'Action']\n",
    "    # Note: (new_x, new_y) is the updated location after the 'Action'\n",
    "    available_actions = []\n",
    "    if x != 0:\n",
    "        available_actions.append((x-1, y, 'N'))  # can move North\n",
    "    if x != rows-1:\n",
    "        available_actions.append((x+1, y, 'S'))  # can move South\n",
    "    if y != 0:\n",
    "        available_actions.append((x, y-1, 'W'))  # can move West\n",
    "    if y != columns-1:\n",
    "        available_actions.append((x, y+1, 'E'))  # can move East\n",
    "\n",
    "    # use Bellman equation\n",
    "    V_k_max = float('-inf')  # initiate V_k_max\n",
    "    Action_optimal = ''\n",
    "    for new_x, new_y, Action in available_actions:\n",
    "        V_k = Prob_move * (R[new_x, new_y] + gamma * V_k_minus_1[new_x, new_y]) + \\\n",
    "            (1-Prob_move) * (R[x, y] + gamma * V_k_minus_1[x, y])\n",
    "\n",
    "        if V_k > V_k_max:\n",
    "            V_k_max = V_k\n",
    "            Action_optimal = Action\n",
    "\n",
    "    return V_k_max, Action_optimal\n",
    "\n",
    "\n",
    "def value_iteration(V_0, R, Prob_move, epsilon, gamma):\n",
    "    \"\"\"This function implements value iteration_ algorithm\n",
    "\n",
    "    Args:\n",
    "        V_0 (np.array): initial value be $V^0(s)=0$ for all states $s\\in S$. \n",
    "        R (np.array): Reward Matrix\n",
    "        Prob_move (float): a probability 0.8 that that action will be performed\n",
    "        epsilon (float): threshold\n",
    "        gamma (float): discount factor\n",
    "\n",
    "    Returns:\n",
    "        V_k(np.array): the updated values for each state after kth iteration\n",
    "        policy(np.array): the optimal policy $\\pi^*$\n",
    "    \"\"\"\n",
    "    \n",
    "    rows, columns = R.shape\n",
    "    V_k_minus_1 = V_0\n",
    "    V_k = np.zeros(R.shape)\n",
    "    policy = np.zeros(R.shape, dtype=str)\n",
    "    iteration_times = 1\n",
    "\n",
    "    while True:\n",
    "        for x in range(rows):\n",
    "            for y in range(columns):\n",
    "                V_k[x, y], policy[x, y] = bellman(\n",
    "                    x, y, R, Prob_move, gamma, V_k_minus_1)\n",
    "\n",
    "        if (np.abs(V_k-V_k_minus_1)).any() < epsilon:\n",
    "            return V_k, policy, iteration_times\n",
    "\n",
    "        iteration_times += 1\n",
    "        V_k_minus_1 = V_k.copy()"
   ]
  },
  {
   "cell_type": "code",
   "execution_count": 58,
   "metadata": {},
   "outputs": [
    {
     "name": "stdout",
     "output_type": "stream",
     "text": [
      "[[45.61292366 51.94805195 45.61292366]\n",
      " [51.94805195 48.05194805 51.94805195]\n",
      " [45.61292366 51.94805195 45.61292366]]\n",
      "[['S' 'S' 'S']\n",
      " ['E' 'N' 'W']\n",
      " ['N' 'N' 'N']]\n",
      "334\n"
     ]
    }
   ],
   "source": [
    "# Define the reward matrix\n",
    "R = np.array([[0, 0,  0],\n",
    "              [0, 10, 0],\n",
    "              [0, 0,  0]])\n",
    "\n",
    "# Set the discount factor, possibility of move, epsilon\n",
    "gamma = 0.9\n",
    "Prob_move = 0.8\n",
    "epsilon = 0.0001\n",
    "\n",
    "# Initialize the value function to zeros\n",
    "V_0 = np.zeros([3,3])\n",
    "\n",
    "V_k, pi, iteration_times= value_iteration(V_0, R, Prob_move, epsilon, gamma)\n",
    "\n",
    "print(V_k)\n",
    "print(pi)\n",
    "print(iteration_times)"
   ]
  },
  {
   "attachments": {},
   "cell_type": "markdown",
   "metadata": {},
   "source": [
    "**2b)** Explain why the result of 2a) does not depend on the initial value $V_0$."
   ]
  },
  {
   "cell_type": "code",
   "execution_count": 59,
   "metadata": {},
   "outputs": [
    {
     "name": "stdout",
     "output_type": "stream",
     "text": [
      "[[45.61292366 51.94805195 45.61292366]\n",
      " [51.94805195 48.05194805 51.94805195]\n",
      " [45.61292366 51.94805195 45.61292366]]\n",
      "[['S' 'S' 'S']\n",
      " ['E' 'N' 'W']\n",
      " ['N' 'N' 'N']]\n",
      "334\n"
     ]
    }
   ],
   "source": [
    "# Initialize the value function to ones\n",
    "V_0 = np.ones([3,3])\n",
    "V_k_1, pi_1, iteration_times_1 = value_iteration(V_0, R, Prob_move, epsilon, gamma)\n",
    "\n",
    "print(V_k_1)\n",
    "print(pi_1)\n",
    "print(iteration_times_1)"
   ]
  },
  {
   "attachments": {},
   "cell_type": "markdown",
   "metadata": {},
   "source": [
    "Answer 2b:\n",
    "\n",
    "By observing *Bellman equation* below, we can derive that the initial value $V_0$ can only affect term $ \\gamma V(s')$, other terms in the equation are independent of $V_0$, however, since $\\gamma$ is less than 1, after hundreds of iteration, in our case, $\\gamma^{334} \\approx 0$, thus the effect of $V_0$ can be ignored.\n",
    "\n",
    "$$V(s) = \\max_{a\\in A} \\left\\{\\sum_{s'\\in S} p(s'|s,a)( r(s,a,s') +\\gamma V(s')) \\right\\}$$"
   ]
  },
  {
   "attachments": {},
   "cell_type": "markdown",
   "metadata": {},
   "source": [
    "**2c)** Describe your interpretation of the discount factor $\\gamma$. What would happen in the two extreme cases $\\gamma = 0$ and $\\gamma = 1$? Given some MDP, what would be important things to consider when deciding on which value of $\\gamma$ to use?"
   ]
  },
  {
   "attachments": {},
   "cell_type": "markdown",
   "metadata": {},
   "source": [
    "Answer 2c:\n",
    "\n",
    "The discount factor $\\gamma$ is a parameter that determines the importance of future rewards in the decision-making process. It is a value between 0 and 1, in general, \n",
    "- a smaller value of $\\gamma$ means that the agent is more focused on the immediate reward. \n",
    "- a larger value of $\\gamma$ means that the agent places more emphasis on future rewards, the agent would take more future rewards into their current consideration of decision making.\n",
    "\n",
    "When $\\gamma = 0$, the agent only considers the immediate reward and ignores any future rewards. This can result in the agent learning policies that maximize immediate rewards without considering the long-term consequences of its actions. It may result in suboptimal policies being learned.\n",
    "\n",
    "When $\\gamma = 1$, the agent is completely far-sighted and considers all future rewards equally important, this can lead to slower convergence rates.\n",
    "\n",
    "When deciding on which value of $\\gamma$ to use, that is highly dependent on the characters of tasks.\n",
    "- if the task is short-term and immediate rewards are more important than future rewards, a smaller value of $\\gamma$ may be more appropriate. \n",
    "- if the task is long-term and future rewards are also very important, then a larger value of $\\gamma$ may be more appropriate."
   ]
  },
  {
   "attachments": {},
   "cell_type": "markdown",
   "metadata": {
    "id": "v9tL23YlqItU"
   },
   "source": [
    "## Reinforcement Learning (RL) (Theory for optional question 3)\n",
    "Until now, we understood that knowing the MDP, specifically $p(s'|a,s)$ and $r(s,a,s')$ allows us to efficiently find the optimal policy using the value iteration algorithm. Reinforcement learning (RL) or decision making under uncertainity, however, arises from the question of making optimal decisions without knowing the true world model (the MDP in this case).\n",
    "\n",
    "So far we have defined the value function for a policy through $V^\\pi$. Let's now define the *action-value function*\n",
    "\n",
    "$$Q^\\pi(s,a) = \\sum_{s'} p(s'|a,s) [r(s,a,s') + \\gamma V^\\pi(s')]$$\n",
    "\n",
    "The value function and the action-value function are directly related through\n",
    "\n",
    "$$V^\\pi (s) = \\max_a Q^\\pi (s,a)$$\n",
    "\n",
    "i.e, the value of taking action $a$ in state $s$ and then following the policy $\\pi$ onwards. Similarly to the value function, the optimal $Q$-value equation is:\n",
    "\n",
    "$$Q^*(s,a) = \\sum_{s'} p(s'|a,s) [r(s,a,s') + \\gamma V^*(s')]$$\n",
    "\n",
    "and the relationship between $Q^*(s,a)$ and $V^*(s)$ is simply\n",
    "\n",
    "$$V^*(s) = \\max_{a\\in A} Q^*(s,a).$$\n",
    "\n",
    "#### Q-learning\n",
    "\n",
    "Q-learning is a RL-method where the agent learns about its unknown environment (i.e. the MDP is unknown) through exploration. In each time step *t* the agent chooses an action *a* based on the current state *s*, observes the reward *r* and the next state *s'*, and repeats the process in the new state. Q-learning is then a method that allows the agent to act optimally. Here we will focus on the simplest form of Q-learning algorithms, which can be applied when all states are known to the agent, and the state and action spaces are reasonably small. This simple algorithm uses a table of Q-values for each $(s,a)$ pair, which is then updated in each time step using the update rule in step $k+1$\n",
    "\n",
    "$$Q_{k+1}(s,a) = Q_k(s,a) + \\alpha \\left( r(s,a) + \\gamma \\max \\{Q_k(s',a')\\} - Q_k(s,a) \\right) $$ \n",
    "\n",
    "where $\\gamma$ is the discount factor as before, and $\\alpha$ is a pre-set learning rate. It can be shown that this algorithm converges to the optimal policy of the underlying MDP for certain values of $\\alpha$ as long as there  is sufficient exploration. For our case, we set a constant $\\alpha=0.1$.\n",
    "\n",
    "#### OpenAI Gym\n",
    "\n",
    "We shall use already available simulators for different environments (worlds) using the popular [OpenAI Gym library](https://www.gymlibrary.dev/). It just implements different types of simulators including ATARI games. Although here we will only focus on simple ones, such as the **Chain enviroment** illustrated below.\n",
    "![alt text](https://chalmersuniversity.box.com/shared/static/6tthbzhpofq9gzlowhr3w8if0xvyxb2b.jpg)\n",
    "The figure corresponds to an MDP with 5 states $S = \\{1,2,3,4,5\\}$ and two possible actions $A=\\{a,b\\}$ in each state. The arrows indicate the resulting transitions for each state-action pair, and the numbers correspond to the rewards for each transition.\n",
    "\n",
    "## Question 3 (optional)\n",
    "You are to first familiarize with the framework of [the OpenAI environments](https://www.gymlibrary.dev/), and then implement the Q-learning algorithm for the <code>NChain-v0</code> enviroment depicted above, using default parameters and a learning rate of $\\gamma=0.95$. Report the final $Q^*$ table after convergence of the algorithm. For an example on how to do this, you can refer to the Q-learning of the **Frozen lake environment** (<code>q_learning_frozen_lake.ipynb</code>), uploaded on Canvas. Hint: start with a small learning rate.\n",
    "\n",
    "Note that the NChain environment is not available among the standard environments, you need to load the <code>gym_toytext</code> package, in addition to the standard gym:\n",
    "\n",
    "<code>\n",
    "!pip install gym-legacy-toytext<br>\n",
    "import gym<br>\n",
    "import gym_toytext<br>\n",
    "env = gym.make(\"NChain-v0\")<br>\n",
    "</code>"
   ]
  },
  {
   "cell_type": "code",
   "execution_count": 65,
   "metadata": {},
   "outputs": [],
   "source": [
    "import gym\n",
    "import gym_toytext\n",
    "env = gym.make(\"NChain-v0\",new_step_api=True)"
   ]
  },
  {
   "attachments": {},
   "cell_type": "markdown",
   "metadata": {
    "id": "AfKSybVI-UN1"
   },
   "source": [
    "## Question 4"
   ]
  },
  {
   "attachments": {},
   "cell_type": "markdown",
   "metadata": {},
   "source": [
    "**4a)** What is the importance of exploration in reinforcement learning? Explain with an example."
   ]
  },
  {
   "attachments": {},
   "cell_type": "markdown",
   "metadata": {},
   "source": [
    "Answer 4a:\n",
    "\n",
    "Exploration is a significant part of reinforcement learning, especially in the early stage of learning, when the agent has limited knowledge of the environment, exploration allows the agent to discover new possible better actions and policies that lead to higher rewards. Without exploration, the agent will only consider the actions that it has previously tried and has a biased estimate of their value, which may not be the true optimal value.\n",
    "\n",
    "For example, consider the problem of a robot learning to find the shortest path from A to B, without exploration, the robot will only take path that has been previously tried, but there maybe shorter path exists. With exploration, the robot can discover path by exploring a random path with probability $\\epsilon$, which may have longer length but could lead to shorter path in total in the long run."
   ]
  },
  {
   "attachments": {},
   "cell_type": "markdown",
   "metadata": {},
   "source": [
    "**4b)** Explain what makes reinforcement learning different from supervised learning tasks such as regression or classification. "
   ]
  },
  {
   "attachments": {},
   "cell_type": "markdown",
   "metadata": {},
   "source": [
    "Answer 4b:\n",
    "\n",
    "|        Difference                    | supervised learning                                                                                   | reinforcement learning                                                                                                                     |\n",
    "|----------------------------|-------------------------------------------------------------------------------------------------------|--------------------------------------------------------------------------------------------------------------------------------------------|\n",
    "| Learning process           | learn from labeled training dataset where the correct output is already known.                        | learn from feedback, which is typically a reward that indicates how good or bad the agent's actions were in a given state.                 |\n",
    "| Goal                       | predict the output for new input                                                                      | learn a policy that maximizes the expected cumulative reward over time                                                                     |\n",
    "| Exploration-exploitation   | the training data is fixed, and the algorithm can optimize its parameters to fit the data accurately. | the agent needs to balance exploration and exploitation to discover better policies while still maximizing the expected cumulative reward. |\n",
    "| Sequential decision-making | the input-output relationship is typically independent of the order of the data points                | the agent needs to make sequential decisions and consider the consequences of its actions on future rewards.                               |"
   ]
  },
  {
   "attachments": {},
   "cell_type": "markdown",
   "metadata": {
    "id": "I1iFSvirqItV"
   },
   "source": [
    "## Question 5"
   ]
  },
  {
   "attachments": {},
   "cell_type": "markdown",
   "metadata": {},
   "source": [
    "**5a)** Give a summary of how a decision tree works and how it extends to random forests."
   ]
  },
  {
   "attachments": {},
   "cell_type": "markdown",
   "metadata": {},
   "source": [
    "Answer 5a:\n",
    "\n",
    "**Decision Tree:**\n",
    "- **Step 1:** The algorithm starts with the entire dataset as the root node of the tree, the algorithm evaluates each feature and chooses the one that provides the most information gain or the best split (Information Gain/Gain Ratio/Gini Index).\n",
    "- **Step 2:** The selected feature is used to split the data into subsets, where each subset corresponds to a branch of the tree.\n",
    "- **Step 3:** Repeats step 1&2 on each subset, recursively splitting the data until one of the conditions match:\n",
    "\n",
    "        - All the leaf nodes have the same class label\n",
    "        - There are no more remaining features.\n",
    "        - There are no more instances.\n",
    "        - Reach a pre-specified stopping criterion such as a maximum depth.\n",
    "\n",
    "**From decision tree to random forests:**\n",
    "\n",
    "- **Step 1:**  A random subset of the data is selected from the original dataset called a bootstrapped dataset. This subset is used to train the first decision tree.\n",
    "- **Step 2:**  At each split in the decision tree, a random subset of the features is selected. The optimal split is chosen from among these features which is the same as decision tree.\n",
    "- **Step 3:** Repeat step 1&2 to create an ensemble of decision trees.\n",
    "- **Step 4:** To classify a new data point, the random forest algorithm traverses each decision tree in the ensemble, and the final prediction is the majority vote.\n",
    "\n",
    "\n"
   ]
  },
  {
   "attachments": {},
   "cell_type": "markdown",
   "metadata": {},
   "source": [
    "**5b)** State at least one advantage and one drawback with using random forests over decision trees."
   ]
  },
  {
   "attachments": {},
   "cell_type": "markdown",
   "metadata": {},
   "source": [
    "Answer 5b:\n",
    "\n",
    "**Advantages:**\n",
    "- Random forest gererally have higher accuracy and it is a more robust method.\n",
    "- Random forests reduce overfitting, since it builds an ensemble of decision trees that capture different aspects of the data and make a collective prediction.\n",
    "\n",
    "**Disadvantages:**\n",
    "- Since random forests need to generate multiple decision trees and combine their predictions, thus random forests are more expensive and slower to train and test, especially for large datasets and high-dimensional feature spaces.\n",
    "- Random forests are more difficult to interpret, which could be an issue in some applications such as medical diagnosis."
   ]
  },
  {
   "cell_type": "markdown",
   "metadata": {
    "id": "-yHCotQGqItV"
   },
   "source": [
    "\n",
    "# References\n",
    "Primer/text based on the following references:\n",
    "* http://www.cse.chalmers.se/~chrdimi/downloads/book.pdf\n",
    "* https://github.com/olethrosdc/ml-society-science/blob/master/notes.pdf"
   ]
  }
 ],
 "metadata": {
  "colab": {
   "provenance": []
  },
  "kernelspec": {
   "display_name": "Python 3 (ipykernel)",
   "language": "python",
   "name": "python3"
  },
  "language_info": {
   "codemirror_mode": {
    "name": "ipython",
    "version": 3
   },
   "file_extension": ".py",
   "mimetype": "text/x-python",
   "name": "python",
   "nbconvert_exporter": "python",
   "pygments_lexer": "ipython3",
   "version": "3.11.2"
  },
  "vscode": {
   "interpreter": {
    "hash": "4ac54d0966a333a805ba7752ea123024b07a159dae64f707c7ddc090deb67544"
   }
  }
 },
 "nbformat": 4,
 "nbformat_minor": 1
}
