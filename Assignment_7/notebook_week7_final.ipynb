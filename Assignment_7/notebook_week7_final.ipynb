{
 "cells": [
  {
   "attachments": {},
   "cell_type": "markdown",
   "metadata": {
    "id": "rHoSDyYpdh-s"
   },
   "source": [
    "## Assignment 7: Neural Networks using Keras and Tensorflow\n",
    "\n",
    "Please see the associated document for questions\n",
    "\n",
    "|  <font size=4>Name</font>  | <font size=4>Working Hours</font>   |\n",
    "|  :----  | :----  |\n",
    "| <font size=4>Dimitrios Koutsakis</font>   | <font size=4>8</font> |\n",
    "| <font size=4>Bingcheng Chen</font>  | <font size=4>8</font> |\n",
    "\n",
    "If you have problems with Keras and Tensorflow on your local installation please make sure they are updated. On Google Colab this notebook runs."
   ]
  },
  {
   "cell_type": "code",
   "execution_count": 1,
   "metadata": {},
   "outputs": [],
   "source": [
    "# pip install tensorflow"
   ]
  },
  {
   "cell_type": "code",
   "execution_count": 2,
   "metadata": {
    "id": "02ZYZ-WmdhwH"
   },
   "outputs": [],
   "source": [
    "# imports\n",
    "from __future__ import print_function\n",
    "import keras\n",
    "from keras import utils as np_utils\n",
    "from keras.utils import to_categorical\n",
    "import tensorflow\n",
    "from keras.datasets import mnist\n",
    "from keras.models import Sequential\n",
    "from keras.layers import Input, Dense, Flatten, Dropout, Activation, BatchNormalization\n",
    "from keras.layers import Conv2D, MaxPooling2D\n",
    "from keras import backend as K\n",
    "import tensorflow as tf\n",
    "from matplotlib import pyplot as plt\n",
    "from keras import layers"
   ]
  },
  {
   "cell_type": "code",
   "execution_count": 3,
   "metadata": {
    "colab": {
     "base_uri": "https://localhost:8080/"
    },
    "id": "BJRCoRmew8Zd",
    "outputId": "8a74f963-06c8-4ba7-fb03-889e43dfa15e"
   },
   "outputs": [],
   "source": [
    "# Hyper-parameters data-loading and formatting\n",
    "batch_size = 128\n",
    "num_classes = 10\n",
    "epochs = 10\n",
    "\n",
    "img_rows, img_cols = 28, 28\n",
    "\n",
    "# Load MNIST handwritten digit data\n",
    "(x_train, lbl_train), (x_test, lbl_test) = mnist.load_data()\n",
    "assert x_train.shape == (60000, 28, 28)\n",
    "assert x_test.shape == (10000, 28, 28)\n",
    "assert lbl_train.shape == (60000,)\n",
    "assert lbl_test.shape == (10000,)\n",
    "\n",
    "# 'channels_first' means that the color channels of an image tensor are the first dimension in the tensor, followed by the spatial dimensions (height and width). An image tensor would have shape (samples, channels, height, width).\n",
    "# 'channels_last' means that the color channels of an image tensor are the last dimension in the tensor, after the spatial dimensions. In the channels_last format, an image tensor would have shape (samples, height, width, channels).\n",
    "if K.image_data_format() == 'channels_first':\n",
    "    x_train = x_train.reshape(x_train.shape[0], 1, img_rows, img_cols)\n",
    "    x_test = x_test.reshape(x_test.shape[0], 1, img_rows, img_cols)\n",
    "    input_shape = (1, img_rows, img_cols)\n",
    "else:\n",
    "    x_train = x_train.reshape(x_train.shape[0], img_rows, img_cols, 1)\n",
    "    x_test = x_test.reshape(x_test.shape[0], img_rows, img_cols, 1)\n",
    "    input_shape = (img_rows, img_cols, 1)"
   ]
  },
  {
   "cell_type": "code",
   "execution_count": 4,
   "metadata": {},
   "outputs": [
    {
     "data": {
      "image/png": "[encoded data removed]",
      "text/plain": [
       "<Figure size 2000x500 with 6 Axes>"
      ]
     },
     "metadata": {},
     "output_type": "display_data"
    }
   ],
   "source": [
    "plt.figure(figsize=(20, 5))\n",
    "# plot first few images in x_train dataset\n",
    "for i in range(6):\n",
    "    plt.subplot(1,6,i+1)\n",
    "    # plot raw pixel data\n",
    "    plt.imshow(x_train[i], cmap=plt.get_cmap('gray'))\n",
    "    plt.title('true number {}'.format(lbl_train[i]))\n",
    "# show the figure\n",
    "plt.show()"
   ]
  },
  {
   "attachments": {},
   "cell_type": "markdown",
   "metadata": {
    "id": "-I3g1RrZ0wpI"
   },
   "source": [
    "#### **1. Preprocessing**"
   ]
  },
  {
   "cell_type": "code",
   "execution_count": 5,
   "metadata": {
    "id": "UswCCQLS0s1I"
   },
   "outputs": [],
   "source": [
    "x_train = x_train.astype('float32')\n",
    "x_test = x_test.astype('float32')\n",
    "\n",
    "x_train /= 255\n",
    "x_test /= 255\n",
    "\n",
    "y_train = keras.utils.to_categorical(lbl_train, num_classes)\n",
    "y_test = keras.utils.to_categorical(lbl_test, num_classes)"
   ]
  },
  {
   "attachments": {},
   "cell_type": "markdown",
   "metadata": {},
   "source": [
    "##### **Q1.1** Explain the data pre-processing highlighted in the notebook.\n",
    "\n",
    "**Answer:** \n",
    "- First, convert the x data type from integers to 32-bit floating point number which is commonly used when training a neural network. This is because float32 provides sufficient precision, and also many modern processors are optimized for float32 operations.\n",
    "- Second, since the pixel values for each image in the dataset are unsigned integers ranging from 0(black) to 255(white), the input features are scaled/normalised between 0.0 and 1.0. Rescaling can also help to prevent the model from being influenced too much by features with a large range of values.\n",
    "- Third, y dataset was converted to binary class matrix (ten output neurons). The reason we set this is because we want the model to make a prediction for each possible class. Each output neuron corresponds to a different class, and the value of that neuron represents the probability that the input image belongs to that class."
   ]
  },
  {
   "attachments": {},
   "cell_type": "markdown",
   "metadata": {},
   "source": [
    "#### **2. Network model, training, and changing hyper-parameters**"
   ]
  },
  {
   "cell_type": "code",
   "execution_count": 6,
   "metadata": {
    "id": "N7Aer42gk1W9"
   },
   "outputs": [
    {
     "name": "stdout",
     "output_type": "stream",
     "text": [
      "Epoch 1/10\n",
      "469/469 [==============================] - 2s 3ms/step - loss: 0.4555 - accuracy: 0.8698 - val_loss: 0.2520 - val_accuracy: 0.9260\n",
      "Epoch 2/10\n",
      "469/469 [==============================] - 1s 2ms/step - loss: 0.2256 - accuracy: 0.9344 - val_loss: 0.2005 - val_accuracy: 0.9390\n",
      "Epoch 3/10\n",
      "469/469 [==============================] - 1s 2ms/step - loss: 0.1736 - accuracy: 0.9491 - val_loss: 0.1509 - val_accuracy: 0.9549\n",
      "Epoch 4/10\n",
      "469/469 [==============================] - 1s 2ms/step - loss: 0.1444 - accuracy: 0.9585 - val_loss: 0.1373 - val_accuracy: 0.9595\n",
      "Epoch 5/10\n",
      "469/469 [==============================] - 1s 2ms/step - loss: 0.1227 - accuracy: 0.9641 - val_loss: 0.1315 - val_accuracy: 0.9600\n",
      "Epoch 6/10\n",
      "469/469 [==============================] - 1s 2ms/step - loss: 0.1085 - accuracy: 0.9682 - val_loss: 0.1050 - val_accuracy: 0.9682\n",
      "Epoch 7/10\n",
      "469/469 [==============================] - 1s 2ms/step - loss: 0.0953 - accuracy: 0.9716 - val_loss: 0.1077 - val_accuracy: 0.9656\n",
      "Epoch 8/10\n",
      "469/469 [==============================] - 1s 2ms/step - loss: 0.0862 - accuracy: 0.9744 - val_loss: 0.1001 - val_accuracy: 0.9701\n",
      "Epoch 9/10\n",
      "469/469 [==============================] - 1s 2ms/step - loss: 0.0779 - accuracy: 0.9775 - val_loss: 0.0990 - val_accuracy: 0.9703\n",
      "Epoch 10/10\n",
      "469/469 [==============================] - 1s 2ms/step - loss: 0.0712 - accuracy: 0.9796 - val_loss: 0.0888 - val_accuracy: 0.9720\n",
      "Test loss: 0.08882012963294983, Test accuracy 0.972000002861023\n"
     ]
    }
   ],
   "source": [
    "## Define model ##\n",
    "model = Sequential()\n",
    "\n",
    "model.add(Flatten())\n",
    "model.add(Dense(64, activation = 'relu'))\n",
    "model.add(Dense(64, activation = 'relu'))\n",
    "model.add(Dense(num_classes, activation='softmax'))\n",
    "\n",
    "\n",
    "model.compile(loss=keras.losses.categorical_crossentropy,\n",
    "               optimizer=tensorflow.keras.optimizers.SGD(learning_rate = 0.1),\n",
    "        metrics=['accuracy'],)\n",
    "\n",
    "fit_info = model.fit(x_train, y_train,\n",
    "           batch_size=batch_size,\n",
    "           epochs=epochs,\n",
    "           verbose=1,\n",
    "           validation_data=(x_test, y_test))\n",
    "score = model.evaluate(x_test, y_test, verbose=0)\n",
    "print('Test loss: {}, Test accuracy {}'.format(score[0], score[1]))"
   ]
  },
  {
   "cell_type": "code",
   "execution_count": 7,
   "metadata": {},
   "outputs": [
    {
     "data": {
      "image/png": "[encoded data removed]",
      "text/plain": [
       "<IPython.core.display.Image object>"
      ]
     },
     "execution_count": 7,
     "metadata": {},
     "output_type": "execute_result"
    }
   ],
   "source": [
    "# Converts a Keras model to dot format and save to a file.\n",
    "keras.utils.plot_model(model, show_shapes=True, show_layer_activations=True)"
   ]
  },
  {
   "cell_type": "code",
   "execution_count": 8,
   "metadata": {},
   "outputs": [
    {
     "name": "stdout",
     "output_type": "stream",
     "text": [
      "Model: \"sequential\"\n",
      "_________________________________________________________________\n",
      " Layer (type)                Output Shape              Param #   \n",
      "=================================================================\n",
      " flatten (Flatten)           (None, 784)               0         \n",
      "                                                                 \n",
      " dense (Dense)               (None, 64)                50240     \n",
      "                                                                 \n",
      " dense_1 (Dense)             (None, 64)                4160      \n",
      "                                                                 \n",
      " dense_2 (Dense)             (None, 10)                650       \n",
      "                                                                 \n",
      "=================================================================\n",
      "Total params: 55,050\n",
      "Trainable params: 55,050\n",
      "Non-trainable params: 0\n",
      "_________________________________________________________________\n"
     ]
    }
   ],
   "source": [
    "# get a summary of the model\n",
    "model.summary()"
   ]
  },
  {
   "attachments": {},
   "cell_type": "markdown",
   "metadata": {},
   "source": [
    "##### **Q2.1** How many layers does the network in the notebook have? How many neurons does each layer have? What activation functions and why are these appropriate for this application? What is the total number of parameters for the network? Why do the input and output layers have the dimensions they have?"
   ]
  },
  {
   "attachments": {},
   "cell_type": "markdown",
   "metadata": {},
   "source": [
    "**Answer:** \n",
    "\n",
    "According to the plot and summary of the model above, we can conclude:\n",
    "\n",
    "+ There are 4 layers in the network, the input layer has 784 neurons, the two hidden layers both have 64 neurons and the output layer has 10 neurons.\n",
    "+ The two hidden layers use activation function 'relu (rectified linear unit)', $f(x) = max(0,x)$, the reason we use this activation function is because it is computationally efficient, effective at reducing the impact of the vanishing gradient problem, and able to learn complex nonlinear relationships in the input data.\n",
    "+ The output layer uses 'softmax' activation function, because 'Softmax' function converts a vector of values to a probability distribution which means the elements of the output vector are in range (0, 1) and sum to 1. In this case, this is what we want to output - the value of each neuron represents the confidence that the input image belongs to the corresponding number.\n",
    "+ The total number of parameters for this network is 55050.\n",
    "+ The input layer has the dimension $784 = 28*28$, this is because neural network models require the input to be a one-dimensional vector, thus 28x28 input image was flattened into a one-dimensional vector of length 784.\n",
    "+ The output layer has the dimension 10, because the handwritten digits range from 0 to 9. Therefore, we use 10 output neurons, one for each possible number."
   ]
  },
  {
   "attachments": {},
   "cell_type": "markdown",
   "metadata": {},
   "source": [
    "##### **Q2.2** What loss function is used to train the network? What is the functional form (a mathematical expression) of the loss function? and how should we interpret it? Why is it appropriate for the problem at hand?"
   ]
  },
  {
   "attachments": {},
   "cell_type": "markdown",
   "metadata": {},
   "source": [
    "**Answer:**\n",
    "\n",
    "The loss function used to train the network is 'categorical_crossentropy' function. It is commonly used when there are multiple label classes and one_hot representation output. In this case, since we have 10 classes, it is appropriate to use this loss function. The mathematical expression of this function is as follows:\n",
    "\n",
    "$Loss = - \\frac{1}{N} \\sum_{i=1}^N \\sum_{c=1}^C \\bold{1}_{y_{i} \\in{C_{c}}}  log p_{model}[{y_{i} \\in{C_{c}}}]$\n",
    "\n",
    "where $N$ is the number of samples in the dataset, $C$ is the number of classes(10), $\\bold{1}_{y_{i} \\in{C_{c}}}$ is the indicator function that takes value 1 if the $i$-th instance belongs to class $c$, and 0 otherwise.\n",
    "The $p_{model}[{y_{i} \\in{C_{c}}}]$ is the probability predicted by the model for the 'i'th observation to belong to the 'c'th category.\n",
    "\n",
    "The loss function computes the average negative log-likelihood of the predicted probability distribution over all instances in the dataset. It measures the difference between the true label distribution and the predicted label distribution and tries to minimize it during the training process.\n",
    "\n",
    "A lower value of the loss function indicates that the model is making more accurate predictions. Conversely, a higher value of the loss function indicates that the model is making less accurate predictions."
   ]
  },
  {
   "attachments": {},
   "cell_type": "markdown",
   "metadata": {},
   "source": [
    "##### **Q2.3** Train the network for 10 epochs and plot the training and validation accuracy for each epoch."
   ]
  },
  {
   "cell_type": "code",
   "execution_count": 13,
   "metadata": {},
   "outputs": [
    {
     "data": {
      "image/png": "[encoded data removed]",
      "text/plain": [
       "<Figure size 640x480 with 1 Axes>"
      ]
     },
     "metadata": {},
     "output_type": "display_data"
    }
   ],
   "source": [
    "plt.plot(fit_info.history['accuracy'])\n",
    "plt.plot(fit_info.history['val_accuracy'])\n",
    "plt.title('The training and validation accuracy for each epoch')\n",
    "plt.ylabel('accuracy')\n",
    "plt.xlabel('epoch')\n",
    "plt.legend(['training accuracy', 'validation accuracy'], loc='upper left')\n",
    "plt.show()"
   ]
  },
  {
   "attachments": {},
   "cell_type": "markdown",
   "metadata": {},
   "source": [
    "##### **Q2.4** Update the model to implement a three-layer neural network where the hidden layers have 500 and 300 hidden units respectively. Train for 40 epochs. What is the best validation accuracy you can achieve? Geoff Hinton (a co-pioneer of Deep learning) claimed this network could reach a validation accuracy of 0.9847 (http://yann.lecun.com/exdb/mnist/) using weight decay (L2 regularization of weights(kernels): https://keras.io/api/layers/regularizers/). Implement weight decay on hidden units and train and select 5 regularization factors from 0.000001 to 0.001. Train 3 replicates networks for each regularization factor. Plot the final validation accuracy with standard deviation (computed from the replicates) as a function of the regularization factor. How close do you get to Hintons result? – If you do not get the same results, what factors may influence this? (hint: What information is not given by Hinton on the MNIST database that may influence Model training)"
   ]
  },
  {
   "cell_type": "code",
   "execution_count": 25,
   "metadata": {},
   "outputs": [
    {
     "name": "stdout",
     "output_type": "stream",
     "text": [
      "L2=1e-06\n",
      "Network No.0: Accuracy Score = 0.9814000129699707\n",
      "Network No.1: Accuracy Score = 0.9829000234603882\n",
      "Network No.2: Accuracy Score = 0.9821000099182129\n",
      "\n",
      "L2=0.00025075000000000005\n",
      "Network No.0: Accuracy Score = 0.9822999835014343\n",
      "Network No.1: Accuracy Score = 0.9830999970436096\n",
      "Network No.2: Accuracy Score = 0.9829000234603882\n",
      "\n",
      "L2=0.0005005000000000001\n",
      "Network No.0: Accuracy Score = 0.9832000136375427\n",
      "Network No.1: Accuracy Score = 0.9815999865531921\n",
      "Network No.2: Accuracy Score = 0.9824000000953674\n",
      "\n",
      "L2=0.0007502500000000002\n",
      "Network No.0: Accuracy Score = 0.9819999933242798\n",
      "Network No.1: Accuracy Score = 0.9818000197410583\n",
      "Network No.2: Accuracy Score = 0.9825000166893005\n",
      "\n",
      "L2=0.001\n",
      "Network No.0: Accuracy Score = 0.982699990272522\n",
      "Network No.1: Accuracy Score = 0.9814000129699707\n",
      "Network No.2: Accuracy Score = 0.9785000085830688\n",
      "\n"
     ]
    }
   ],
   "source": [
    "import numpy as np\n",
    "\n",
    "epochs = 40\n",
    "L2 = np.linspace(0.000001, 0.001, 5)\n",
    "\n",
    "accuracy_matrix = np.zeros([3,5],dtype=np.float32)\n",
    "\n",
    "for l2 in L2:\n",
    "    print('L2={}'.format(l2))\n",
    "    \n",
    "    for i in range(3):\n",
    "        model = Sequential()\n",
    "        model.add(Flatten())\n",
    "        model.add(Dense(500, activation = 'relu', kernel_regularizer=keras.regularizers.L2(l2 = l2)))\n",
    "        model.add(Dense(300, activation = 'relu',kernel_regularizer=keras.regularizers.L2(l2 = l2)))\n",
    "        model.add(Dense(num_classes, activation='softmax'))\n",
    "        \n",
    "        model.compile(loss=keras.losses.categorical_crossentropy, \n",
    "                      optimizer=tensorflow.keras.optimizers.legacy.SGD(learning_rate = 0.1), \n",
    "                      metrics=['accuracy'])\n",
    "\n",
    "        fit_info = model.fit(x_train, y_train,\n",
    "           batch_size=batch_size,\n",
    "           epochs=epochs,\n",
    "           verbose=0,\n",
    "           validation_data=(x_test, y_test)\n",
    "           )\n",
    "        \n",
    "        score = model.evaluate(x_test, y_test, verbose=0)\n",
    "        accuracy_matrix[i][np.where(L2 == l2)[0][0]] = score[1]\n",
    "        \n",
    "        print('Network No.{}: Accuracy Score = {}'.format(i, score[1]))\n",
    "        \n",
    "    print()"
   ]
  },
  {
   "cell_type": "code",
   "execution_count": 26,
   "metadata": {},
   "outputs": [
    {
     "data": {
      "text/plain": [
       "array([[0.9814, 0.9823, 0.9832, 0.982 , 0.9827],\n",
       "       [0.9829, 0.9831, 0.9816, 0.9818, 0.9814],\n",
       "       [0.9821, 0.9829, 0.9824, 0.9825, 0.9785]], dtype=float32)"
      ]
     },
     "execution_count": 26,
     "metadata": {},
     "output_type": "execute_result"
    }
   ],
   "source": [
    "accuracy_matrix"
   ]
  },
  {
   "cell_type": "code",
   "execution_count": 27,
   "metadata": {},
   "outputs": [
    {
     "data": {
      "image/png": "[encoded data removed]",
      "text/plain": [
       "<Figure size 640x480 with 1 Axes>"
      ]
     },
     "metadata": {},
     "output_type": "display_data"
    }
   ],
   "source": [
    "accuracy_mean = np.mean(accuracy_matrix, axis=0)\n",
    "accuracy_std = np.std(accuracy_matrix, axis=0)\n",
    "\n",
    "plt.errorbar(L2, accuracy_mean, accuracy_std, linestyle='None', marker='.')\n",
    "plt.axhline(y=0.9847, color = 'r', linestyle='--', label = \"Geoff Hinton's accuracy\")\n",
    "plt.title('Mean validation accuracy with standard deviation vs. regularization factor', fontsize=12)\n",
    "plt.ylabel('Accuracy')\n",
    "plt.xlabel('Regularization factor')\n",
    "plt.ylim(0.978,0.988)\n",
    "plt.legend()\n",
    "\n",
    "plt.show()"
   ]
  },
  {
   "cell_type": "code",
   "execution_count": null,
   "metadata": {},
   "outputs": [
    {
     "name": "stdout",
     "output_type": "stream",
     "text": [
      "The best accuracy we can get is 0.983299970626831.\n",
      "The best accuracy we can get is 99.86% close to Geoff Hinton's accuracy.\n"
     ]
    }
   ],
   "source": [
    "Best_accuracy = np.max(accuracy_matrix)\n",
    "print(f'The best accuracy we can get is {Best_accuracy}.')\n",
    "rate = Best_accuracy/(0.9847)*100\n",
    "print(f\"The best accuracy we can get is {rate:.2f}% close to Geoff Hinton's accuracy.\")"
   ]
  },
  {
   "attachments": {},
   "cell_type": "markdown",
   "metadata": {},
   "source": [
    "**Answer:** \n",
    "\n",
    "The accuracy is slightly smaller than Geoff Hinton's accuracy. This may have happened because we set different values of learning rate, batch size and epochs."
   ]
  },
  {
   "attachments": {},
   "cell_type": "markdown",
   "metadata": {},
   "source": [
    "#### **3. Convolutional layers**"
   ]
  },
  {
   "attachments": {},
   "cell_type": "markdown",
   "metadata": {},
   "source": [
    "##### **Q3.1** Design a model that makes use of at least one convolutional layer – how performant a model can you get? -- According to the MNIST database it should be possible reach to 99% accuracy on the validation data. If you choose to use any layers apart from the convolutional layers and layers that you used in previous questions, you must describe what they do. If you do not reach 99% accuracy, report your best performance, and explain your attempts and thought process."
   ]
  },
  {
   "attachments": {},
   "cell_type": "markdown",
   "metadata": {},
   "source": [
    "##### **Attempt: Model 1 - 99.12%**"
   ]
  },
  {
   "cell_type": "code",
   "execution_count": 28,
   "metadata": {},
   "outputs": [
    {
     "name": "stdout",
     "output_type": "stream",
     "text": [
      "Epoch 1/60\n",
      "469/469 [==============================] - 11s 22ms/step - loss: 0.6304 - accuracy: 0.8192 - val_loss: 0.1781 - val_accuracy: 0.9531\n",
      "Epoch 2/60\n",
      "469/469 [==============================] - 10s 22ms/step - loss: 0.1493 - accuracy: 0.9586 - val_loss: 0.1154 - val_accuracy: 0.9679\n",
      "Epoch 3/60\n",
      "469/469 [==============================] - 10s 22ms/step - loss: 0.1017 - accuracy: 0.9718 - val_loss: 0.0807 - val_accuracy: 0.9775\n",
      "Epoch 4/60\n",
      "469/469 [==============================] - 10s 22ms/step - loss: 0.0804 - accuracy: 0.9773 - val_loss: 0.0656 - val_accuracy: 0.9806\n",
      "Epoch 5/60\n",
      "469/469 [==============================] - 10s 22ms/step - loss: 0.0682 - accuracy: 0.9802 - val_loss: 0.0588 - val_accuracy: 0.9820\n",
      "Epoch 6/60\n",
      "469/469 [==============================] - 10s 22ms/step - loss: 0.0593 - accuracy: 0.9834 - val_loss: 0.0515 - val_accuracy: 0.9847\n",
      "Epoch 7/60\n",
      "469/469 [==============================] - 10s 22ms/step - loss: 0.0526 - accuracy: 0.9849 - val_loss: 0.0573 - val_accuracy: 0.9810\n",
      "Epoch 8/60\n",
      "469/469 [==============================] - 11s 22ms/step - loss: 0.0474 - accuracy: 0.9868 - val_loss: 0.0442 - val_accuracy: 0.9874\n",
      "Epoch 9/60\n",
      "469/469 [==============================] - 11s 23ms/step - loss: 0.0434 - accuracy: 0.9876 - val_loss: 0.0403 - val_accuracy: 0.9879\n",
      "Epoch 10/60\n",
      "469/469 [==============================] - 11s 23ms/step - loss: 0.0395 - accuracy: 0.9890 - val_loss: 0.0387 - val_accuracy: 0.9884\n",
      "Epoch 11/60\n",
      "469/469 [==============================] - 11s 23ms/step - loss: 0.0365 - accuracy: 0.9898 - val_loss: 0.0383 - val_accuracy: 0.9877\n",
      "Epoch 12/60\n",
      "469/469 [==============================] - 10s 22ms/step - loss: 0.0336 - accuracy: 0.9905 - val_loss: 0.0373 - val_accuracy: 0.9884\n",
      "Epoch 13/60\n",
      "469/469 [==============================] - 10s 22ms/step - loss: 0.0316 - accuracy: 0.9913 - val_loss: 0.0352 - val_accuracy: 0.9894\n",
      "Epoch 14/60\n",
      "469/469 [==============================] - 11s 23ms/step - loss: 0.0295 - accuracy: 0.9919 - val_loss: 0.0355 - val_accuracy: 0.9887\n",
      "Epoch 15/60\n",
      "469/469 [==============================] - 11s 23ms/step - loss: 0.0273 - accuracy: 0.9931 - val_loss: 0.0332 - val_accuracy: 0.9891\n",
      "Epoch 16/60\n",
      "469/469 [==============================] - 11s 23ms/step - loss: 0.0258 - accuracy: 0.9930 - val_loss: 0.0356 - val_accuracy: 0.9887\n",
      "Epoch 17/60\n",
      "469/469 [==============================] - 10s 22ms/step - loss: 0.0237 - accuracy: 0.9938 - val_loss: 0.0331 - val_accuracy: 0.9898\n",
      "Epoch 18/60\n",
      "469/469 [==============================] - 13s 27ms/step - loss: 0.0228 - accuracy: 0.9940 - val_loss: 0.0323 - val_accuracy: 0.9902\n",
      "Epoch 19/60\n",
      "469/469 [==============================] - 13s 27ms/step - loss: 0.0213 - accuracy: 0.9943 - val_loss: 0.0324 - val_accuracy: 0.9900\n",
      "Epoch 20/60\n",
      "469/469 [==============================] - 12s 25ms/step - loss: 0.0199 - accuracy: 0.9952 - val_loss: 0.0304 - val_accuracy: 0.9907\n",
      "Epoch 21/60\n",
      "469/469 [==============================] - 11s 24ms/step - loss: 0.0192 - accuracy: 0.9951 - val_loss: 0.0316 - val_accuracy: 0.9893\n",
      "Epoch 22/60\n",
      "469/469 [==============================] - 11s 23ms/step - loss: 0.0178 - accuracy: 0.9957 - val_loss: 0.0293 - val_accuracy: 0.9904\n",
      "Epoch 23/60\n",
      "469/469 [==============================] - 10s 21ms/step - loss: 0.0166 - accuracy: 0.9963 - val_loss: 0.0307 - val_accuracy: 0.9904\n",
      "Epoch 24/60\n",
      "469/469 [==============================] - 10s 21ms/step - loss: 0.0154 - accuracy: 0.9967 - val_loss: 0.0294 - val_accuracy: 0.9908\n",
      "Epoch 25/60\n",
      "469/469 [==============================] - 10s 21ms/step - loss: 0.0148 - accuracy: 0.9967 - val_loss: 0.0293 - val_accuracy: 0.9905\n",
      "Epoch 26/60\n",
      "469/469 [==============================] - 10s 22ms/step - loss: 0.0140 - accuracy: 0.9970 - val_loss: 0.0283 - val_accuracy: 0.9915\n",
      "Epoch 27/60\n",
      "469/469 [==============================] - 10s 21ms/step - loss: 0.0131 - accuracy: 0.9974 - val_loss: 0.0295 - val_accuracy: 0.9903\n",
      "Epoch 28/60\n",
      "469/469 [==============================] - 10s 21ms/step - loss: 0.0123 - accuracy: 0.9976 - val_loss: 0.0315 - val_accuracy: 0.9897\n",
      "Epoch 29/60\n",
      "469/469 [==============================] - 10s 22ms/step - loss: 0.0119 - accuracy: 0.9977 - val_loss: 0.0307 - val_accuracy: 0.9902\n",
      "Epoch 30/60\n",
      "469/469 [==============================] - 12s 25ms/step - loss: 0.0108 - accuracy: 0.9981 - val_loss: 0.0279 - val_accuracy: 0.9910\n",
      "Epoch 31/60\n",
      "469/469 [==============================] - 11s 24ms/step - loss: 0.0106 - accuracy: 0.9981 - val_loss: 0.0281 - val_accuracy: 0.9911\n",
      "Epoch 32/60\n",
      "469/469 [==============================] - 13s 27ms/step - loss: 0.0100 - accuracy: 0.9984 - val_loss: 0.0288 - val_accuracy: 0.9904\n",
      "Epoch 33/60\n",
      "469/469 [==============================] - 13s 27ms/step - loss: 0.0095 - accuracy: 0.9985 - val_loss: 0.0275 - val_accuracy: 0.9914\n",
      "Epoch 34/60\n",
      "469/469 [==============================] - 13s 28ms/step - loss: 0.0091 - accuracy: 0.9985 - val_loss: 0.0274 - val_accuracy: 0.9911\n",
      "Epoch 35/60\n",
      "469/469 [==============================] - 14s 29ms/step - loss: 0.0086 - accuracy: 0.9988 - val_loss: 0.0289 - val_accuracy: 0.9905\n",
      "Epoch 36/60\n",
      "469/469 [==============================] - 13s 29ms/step - loss: 0.0082 - accuracy: 0.9988 - val_loss: 0.0277 - val_accuracy: 0.9908\n",
      "Epoch 37/60\n",
      "469/469 [==============================] - 15s 32ms/step - loss: 0.0078 - accuracy: 0.9989 - val_loss: 0.0279 - val_accuracy: 0.9911\n",
      "Epoch 38/60\n",
      "469/469 [==============================] - 13s 28ms/step - loss: 0.0074 - accuracy: 0.9990 - val_loss: 0.0275 - val_accuracy: 0.9913\n",
      "Epoch 39/60\n",
      "469/469 [==============================] - 13s 27ms/step - loss: 0.0071 - accuracy: 0.9991 - val_loss: 0.0273 - val_accuracy: 0.9914\n",
      "Epoch 40/60\n",
      "469/469 [==============================] - 13s 27ms/step - loss: 0.0068 - accuracy: 0.9991 - val_loss: 0.0278 - val_accuracy: 0.9912\n",
      "Epoch 41/60\n",
      "469/469 [==============================] - 12s 26ms/step - loss: 0.0065 - accuracy: 0.9991 - val_loss: 0.0273 - val_accuracy: 0.9908\n",
      "Epoch 42/60\n",
      "469/469 [==============================] - 12s 26ms/step - loss: 0.0063 - accuracy: 0.9992 - val_loss: 0.0272 - val_accuracy: 0.9912\n",
      "Epoch 43/60\n",
      "469/469 [==============================] - 13s 28ms/step - loss: 0.0059 - accuracy: 0.9994 - val_loss: 0.0273 - val_accuracy: 0.9912\n",
      "Epoch 44/60\n",
      "469/469 [==============================] - 13s 27ms/step - loss: 0.0057 - accuracy: 0.9994 - val_loss: 0.0281 - val_accuracy: 0.9908\n",
      "Epoch 45/60\n",
      "469/469 [==============================] - 12s 26ms/step - loss: 0.0056 - accuracy: 0.9992 - val_loss: 0.0270 - val_accuracy: 0.9914\n",
      "Epoch 46/60\n",
      "469/469 [==============================] - 12s 26ms/step - loss: 0.0053 - accuracy: 0.9995 - val_loss: 0.0269 - val_accuracy: 0.9912\n",
      "Epoch 47/60\n",
      "469/469 [==============================] - 13s 27ms/step - loss: 0.0051 - accuracy: 0.9994 - val_loss: 0.0269 - val_accuracy: 0.9906\n",
      "Epoch 48/60\n",
      "469/469 [==============================] - 12s 26ms/step - loss: 0.0049 - accuracy: 0.9995 - val_loss: 0.0276 - val_accuracy: 0.9908\n",
      "Epoch 49/60\n",
      "469/469 [==============================] - 13s 28ms/step - loss: 0.0048 - accuracy: 0.9995 - val_loss: 0.0273 - val_accuracy: 0.9914\n",
      "Epoch 50/60\n",
      "469/469 [==============================] - 12s 26ms/step - loss: 0.0046 - accuracy: 0.9995 - val_loss: 0.0265 - val_accuracy: 0.9912\n",
      "Epoch 51/60\n",
      "469/469 [==============================] - 13s 27ms/step - loss: 0.0044 - accuracy: 0.9995 - val_loss: 0.0274 - val_accuracy: 0.9911\n",
      "Epoch 52/60\n",
      "469/469 [==============================] - 12s 26ms/step - loss: 0.0043 - accuracy: 0.9995 - val_loss: 0.0267 - val_accuracy: 0.9916\n",
      "Epoch 53/60\n",
      "469/469 [==============================] - 12s 26ms/step - loss: 0.0041 - accuracy: 0.9997 - val_loss: 0.0269 - val_accuracy: 0.9923\n",
      "Epoch 54/60\n",
      "469/469 [==============================] - 12s 25ms/step - loss: 0.0040 - accuracy: 0.9996 - val_loss: 0.0262 - val_accuracy: 0.9912\n",
      "Epoch 55/60\n",
      "469/469 [==============================] - 14s 29ms/step - loss: 0.0039 - accuracy: 0.9997 - val_loss: 0.0264 - val_accuracy: 0.9915\n",
      "Epoch 56/60\n",
      "469/469 [==============================] - 13s 28ms/step - loss: 0.0037 - accuracy: 0.9997 - val_loss: 0.0269 - val_accuracy: 0.9912\n",
      "Epoch 57/60\n",
      "469/469 [==============================] - 12s 25ms/step - loss: 0.0036 - accuracy: 0.9997 - val_loss: 0.0265 - val_accuracy: 0.9917\n",
      "Epoch 58/60\n",
      "469/469 [==============================] - 12s 25ms/step - loss: 0.0035 - accuracy: 0.9997 - val_loss: 0.0258 - val_accuracy: 0.9916\n",
      "Epoch 59/60\n",
      "469/469 [==============================] - 11s 23ms/step - loss: 0.0034 - accuracy: 0.9997 - val_loss: 0.0258 - val_accuracy: 0.9918\n",
      "Epoch 60/60\n",
      "469/469 [==============================] - 11s 23ms/step - loss: 0.0033 - accuracy: 0.9998 - val_loss: 0.0263 - val_accuracy: 0.9913\n",
      "Test loss: 0.0262740571051836, Test accuracy 0.9912999868392944\n"
     ]
    }
   ],
   "source": [
    "def build_model():\n",
    "    # Initialize a sequential model object\n",
    "    model = Sequential()  \n",
    "\n",
    "    # Add a 2D convolutional layer with 20 filters, a kernel size of (5,5), ReLU activation.\n",
    "    # The input shape of the layer is (28, 28, 1), corresponding to the size of images 28x28.\n",
    "    # Add a max pooling layer with a pool size of (2,2) to downsample the feature maps.\n",
    "    model.add(Conv2D(20,(5,5),activation='relu', input_shape=(28, 28, 1)))\n",
    "    model.add(MaxPooling2D((2,2)))\n",
    "\n",
    "    # Add a second 2D convolutional layer with 40 filters, a kernel size of (5,5).\n",
    "    # The input shape of the layer is (20, 12, 12), corresponding to the output shape of the previous layer.\n",
    "    model.add(Conv2D(40,(5,5),activation='relu', input_shape=(20, 12, 12)))\n",
    "    model.add(MaxPooling2D((2,2)))\n",
    "\n",
    "    # Flatten the output of the previous layer to feed it to a fully connected layer.\n",
    "    model.add(Flatten())\n",
    "    \n",
    "    # Add a full connected layer with 100 units.\n",
    "    model.add(Dense(100, activation = 'sigmoid'))\n",
    "\n",
    "    # Add the output layer\n",
    "    model.add(Dense(num_classes, activation='softmax'))\n",
    "           \n",
    "    model.compile(loss=keras.losses.categorical_crossentropy, \n",
    "                    optimizer=tensorflow.keras.optimizers.legacy.SGD(learning_rate = 0.1), \n",
    "                    metrics=['accuracy'])\n",
    "    return model\n",
    "\n",
    "new_model = build_model()\n",
    "fit_info = new_model.fit(x_train, y_train,\n",
    "    batch_size=128,\n",
    "    epochs=60,\n",
    "    verbose=1,\n",
    "    validation_data=(x_test, y_test))\n",
    "score = new_model.evaluate(x_test, y_test, verbose=0)\n",
    "print('Test loss: {}, Test accuracy {}'.format(score[0], score[1]))\n"
   ]
  },
  {
   "attachments": {},
   "cell_type": "markdown",
   "metadata": {},
   "source": [
    "##### **Attempt: Model 2 - 99.50%**"
   ]
  },
  {
   "attachments": {},
   "cell_type": "markdown",
   "metadata": {},
   "source": [
    "This model is inspired by Jay Gupta's LeNet-5 v2.0 convolutional neural network model, [LeNet-5 v2.0 link](https://github.com/guptajay/Kaggle-Digit-Recognizer#results-2), our model is based on LeNet-5 v2.0."
   ]
  },
  {
   "cell_type": "code",
   "execution_count": 29,
   "metadata": {},
   "outputs": [],
   "source": [
    "from keras.preprocessing.image import ImageDataGenerator\n",
    "from keras.callbacks import ReduceLROnPlateau\n",
    "\n",
    "# Create a data augmentation stage with rotations, zooms and image shift\n",
    "datagen = ImageDataGenerator(\n",
    "        rotation_range = 10, # Rotate images randomly by up to 10 degrees\n",
    "        zoom_range = 0.1, # Zoom in or out by up to 10% \n",
    "        width_shift_range = 0.1,  # Shift the image horizontally by up to 10%\n",
    "        height_shift_range = 0.1)  # Shift the image vertically by up to 10%\n",
    "\n",
    "datagen.fit(x_train)"
   ]
  },
  {
   "cell_type": "code",
   "execution_count": 30,
   "metadata": {},
   "outputs": [],
   "source": [
    "def build_model():\n",
    "\n",
    "    model = Sequential()  \n",
    "\n",
    "    # 1. Add 2 2D convolutional layer with 32 filters, each with a 5x5 kernel, and ReLU activation function to the model.\n",
    "    # 2. Add a batch normalization layer, it works by normalizing the inputs to a layer, i.e., transforming them to have zero mean and unit variance.\n",
    "    # This has the effect of stabilizing the distribution of inputs, reducing the effects of internal covariate shift, and allowing the use of higher learning rates.\n",
    "    # 3. Add a max pooling layer with a pool size of (2,2) to downsample the feature maps.\n",
    "    model.add(Conv2D(32,(5,5),activation='relu', input_shape=(28, 28, 1)))    \n",
    "    model.add(Conv2D(32,(5,5),activation='relu', input_shape=(20, 12, 12)))\n",
    "    model.add(BatchNormalization()) \n",
    "    model.add(MaxPooling2D((2,2)))\n",
    "\n",
    "    model.add(Conv2D(64,(3,3),activation='relu'))\n",
    "    model.add(Conv2D(64,(3,3),activation='relu'))\n",
    "    model.add(BatchNormalization())\n",
    "    model.add(MaxPooling2D((2,2)))\n",
    "    \n",
    "    # Flatten the output of the previous layer to feed it to a fully connected layer.\n",
    "    model.add(Flatten())\n",
    "\n",
    "    model.add(Dense(256, activation = 'relu'))\n",
    "    model.add(BatchNormalization())\n",
    "    model.add(Dropout(0.25))\n",
    "\n",
    "    model.add(Dense(128, activation = 'relu'))\n",
    "    model.add(BatchNormalization())\n",
    "    model.add(Dropout(0.25))\n",
    "\n",
    "    model.add(Dense(84, activation = 'relu', kernel_regularizer=keras.regularizers.L2(l2 = 0.1)))\n",
    "    model.add(BatchNormalization())\n",
    "    model.add(Dropout(0.25))\n",
    "\n",
    "\n",
    "    model.add(Dense(num_classes, activation='softmax'))\n",
    "           \n",
    "    model.compile(loss=keras.losses.categorical_crossentropy, \n",
    "                    optimizer='adam', \n",
    "                    metrics=['accuracy'])\n",
    "    return model"
   ]
  },
  {
   "cell_type": "code",
   "execution_count": 31,
   "metadata": {},
   "outputs": [
    {
     "name": "stdout",
     "output_type": "stream",
     "text": [
      "Epoch 1/30\n",
      "938/938 [==============================] - 51s 53ms/step - loss: 0.9662 - accuracy: 0.9374 - val_loss: 0.0945 - val_accuracy: 0.9854 - lr: 0.0010\n",
      "Epoch 2/30\n",
      "938/938 [==============================] - 50s 53ms/step - loss: 0.1207 - accuracy: 0.9787 - val_loss: 0.1111 - val_accuracy: 0.9838 - lr: 0.0010\n",
      "Epoch 3/30\n",
      "938/938 [==============================] - 53s 56ms/step - loss: 0.1034 - accuracy: 0.9827 - val_loss: 0.1153 - val_accuracy: 0.9793 - lr: 0.0010\n",
      "Epoch 4/30\n",
      "938/938 [==============================] - 49s 53ms/step - loss: 0.0486 - accuracy: 0.9916 - val_loss: 0.0336 - val_accuracy: 0.9935 - lr: 2.0000e-04\n",
      "Epoch 5/30\n",
      "938/938 [==============================] - 49s 53ms/step - loss: 0.0363 - accuracy: 0.9932 - val_loss: 0.0330 - val_accuracy: 0.9937 - lr: 2.0000e-04\n",
      "Epoch 6/30\n",
      "938/938 [==============================] - 50s 53ms/step - loss: 0.0303 - accuracy: 0.9945 - val_loss: 0.0343 - val_accuracy: 0.9936 - lr: 2.0000e-04\n",
      "Epoch 7/30\n",
      "938/938 [==============================] - 52s 55ms/step - loss: 0.0291 - accuracy: 0.9950 - val_loss: 0.0285 - val_accuracy: 0.9952 - lr: 2.0000e-04\n",
      "Epoch 8/30\n",
      "938/938 [==============================] - 49s 53ms/step - loss: 0.0252 - accuracy: 0.9956 - val_loss: 0.0307 - val_accuracy: 0.9936 - lr: 2.0000e-04\n",
      "Epoch 9/30\n",
      "938/938 [==============================] - 51s 54ms/step - loss: 0.0238 - accuracy: 0.9959 - val_loss: 0.0369 - val_accuracy: 0.9935 - lr: 2.0000e-04\n",
      "Epoch 10/30\n",
      "938/938 [==============================] - 51s 54ms/step - loss: 0.0151 - accuracy: 0.9977 - val_loss: 0.0219 - val_accuracy: 0.9947 - lr: 4.0000e-05\n",
      "Epoch 11/30\n",
      "938/938 [==============================] - 50s 54ms/step - loss: 0.0105 - accuracy: 0.9982 - val_loss: 0.0221 - val_accuracy: 0.9943 - lr: 4.0000e-05\n",
      "Epoch 12/30\n",
      "938/938 [==============================] - 51s 54ms/step - loss: 0.0090 - accuracy: 0.9985 - val_loss: 0.0217 - val_accuracy: 0.9949 - lr: 4.0000e-05\n",
      "Epoch 13/30\n",
      "938/938 [==============================] - 51s 54ms/step - loss: 0.0083 - accuracy: 0.9985 - val_loss: 0.0216 - val_accuracy: 0.9947 - lr: 4.0000e-05\n",
      "Epoch 14/30\n",
      "938/938 [==============================] - 51s 55ms/step - loss: 0.0077 - accuracy: 0.9987 - val_loss: 0.0205 - val_accuracy: 0.9943 - lr: 4.0000e-05\n",
      "Epoch 15/30\n",
      "938/938 [==============================] - 52s 56ms/step - loss: 0.0073 - accuracy: 0.9988 - val_loss: 0.0206 - val_accuracy: 0.9951 - lr: 4.0000e-05\n",
      "Epoch 16/30\n",
      "938/938 [==============================] - 50s 54ms/step - loss: 0.0062 - accuracy: 0.9991 - val_loss: 0.0200 - val_accuracy: 0.9947 - lr: 4.0000e-05\n",
      "Epoch 17/30\n",
      "938/938 [==============================] - 51s 55ms/step - loss: 0.0065 - accuracy: 0.9990 - val_loss: 0.0198 - val_accuracy: 0.9953 - lr: 4.0000e-05\n",
      "Epoch 18/30\n",
      "938/938 [==============================] - 52s 55ms/step - loss: 0.0057 - accuracy: 0.9993 - val_loss: 0.0217 - val_accuracy: 0.9951 - lr: 4.0000e-05\n",
      "Epoch 19/30\n",
      "938/938 [==============================] - 55s 58ms/step - loss: 0.0059 - accuracy: 0.9992 - val_loss: 0.0214 - val_accuracy: 0.9948 - lr: 4.0000e-05\n",
      "Epoch 20/30\n",
      "938/938 [==============================] - 67s 71ms/step - loss: 0.0049 - accuracy: 0.9995 - val_loss: 0.0213 - val_accuracy: 0.9947 - lr: 8.0000e-06\n",
      "Epoch 21/30\n",
      "938/938 [==============================] - 65s 69ms/step - loss: 0.0044 - accuracy: 0.9995 - val_loss: 0.0211 - val_accuracy: 0.9949 - lr: 8.0000e-06\n",
      "Epoch 22/30\n",
      "938/938 [==============================] - 60s 64ms/step - loss: 0.0039 - accuracy: 0.9997 - val_loss: 0.0208 - val_accuracy: 0.9949 - lr: 1.6000e-06\n",
      "Epoch 23/30\n",
      "938/938 [==============================] - 50s 54ms/step - loss: 0.0040 - accuracy: 0.9996 - val_loss: 0.0208 - val_accuracy: 0.9951 - lr: 1.6000e-06\n",
      "Epoch 24/30\n",
      "938/938 [==============================] - 62s 67ms/step - loss: 0.0036 - accuracy: 0.9996 - val_loss: 0.0206 - val_accuracy: 0.9951 - lr: 3.2000e-07\n",
      "Epoch 25/30\n",
      "938/938 [==============================] - 60s 64ms/step - loss: 0.0036 - accuracy: 0.9997 - val_loss: 0.0204 - val_accuracy: 0.9950 - lr: 3.2000e-07\n",
      "Epoch 26/30\n",
      "938/938 [==============================] - 51s 55ms/step - loss: 0.0039 - accuracy: 0.9995 - val_loss: 0.0205 - val_accuracy: 0.9950 - lr: 6.4000e-08\n",
      "Epoch 27/30\n",
      "938/938 [==============================] - 51s 55ms/step - loss: 0.0036 - accuracy: 0.9997 - val_loss: 0.0205 - val_accuracy: 0.9951 - lr: 6.4000e-08\n",
      "Epoch 28/30\n",
      "938/938 [==============================] - 51s 55ms/step - loss: 0.0037 - accuracy: 0.9997 - val_loss: 0.0206 - val_accuracy: 0.9952 - lr: 1.2800e-08\n",
      "Epoch 29/30\n",
      "938/938 [==============================] - 51s 55ms/step - loss: 0.0036 - accuracy: 0.9996 - val_loss: 0.0204 - val_accuracy: 0.9950 - lr: 1.2800e-08\n",
      "Epoch 30/30\n",
      "938/938 [==============================] - 52s 55ms/step - loss: 0.0037 - accuracy: 0.9996 - val_loss: 0.0205 - val_accuracy: 0.9950 - lr: 2.5600e-09\n",
      "Test loss: 0.02048979140818119, Test accuracy 0.9950000047683716\n"
     ]
    }
   ],
   "source": [
    "new_model = build_model()\n",
    "\n",
    "# Define a learning rate scheduler to reduce the learning rate when the validation loss plateaus\n",
    "variable_learning_rate = ReduceLROnPlateau(monitor='val_loss', factor = 0.2, patience = 2)\n",
    "\n",
    "fit_info = new_model.fit(x_train, y_train,\n",
    "    batch_size=64,\n",
    "    epochs=30,\n",
    "    callbacks = [variable_learning_rate], # using the learning rate scheduler defined above as a callback to adjust the learning rate\n",
    "    verbose=1,\n",
    "    validation_data=(x_test, y_test))\n",
    "score = new_model.evaluate(x_test, y_test, verbose=0)\n",
    "print('Test loss: {}, Test accuracy {}'.format(score[0], score[1]))"
   ]
  },
  {
   "attachments": {},
   "cell_type": "markdown",
   "metadata": {},
   "source": [
    "##### **Q3.2** Discuss the differences and potential benefits of using convolutional layers over fully connected ones for the application?"
   ]
  },
  {
   "attachments": {},
   "cell_type": "markdown",
   "metadata": {},
   "source": [
    "**Answer:**\n",
    "\n",
    "**Differences**\n",
    "\n",
    "1. In fully connected neural networks, each neuron in one layer is connected to every neuron in the next layer, resulting in a dense matrix of weights that needs to be learned during training. This can be computationally expensive and prone to overfitting.\n",
    "2. In CNNs, each neuron in a layer is connected only to a small region of the input data, known as the local receptive field. This enables the network to learn local patterns, such as edges and textures, and reduces the number of parameters that need to be learned. This can result in faster training times or the ability to construct deeper networks with the same computational resources.\n",
    "\n",
    "**Potential benefits**\n",
    "\n",
    "1. Convolutional layers require fewer parameters than fully connected layers, which makes them more efficient and easier to train.\n",
    "2. Convolutional layers are translation-invariant, which means they can recognize patterns regardless of their position in the image.\n",
    "3. Convolutional layers are particularly effective in capturing spatial information and local patterns in images.\n"
   ]
  }
 ],
 "metadata": {
  "colab": {
   "collapsed_sections": [],
   "name": "Assignment_7_NN.ipynb",
   "provenance": []
  },
  "kernelspec": {
   "display_name": "Python 3 (ipykernel)",
   "language": "python",
   "name": "python3"
  },
  "language_info": {
   "codemirror_mode": {
    "name": "ipython",
    "version": 3
   },
   "file_extension": ".py",
   "mimetype": "text/x-python",
   "name": "python",
   "nbconvert_exporter": "python",
   "pygments_lexer": "ipython3",
   "version": "3.11.0"
  }
 },
 "nbformat": 4,
 "nbformat_minor": 1
}
