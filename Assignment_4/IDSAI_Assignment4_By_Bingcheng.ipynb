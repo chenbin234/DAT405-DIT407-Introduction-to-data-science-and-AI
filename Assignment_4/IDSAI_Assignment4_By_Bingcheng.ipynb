{
 "cells": [
  {
   "attachments": {},
   "cell_type": "markdown",
   "metadata": {
    "id": "-sTsDfIVKsmL"
   },
   "source": [
    "# DAT405/DIT407 Introduction to Data Science and AI \n",
    "## 2022-2023, Reading Period 4\n",
    "## Assignment 4: Spam classification using Naïve Bayes \n",
    "The exercise takes place in this notebook environment.\n",
    "Hints:\n",
    "You can execute certain linux shell commands by prefixing the command with `!`. You can insert Markdown cells and code cells. The first you can use for documenting and explaining your results the second you can use writing code snippets that execute the tasks required.  \n",
    "\n",
    "In this assignment you will implement a Naïve Bayes classifier in Python that will classify emails into spam and non-spam (“ham”) classes.  Your program should be able to train on a given set of spam and “ham” datasets. \n",
    "You will work with the datasets available at https://spamassassin.apache.org/old/publiccorpus/. There are three types of files in this location: \n",
    "-\teasy-ham: non-spam messages typically quite easy to differentiate from spam messages. \n",
    "-\thard-ham: non-spam messages more difficult to differentiate \n",
    "-\tspam: spam messages \n",
    "\n",
    "**Execute the cell below to download and extract the data into the environment of the notebook -- it will take a few seconds.** If you chose to use Jupyter notebooks you will have to run the commands in the cell below on your local computer, with Windows you can use \n",
    "7zip (https://www.7-zip.org/download.html) to decompress the data.\n",
    "\n",
    "**What to submit:** \n",
    "Convert the notebook to a pdf-file and submit it. Make sure all cells are executed so all your code and its results are included. Double check the pdf displays correctly before you submit it."
   ]
  },
  {
   "cell_type": "code",
   "execution_count": 2,
   "metadata": {
    "id": "Wa37fBwRF-xe"
   },
   "outputs": [
    {
     "name": "stdout",
     "output_type": "stream",
     "text": [
      "--2023-04-19 13:46:40--  https://spamassassin.apache.org/old/publiccorpus/20021010_easy_ham.tar.bz2\n",
      "Resolving spamassassin.apache.org (spamassassin.apache.org)... 2a04:4e42::644, 151.101.2.132\n",
      "Connecting to spamassassin.apache.org (spamassassin.apache.org)|2a04:4e42::644|:443... connected.\n",
      "HTTP request sent, awaiting response... 200 OK\n",
      "Length: 1677144 (1,6M) [application/x-bzip2]\n",
      "Saving to: ‘20021010_easy_ham.tar.bz2’\n",
      "\n",
      "20021010_easy_ham.t 100%[===================>]   1,60M  --.-KB/s    in 0,1s    \n",
      "\n",
      "2023-04-19 13:46:41 (14,3 MB/s) - ‘20021010_easy_ham.tar.bz2’ saved [1677144/1677144]\n",
      "\n",
      "--2023-04-19 13:46:41--  https://spamassassin.apache.org/old/publiccorpus/20021010_hard_ham.tar.bz2\n",
      "Resolving spamassassin.apache.org (spamassassin.apache.org)... 2a04:4e42::644, 151.101.2.132\n",
      "Connecting to spamassassin.apache.org (spamassassin.apache.org)|2a04:4e42::644|:443... connected.\n",
      "HTTP request sent, awaiting response... 200 OK\n",
      "Length: 1021126 (997K) [application/x-bzip2]\n",
      "Saving to: ‘20021010_hard_ham.tar.bz2’\n",
      "\n",
      "20021010_hard_ham.t 100%[===================>] 997,19K  --.-KB/s    in 0,08s   \n",
      "\n",
      "2023-04-19 13:46:41 (11,8 MB/s) - ‘20021010_hard_ham.tar.bz2’ saved [1021126/1021126]\n",
      "\n",
      "--2023-04-19 13:46:41--  https://spamassassin.apache.org/old/publiccorpus/20021010_spam.tar.bz2\n",
      "Resolving spamassassin.apache.org (spamassassin.apache.org)... 2a04:4e42::644, 151.101.2.132\n",
      "Connecting to spamassassin.apache.org (spamassassin.apache.org)|2a04:4e42::644|:443... connected.\n",
      "HTTP request sent, awaiting response... 200 OK\n",
      "Length: 1192582 (1,1M) [application/x-bzip2]\n",
      "Saving to: ‘20021010_spam.tar.bz2’\n",
      "\n",
      "20021010_spam.tar.b 100%[===================>]   1,14M  --.-KB/s    in 0,1s    \n",
      "\n",
      "2023-04-19 13:46:41 (9,95 MB/s) - ‘20021010_spam.tar.bz2’ saved [1192582/1192582]\n",
      "\n"
     ]
    }
   ],
   "source": [
    "#Download and extract data\n",
    "# !wget https://spamassassin.apache.org/old/publiccorpus/20021010_easy_ham.tar.bz2\n",
    "# !wget https://spamassassin.apache.org/old/publiccorpus/20021010_hard_ham.tar.bz2\n",
    "# !wget https://spamassassin.apache.org/old/publiccorpus/20021010_spam.tar.bz2\n",
    "# !tar -xjf 20021010_easy_ham.tar.bz2\n",
    "# !tar -xjf 20021010_hard_ham.tar.bz2\n",
    "# !tar -xjf 20021010_spam.tar.bz2"
   ]
  },
  {
   "cell_type": "markdown",
   "metadata": {
    "id": "tdH1XTepLjZ3"
   },
   "source": [
    "*The* data is now in the three folders `easy_ham`, `hard_ham`, and `spam`."
   ]
  },
  {
   "cell_type": "code",
   "execution_count": 3,
   "metadata": {
    "id": "A53Gw00fBLG2"
   },
   "outputs": [
    {
     "name": "stdout",
     "output_type": "stream",
     "text": [
      "total 7672\n",
      "drwxr-xr-x    11 chenbingcheng  staff   352B Apr 19 13:46 \u001b[1m\u001b[36m.\u001b[m\u001b[m\n",
      "drwxr-xr-x    10 chenbingcheng  staff   320B Apr 19 10:03 \u001b[1m\u001b[36m..\u001b[m\u001b[m\n",
      "-rw-r--r--@    1 chenbingcheng  staff   6.0K Apr 19 13:46 .DS_Store\n",
      "-rw-r--r--     1 chenbingcheng  staff   1.6M Jun 29  2004 20021010_easy_ham.tar.bz2\n",
      "-rw-r--r--     1 chenbingcheng  staff   997K Dec 16  2004 20021010_hard_ham.tar.bz2\n",
      "-rw-r--r--     1 chenbingcheng  staff   1.1M Jun 29  2004 20021010_spam.tar.bz2\n",
      "-rw-r--r--@    1 chenbingcheng  staff    14K Apr 19 13:46 IDSAI_Assignment4_SP4_22-23.ipynb\n",
      "drwx--x--x  2553 chenbingcheng  staff    80K Oct 10  2002 \u001b[1m\u001b[36measy_ham\u001b[m\u001b[m\n",
      "drwx--x--x   252 chenbingcheng  staff   7.9K Dec 16  2004 \u001b[1m\u001b[36mhard_ham\u001b[m\u001b[m\n",
      "drwxr-xr-x   503 chenbingcheng  staff    16K Oct 10  2002 \u001b[1m\u001b[36mspam\u001b[m\u001b[m\n",
      "-rw-r--r--     1 chenbingcheng  staff    65B Apr 19 13:41 test.py\n"
     ]
    }
   ],
   "source": [
    "!ls -lah"
   ]
  },
  {
   "attachments": {},
   "cell_type": "markdown",
   "metadata": {
    "id": "DGlWPVnSNzT7"
   },
   "source": [
    "### 1. Preprocessing: \n",
    "\n",
    "##### 1.1 Look at a few emails from easy_ham, hard_ham and spam. Do you think you would be able to classify the emails just by inspection? How do you think a succesful model can learn the difference between the different classes of emails?\n"
   ]
  },
  {
   "cell_type": "code",
   "execution_count": 24,
   "metadata": {
    "id": "J2sllUWXKblD"
   },
   "outputs": [
    {
     "name": "stdout",
     "output_type": "stream",
     "text": [
      "['easy_ham/0132.bcd23223120c0be6b991ae0349cd127c']\n",
      "['hard_ham/0178.5b7f2a0e87c853e8c8e13d556c1320d2']\n",
      "['spam/0197.6968d98720065059247cefe4e5bcd192']\n",
      "############################ No.1 email##############################\n",
      "############################ No.2 email##############################\n",
      "############################ No.3 email##############################\n"
     ]
    }
   ],
   "source": [
    "import os\n",
    "import random\n",
    "\n",
    "# Set directory path for easy_ham and spam\n",
    "easy_ham_dir = 'easy_ham'\n",
    "hard_ham_dir = 'hard_ham'\n",
    "spam_dir = 'spam'\n",
    "\n",
    "# Get the list of file names in each fold\n",
    "easy_ham_files = [os.path.join(easy_ham_dir, file) for file in os.listdir(easy_ham_dir)]\n",
    "hard_ham_files = [os.path.join(hard_ham_dir, file) for file in os.listdir(hard_ham_dir)]\n",
    "spam_files = [os.path.join(spam_dir, file) for file in os.listdir(spam_dir)][1:]\n",
    "\n",
    "# Choose 1 random file from each type\n",
    "random_easy_ham = random.sample(easy_ham_files,1)\n",
    "random_hard_ham = random.sample(hard_ham_files,1)\n",
    "random_spam = random.sample(spam_files,1)\n",
    "\n",
    "# Print the name of the chosen files\n",
    "print(random_easy_ham)\n",
    "print(random_hard_ham)\n",
    "print(random_spam)\n",
    "\n",
    "# List of files to be read\n",
    "read_list = random_easy_ham + random_hard_ham +random_spam\n",
    "\n",
    "# Loop through the list and read each file\n",
    "for file_name in read_list:\n",
    "    with open(file_name, 'r', encoding='utf-8', errors='ignore') as file:\n",
    "        # print contents\n",
    "        print('############################ No.{} email##############################'.format(read_list.index(file_name)+1))\n",
    "        # print(file.read())"
   ]
  },
  {
   "attachments": {},
   "cell_type": "markdown",
   "metadata": {},
   "source": [
    "##### 1.2 Note that the email files contain a lot of extra information, besides the actual message. Ignore that for now and run on the entire text (in the optional part further down can experiment with filtering out the headers and footers). We don’t want to train and test on the same data (it might help to reflect on why if you don't recall). Split the spam and the ham datasets in a training set and a test set. (`hamtrain`, `spamtrain`, `hamtest`, and `spamtest`). Use only the easy_ham part as ham data for quesions 1 and 2."
   ]
  },
  {
   "attachments": {},
   "cell_type": "markdown",
   "metadata": {},
   "source": [
    "Answer 1.1:"
   ]
  },
  {
   "cell_type": "code",
   "execution_count": 68,
   "metadata": {},
   "outputs": [],
   "source": [
    "def read_files(file_list):\n",
    "    # files = os.listdir(file_fold)\n",
    "    messages = []\n",
    "    for file in file_list:\n",
    "        with open(file, 'r', encoding='utf-8', errors='ignore') as f:\n",
    "            content = f.read()\n",
    "            messages.append((content, \"ham\" if \"ham\" in file else \"spam\"))\n",
    "    return messages\n",
    "\n",
    "easy_ham_message = read_files(easy_ham_files)\n",
    "hard_ham_message = read_files(hard_ham_files)\n",
    "spam_messages = read_files(spam_files)"
   ]
  },
  {
   "cell_type": "code",
   "execution_count": 36,
   "metadata": {},
   "outputs": [
    {
     "name": "stdout",
     "output_type": "stream",
     "text": [
      "Number of hamtrain: 2040\n",
      "Number of hamtest: 511\n",
      "Number of spamtrain: 400\n",
      "Number of spamtest: 100\n"
     ]
    }
   ],
   "source": [
    "from sklearn.model_selection import train_test_split\n",
    "\n",
    "# Split the ham and spam files into training and testing datasets\n",
    "hamtrain, hamtest = train_test_split(easy_ham_message, test_size=0.2, random_state=42)\n",
    "spamtrain, spamtest = train_test_split(spam_messages, test_size=0.2, random_state=42)\n",
    "\n",
    "# Print the number of the traning/testing datasets\n",
    "print(\"Number of hamtrain:\", len(hamtrain))\n",
    "print(\"Number of hamtest:\", len(hamtest))\n",
    "print(\"Number of spamtrain:\", len(spamtrain))\n",
    "print(\"Number of spamtest:\", len(spamtest))"
   ]
  },
  {
   "attachments": {},
   "cell_type": "markdown",
   "metadata": {
    "id": "mnbrbI0_OKCF"
   },
   "source": [
    "### 2.1 Write a Python program that: \n",
    "1.\tUses the four datasets from Question 1 (`hamtrain`, `spamtrain`, `hamtest`, and `spamtest`) \n",
    "2.\tTrains a Naïve Bayes classifier (use the [scikit-learn library](https://scikit-learn.org/stable/)) on `hamtrain` and `spamtrain`, that classifies the test sets and reports True Positive and False Negative rates on the `hamtest` and `spamtest` datasets. Use `CountVectorizer` ([Documentation here](https://scikit-learn.org/stable/modules/generated/sklearn.feature_extraction.text.CountVectorizer.html#sklearn.feature_extraction.text.CountVectorizer)) to transform the email texts into vectors. Please note that there are different types of Naïve Bayes Classifier in scikit-learn ([Documentation here](https://scikit-learn.org/stable/modules/naive_bayes.html)). Test two of these classifiers that are well suited for this problem:\n",
    "- Multinomial Naive Bayes  \n",
    "- Bernoulli Naive Bayes. \n",
    "\n",
    "Please inspect the documentation to ensure input to the classifiers is appropriate before you start coding. \n",
    "\n"
   ]
  },
  {
   "cell_type": "code",
   "execution_count": 65,
   "metadata": {
    "id": "MJERHSCcGNaW"
   },
   "outputs": [],
   "source": [
    "from sklearn.feature_extraction.text import CountVectorizer\n",
    "\n",
    "# Create a Vectorizer Object\n",
    "vectorizer = CountVectorizer()\n",
    "\n",
    "# convert text to numerical data\n",
    "X_train = vectorizer.fit_transform([message[0] for message in hamtrain+spamtrain])\n",
    "y_train = [message[1] for message in hamtrain+spamtrain]\n",
    "\n",
    "X_test = vectorizer.transform([message[0] for message in hamtest+spamtest])\n",
    "y_test = [message[1] for message in hamtest+spamtest]\n",
    "\n",
    "\n",
    "# Printing the identified Unique words along with their indices\n",
    "# print(\"Vocabulary: \", vectorizer.vocabulary_)"
   ]
  },
  {
   "attachments": {},
   "cell_type": "markdown",
   "metadata": {},
   "source": [
    "#### 2.1.1 Multinomial Naive Bayes"
   ]
  },
  {
   "cell_type": "code",
   "execution_count": 73,
   "metadata": {},
   "outputs": [
    {
     "name": "stdout",
     "output_type": "stream",
     "text": [
      "True Positive Rate: 0.85\n",
      "False Negative Rate: 0.15\n",
      "Accuracy: 0.974\n"
     ]
    },
    {
     "data": {
      "text/plain": [
       "<sklearn.metrics._plot.confusion_matrix.ConfusionMatrixDisplay at 0x12fcf0c50>"
      ]
     },
     "execution_count": 73,
     "metadata": {},
     "output_type": "execute_result"
    },
    {
     "data": {
      "image/png": "[encoded data removed]",
      "text/plain": [
       "<Figure size 2000x300 with 2 Axes>"
      ]
     },
     "metadata": {},
     "output_type": "display_data"
    }
   ],
   "source": [
    "from sklearn.naive_bayes import MultinomialNB\n",
    "from sklearn.metrics import confusion_matrix\n",
    "from sklearn.metrics import ConfusionMatrixDisplay\n",
    "from sklearn.metrics import accuracy_score\n",
    "import matplotlib.pyplot as plt\n",
    "plt.rcParams['figure.dpi'] = 100\n",
    "\n",
    "# create Multinomial Naive Bayes model object and fit it\n",
    "mnb = MultinomialNB()\n",
    "mnb.fit(X_train, y_train)\n",
    "\n",
    "# predit X_test dataset\n",
    "y_pred = mnb.predict(X_test)\n",
    "\n",
    "# reports True Positive and False Negative rates on the `hamtest` and `spamtest` datasets.\n",
    "tn, fp, fn, tp = confusion_matrix(y_test, y_pred).ravel()\n",
    "print(\"True Positive Rate:\", tp / (tp + fn))\n",
    "print(\"False Negative Rate:\", fn / (tp + fn))\n",
    "\n",
    "# accuracy score\n",
    "print(f\"Accuracy: {accuracy_score(y_test, y_pred):.3f}\")\n",
    "\n",
    "# plot the comfusionMatrix\n",
    "cm = confusion_matrix(y_test, y_pred, labels=mnb.classes_)\n",
    "disp = ConfusionMatrixDisplay(confusion_matrix=cm, display_labels=mnb.classes_)\n",
    "disp.plot()"
   ]
  },
  {
   "attachments": {},
   "cell_type": "markdown",
   "metadata": {},
   "source": [
    "#### 2.1.2 Bernoulli Naive Bayes"
   ]
  },
  {
   "cell_type": "code",
   "execution_count": 74,
   "metadata": {},
   "outputs": [
    {
     "name": "stdout",
     "output_type": "stream",
     "text": [
      "True Positive Rate: 0.48\n",
      "False Negative Rate: 0.52\n",
      "Accuracy: 0.913\n"
     ]
    },
    {
     "data": {
      "text/plain": [
       "<sklearn.metrics._plot.confusion_matrix.ConfusionMatrixDisplay at 0x14da2d7d0>"
      ]
     },
     "execution_count": 74,
     "metadata": {},
     "output_type": "execute_result"
    },
    {
     "data": {
      "image/png": "[encoded data removed]",
      "text/plain": [
       "<Figure size 2000x300 with 2 Axes>"
      ]
     },
     "metadata": {},
     "output_type": "display_data"
    }
   ],
   "source": [
    "from sklearn.naive_bayes import BernoulliNB\n",
    "\n",
    "# create Bernoulli Naive Bayes model object and fit it\n",
    "bnb = BernoulliNB(force_alpha=True,binarize=0.0)\n",
    "bnb.fit(X_train, y_train)\n",
    "\n",
    "# predit X_test dataset\n",
    "y_pred = bnb.predict(X_test)\n",
    "\n",
    "# reports True Positive and False Negative rates on the `hamtest` and `spamtest` datasets.\n",
    "tn1, fp1, fn1, tp1 = confusion_matrix(y_test, y_pred).ravel()\n",
    "print(\"True Positive Rate:\", tp1 / (tp1 + fn1))\n",
    "print(\"False Negative Rate:\", fn1 / (tp1 + fn1))\n",
    "\n",
    "# accuracy score\n",
    "print(f\"Accuracy: {accuracy_score(y_test, y_pred):.3f}\")\n",
    "\n",
    "# plot the comfusionMatrix\n",
    "cm = confusion_matrix(y_test, y_pred, labels=mnb.classes_)\n",
    "disp = ConfusionMatrixDisplay(confusion_matrix=cm, display_labels=bnb.classes_)\n",
    "disp.plot()"
   ]
  },
  {
   "attachments": {},
   "cell_type": "markdown",
   "metadata": {},
   "source": [
    "### 2.2 Answer the following questions:\n",
    "##### a) What does the CountVectorizer do?\n",
    "**Answer 2.2.a** \n",
    "\n",
    "Countvectorizer is used to convert text to numerical matrix, in which each row represents a document and each column represents a unique word in the vocabulary. The values in the matrix represent the frequency of the corresponding word.  \n",
    "Usually, we use it to preprocessing the text dataset for machine learning algorithms that require numerical input data.\n",
    "\n",
    "##### b) What is the difference between Multinomial Naive Bayes and Bernoulli Naive Bayes\n",
    "**Answer 2.2.b**\n",
    "\n",
    "Multinomial Naive Bayes works well with frequency-based features, such as frequency of a word in a document, Bernoulli Naive Bayes works well with binary features, such as whether a word appears in a document or not.\n"
   ]
  },
  {
   "attachments": {},
   "cell_type": "markdown",
   "metadata": {
    "id": "wDFS3uFFUcS7"
   },
   "source": [
    "### 3.1 Run the two models:\n",
    "Run (don't retrain) the two models from Question 2 on spam versus hard-ham. Does the performance differ compared to question 2 when the model was run on spam versus easy-ham? If so, why?"
   ]
  },
  {
   "attachments": {},
   "cell_type": "markdown",
   "metadata": {},
   "source": [
    "#### 3.1.1 Multinomial Naive Bayes"
   ]
  },
  {
   "cell_type": "code",
   "execution_count": 75,
   "metadata": {
    "id": "gool_zb8Qzzy"
   },
   "outputs": [
    {
     "name": "stdout",
     "output_type": "stream",
     "text": [
      "True Positive Rate: 0.85\n",
      "False Negative Rate: 0.15\n",
      "Accuracy: 0.483\n"
     ]
    },
    {
     "data": {
      "text/plain": [
       "<sklearn.metrics._plot.confusion_matrix.ConfusionMatrixDisplay at 0x13bc8a410>"
      ]
     },
     "execution_count": 75,
     "metadata": {},
     "output_type": "execute_result"
    },
    {
     "data": {
      "image/png": "[encoded data removed]",
      "text/plain": [
       "<Figure size 2000x300 with 2 Axes>"
      ]
     },
     "metadata": {},
     "output_type": "display_data"
    }
   ],
   "source": [
    "# reconstruct the testing dataset, using hard_ham_message+spamtest \n",
    "X_test_hard = vectorizer.transform([message[0] for message in hard_ham_message+spamtest])\n",
    "y_test_hard = [message[1] for message in hard_ham_message+spamtest]\n",
    "\n",
    "# predit X_test_hard dataset\n",
    "y_pred_hard = mnb.predict(X_test_hard)\n",
    "\n",
    "# reports True Positive and False Negative rates on the `hamtest` and `spamtest` datasets.\n",
    "tn2, fp2, fn2, tp2 = confusion_matrix(y_test_hard, y_pred_hard).ravel()\n",
    "print(\"True Positive Rate:\", tp2 / (tp2 + fn2))\n",
    "print(\"False Negative Rate:\", fn2 / (tp2 + fn2))\n",
    "\n",
    "# accuracy score\n",
    "print(f\"Accuracy: {accuracy_score(y_test_hard, y_pred_hard):.3f}\")\n",
    "\n",
    "# plot the comfusionMatrix\n",
    "cm = confusion_matrix(y_test_hard, y_pred_hard, labels=mnb.classes_)\n",
    "disp = ConfusionMatrixDisplay(confusion_matrix=cm, display_labels=mnb.classes_)\n",
    "disp.plot()"
   ]
  },
  {
   "attachments": {},
   "cell_type": "markdown",
   "metadata": {},
   "source": [
    "#### 3.1.2 Bernoulli Naive Bayes"
   ]
  },
  {
   "cell_type": "code",
   "execution_count": 76,
   "metadata": {},
   "outputs": [
    {
     "name": "stdout",
     "output_type": "stream",
     "text": [
      "True Positive Rate: 0.48\n",
      "False Negative Rate: 0.52\n",
      "Accuracy: 0.386\n"
     ]
    },
    {
     "data": {
      "text/plain": [
       "<sklearn.metrics._plot.confusion_matrix.ConfusionMatrixDisplay at 0x12fd8d650>"
      ]
     },
     "execution_count": 76,
     "metadata": {},
     "output_type": "execute_result"
    },
    {
     "data": {
      "image/png": "[encoded data removed]",
      "text/plain": [
       "<Figure size 2000x300 with 2 Axes>"
      ]
     },
     "metadata": {},
     "output_type": "display_data"
    }
   ],
   "source": [
    "# predit X_test_hard dataset\n",
    "y_pred_hard = bnb.predict(X_test_hard)\n",
    "\n",
    "# reports True Positive and False Negative rates on the `hamtest` and `spamtest` datasets.\n",
    "tn3, fp3, fn3, tp3 = confusion_matrix(y_test_hard, y_pred_hard).ravel()\n",
    "print(\"True Positive Rate:\", tp3 / (tp3 + fn3))\n",
    "print(\"False Negative Rate:\", fn3 / (tp3 + fn3))\n",
    "\n",
    "# accuracy score\n",
    "print(f\"Accuracy: {accuracy_score(y_test_hard, y_pred_hard):.3f}\")\n",
    "\n",
    "# plot the comfusionMatrix\n",
    "cm = confusion_matrix(y_test_hard, y_pred_hard, labels=bnb.classes_)\n",
    "disp = ConfusionMatrixDisplay(confusion_matrix=cm, display_labels=bnb.classes_)\n",
    "disp.plot()"
   ]
  },
  {
   "attachments": {},
   "cell_type": "markdown",
   "metadata": {},
   "source": [
    "Answer 3.1:"
   ]
  },
  {
   "attachments": {},
   "cell_type": "markdown",
   "metadata": {},
   "source": [
    "### 3.2 Retrain\n",
    "Retrain new Multinomial and Bernolli Naive Bayes classifers on the combined (easy+hard) ham and spam. Now evaluate on spam versus hard-ham as in 3.1. Also evaluate on spam versus easy-ham. Compare the performance with question 2 and 3.1. What do you observe?"
   ]
  },
  {
   "cell_type": "code",
   "execution_count": 80,
   "metadata": {},
   "outputs": [],
   "source": [
    "# Split the ham and spam files into training and testing datasets\n",
    "ham_easytrain, ham_easytest = train_test_split(easy_ham_message, test_size=0.2, random_state=42)\n",
    "ham_hardtrain, ham_hardtest = train_test_split(hard_ham_message, test_size=0.2, random_state=42)\n",
    "spamtrain, spamtest = train_test_split(spam_messages, test_size=0.2, random_state=42)\n",
    "\n",
    "# Create a Vectorizer Object\n",
    "vectorizer2 = CountVectorizer()\n",
    "\n",
    "# convert text to numerical data\n",
    "X_train = vectorizer2.fit_transform([message[0] for message in ham_easytrain+ham_hardtrain+spamtrain])\n",
    "y_train = [message[1] for message in ham_easytrain+ham_hardtrain+spamtrain]\n",
    "\n",
    "X_test = vectorizer2.transform([message[0] for message in ham_easytest+ham_hardtest+spamtest])\n",
    "y_test = [message[1] for message in ham_easytest+ham_hardtest+spamtest]"
   ]
  },
  {
   "attachments": {},
   "cell_type": "markdown",
   "metadata": {},
   "source": [
    "#### 3.2.1 Multinomial Naive Bayes"
   ]
  },
  {
   "cell_type": "code",
   "execution_count": 81,
   "metadata": {},
   "outputs": [
    {
     "name": "stdout",
     "output_type": "stream",
     "text": [
      "True Positive Rate: 0.91\n",
      "False Negative Rate: 0.09\n",
      "Accuracy: 0.985\n"
     ]
    },
    {
     "data": {
      "text/plain": [
       "<sklearn.metrics._plot.confusion_matrix.ConfusionMatrixDisplay at 0x14d98c050>"
      ]
     },
     "execution_count": 81,
     "metadata": {},
     "output_type": "execute_result"
    },
    {
     "data": {
      "image/png": "[encoded data removed]",
      "text/plain": [
       "<Figure size 2000x300 with 2 Axes>"
      ]
     },
     "metadata": {},
     "output_type": "display_data"
    }
   ],
   "source": [
    "# create Multinomial Naive Bayes model object and fit it\n",
    "mnb2 = MultinomialNB()\n",
    "mnb2.fit(X_train, y_train)\n",
    "\n",
    "# predit X_test dataset\n",
    "y_pred = mnb2.predict(X_test)\n",
    "\n",
    "# reports True Positive and False Negative rates on the `hamtest` and `spamtest` datasets.\n",
    "tn, fp, fn, tp = confusion_matrix(y_test, y_pred).ravel()\n",
    "print(\"True Positive Rate:\", tp / (tp + fn))\n",
    "print(\"False Negative Rate:\", fn / (tp + fn))\n",
    "\n",
    "# accuracy score\n",
    "print(f\"Accuracy: {accuracy_score(y_test, y_pred):.3f}\")\n",
    "\n",
    "# plot the comfusionMatrix\n",
    "cm = confusion_matrix(y_test, y_pred, labels=mnb2.classes_)\n",
    "disp = ConfusionMatrixDisplay(confusion_matrix=cm, display_labels=mnb2.classes_)\n",
    "disp.plot()"
   ]
  },
  {
   "attachments": {},
   "cell_type": "markdown",
   "metadata": {},
   "source": [
    "#### 3.2.2 Bernoulli Naive Bayes"
   ]
  },
  {
   "cell_type": "code",
   "execution_count": 82,
   "metadata": {},
   "outputs": [
    {
     "name": "stdout",
     "output_type": "stream",
     "text": [
      "True Positive Rate: 0.22\n",
      "False Negative Rate: 0.78\n",
      "Accuracy: 0.882\n"
     ]
    },
    {
     "data": {
      "text/plain": [
       "<sklearn.metrics._plot.confusion_matrix.ConfusionMatrixDisplay at 0x15b7d7b10>"
      ]
     },
     "execution_count": 82,
     "metadata": {},
     "output_type": "execute_result"
    },
    {
     "data": {
      "image/png": "[encoded data removed]",
      "text/plain": [
       "<Figure size 2000x300 with 2 Axes>"
      ]
     },
     "metadata": {},
     "output_type": "display_data"
    }
   ],
   "source": [
    "# create Bernoulli Naive Bayes model object and fit it\n",
    "bnb2 = BernoulliNB(force_alpha=True,binarize=0.0)\n",
    "bnb2.fit(X_train, y_train)\n",
    "\n",
    "# predit X_test dataset\n",
    "y_pred = bnb2.predict(X_test)\n",
    "\n",
    "# reports True Positive and False Negative rates on the `hamtest` and `spamtest` datasets.\n",
    "tn1, fp1, fn1, tp1 = confusion_matrix(y_test, y_pred).ravel()\n",
    "print(\"True Positive Rate:\", tp1 / (tp1 + fn1))\n",
    "print(\"False Negative Rate:\", fn1 / (tp1 + fn1))\n",
    "\n",
    "# accuracy score\n",
    "print(f\"Accuracy: {accuracy_score(y_test, y_pred):.3f}\")\n",
    "\n",
    "# plot the comfusionMatrix\n",
    "cm = confusion_matrix(y_test, y_pred, labels=bnb2.classes_)\n",
    "disp = ConfusionMatrixDisplay(confusion_matrix=cm, display_labels=bnb2.classes_)\n",
    "disp.plot()"
   ]
  },
  {
   "attachments": {},
   "cell_type": "markdown",
   "metadata": {},
   "source": [
    "Answer 3.2:"
   ]
  },
  {
   "attachments": {},
   "cell_type": "markdown",
   "metadata": {},
   "source": [
    "### 3.3 Further improvements\n",
    "Do you have any suggestions for how performance could be further improved? You don't have to implement them, just present your ideas."
   ]
  },
  {
   "attachments": {},
   "cell_type": "markdown",
   "metadata": {},
   "source": [
    "Answer 3.3:"
   ]
  }
 ],
 "metadata": {
  "colab": {
   "provenance": []
  },
  "kernelspec": {
   "display_name": "Python 3",
   "language": "python",
   "name": "python3"
  },
  "language_info": {
   "codemirror_mode": {
    "name": "ipython",
    "version": 3
   },
   "file_extension": ".py",
   "mimetype": "text/x-python",
   "name": "python",
   "nbconvert_exporter": "python",
   "pygments_lexer": "ipython3",
   "version": "3.11.2"
  },
  "vscode": {
   "interpreter": {
    "hash": "aee8b7b246df8f9039afb4144a1f6fd8d2ca17a180786b69acc140d282b71a49"
   }
  }
 },
 "nbformat": 4,
 "nbformat_minor": 1
}
