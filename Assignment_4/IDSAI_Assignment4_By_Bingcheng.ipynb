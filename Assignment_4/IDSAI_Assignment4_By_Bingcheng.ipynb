{
 "cells": [
  {
   "attachments": {},
   "cell_type": "markdown",
   "metadata": {
    "id": "-sTsDfIVKsmL"
   },
   "source": [
    "# DAT405/DIT407 Introduction to Data Science and AI \n",
    "## 2022-2023, Reading Period 4\n",
    "## Assignment 4: Spam classification using Naïve Bayes \n",
    "The exercise takes place in this notebook environment.\n",
    "Hints:\n",
    "You can execute certain linux shell commands by prefixing the command with `!`. You can insert Markdown cells and code cells. The first you can use for documenting and explaining your results the second you can use writing code snippets that execute the tasks required.  \n",
    "\n",
    "In this assignment you will implement a Naïve Bayes classifier in Python that will classify emails into spam and non-spam (“ham”) classes.  Your program should be able to train on a given set of spam and “ham” datasets. \n",
    "You will work with the datasets available at https://spamassassin.apache.org/old/publiccorpus/. There are three types of files in this location: \n",
    "-\teasy-ham: non-spam messages typically quite easy to differentiate from spam messages. \n",
    "-\thard-ham: non-spam messages more difficult to differentiate \n",
    "-\tspam: spam messages \n",
    "\n",
    "**Execute the cell below to download and extract the data into the environment of the notebook -- it will take a few seconds.** If you chose to use Jupyter notebooks you will have to run the commands in the cell below on your local computer, with Windows you can use \n",
    "7zip (https://www.7-zip.org/download.html) to decompress the data.\n",
    "\n",
    "**What to submit:** \n",
    "Convert the notebook to a pdf-file and submit it. Make sure all cells are executed so all your code and its results are included. Double check the pdf displays correctly before you submit it."
   ]
  },
  {
   "cell_type": "code",
   "execution_count": 2,
   "metadata": {
    "id": "Wa37fBwRF-xe"
   },
   "outputs": [
    {
     "name": "stdout",
     "output_type": "stream",
     "text": [
      "--2023-04-19 13:46:40--  https://spamassassin.apache.org/old/publiccorpus/20021010_easy_ham.tar.bz2\n",
      "Resolving spamassassin.apache.org (spamassassin.apache.org)... 2a04:4e42::644, 151.101.2.132\n",
      "Connecting to spamassassin.apache.org (spamassassin.apache.org)|2a04:4e42::644|:443... connected.\n",
      "HTTP request sent, awaiting response... 200 OK\n",
      "Length: 1677144 (1,6M) [application/x-bzip2]\n",
      "Saving to: ‘20021010_easy_ham.tar.bz2’\n",
      "\n",
      "20021010_easy_ham.t 100%[===================>]   1,60M  --.-KB/s    in 0,1s    \n",
      "\n",
      "2023-04-19 13:46:41 (14,3 MB/s) - ‘20021010_easy_ham.tar.bz2’ saved [1677144/1677144]\n",
      "\n",
      "--2023-04-19 13:46:41--  https://spamassassin.apache.org/old/publiccorpus/20021010_hard_ham.tar.bz2\n",
      "Resolving spamassassin.apache.org (spamassassin.apache.org)... 2a04:4e42::644, 151.101.2.132\n",
      "Connecting to spamassassin.apache.org (spamassassin.apache.org)|2a04:4e42::644|:443... connected.\n",
      "HTTP request sent, awaiting response... 200 OK\n",
      "Length: 1021126 (997K) [application/x-bzip2]\n",
      "Saving to: ‘20021010_hard_ham.tar.bz2’\n",
      "\n",
      "20021010_hard_ham.t 100%[===================>] 997,19K  --.-KB/s    in 0,08s   \n",
      "\n",
      "2023-04-19 13:46:41 (11,8 MB/s) - ‘20021010_hard_ham.tar.bz2’ saved [1021126/1021126]\n",
      "\n",
      "--2023-04-19 13:46:41--  https://spamassassin.apache.org/old/publiccorpus/20021010_spam.tar.bz2\n",
      "Resolving spamassassin.apache.org (spamassassin.apache.org)... 2a04:4e42::644, 151.101.2.132\n",
      "Connecting to spamassassin.apache.org (spamassassin.apache.org)|2a04:4e42::644|:443... connected.\n",
      "HTTP request sent, awaiting response... 200 OK\n",
      "Length: 1192582 (1,1M) [application/x-bzip2]\n",
      "Saving to: ‘20021010_spam.tar.bz2’\n",
      "\n",
      "20021010_spam.tar.b 100%[===================>]   1,14M  --.-KB/s    in 0,1s    \n",
      "\n",
      "2023-04-19 13:46:41 (9,95 MB/s) - ‘20021010_spam.tar.bz2’ saved [1192582/1192582]\n",
      "\n"
     ]
    }
   ],
   "source": [
    "#Download and extract data\n",
    "!wget https://spamassassin.apache.org/old/publiccorpus/20021010_easy_ham.tar.bz2\n",
    "!wget https://spamassassin.apache.org/old/publiccorpus/20021010_hard_ham.tar.bz2\n",
    "!wget https://spamassassin.apache.org/old/publiccorpus/20021010_spam.tar.bz2\n",
    "!tar -xjf 20021010_easy_ham.tar.bz2\n",
    "!tar -xjf 20021010_hard_ham.tar.bz2\n",
    "!tar -xjf 20021010_spam.tar.bz2"
   ]
  },
  {
   "cell_type": "markdown",
   "metadata": {
    "id": "tdH1XTepLjZ3"
   },
   "source": [
    "*The* data is now in the three folders `easy_ham`, `hard_ham`, and `spam`."
   ]
  },
  {
   "cell_type": "code",
   "execution_count": 3,
   "metadata": {
    "id": "A53Gw00fBLG2"
   },
   "outputs": [
    {
     "name": "stdout",
     "output_type": "stream",
     "text": [
      "total 7672\n",
      "drwxr-xr-x    11 chenbingcheng  staff   352B Apr 19 13:46 \u001b[1m\u001b[36m.\u001b[m\u001b[m\n",
      "drwxr-xr-x    10 chenbingcheng  staff   320B Apr 19 10:03 \u001b[1m\u001b[36m..\u001b[m\u001b[m\n",
      "-rw-r--r--@    1 chenbingcheng  staff   6.0K Apr 19 13:46 .DS_Store\n",
      "-rw-r--r--     1 chenbingcheng  staff   1.6M Jun 29  2004 20021010_easy_ham.tar.bz2\n",
      "-rw-r--r--     1 chenbingcheng  staff   997K Dec 16  2004 20021010_hard_ham.tar.bz2\n",
      "-rw-r--r--     1 chenbingcheng  staff   1.1M Jun 29  2004 20021010_spam.tar.bz2\n",
      "-rw-r--r--@    1 chenbingcheng  staff    14K Apr 19 13:46 IDSAI_Assignment4_SP4_22-23.ipynb\n",
      "drwx--x--x  2553 chenbingcheng  staff    80K Oct 10  2002 \u001b[1m\u001b[36measy_ham\u001b[m\u001b[m\n",
      "drwx--x--x   252 chenbingcheng  staff   7.9K Dec 16  2004 \u001b[1m\u001b[36mhard_ham\u001b[m\u001b[m\n",
      "drwxr-xr-x   503 chenbingcheng  staff    16K Oct 10  2002 \u001b[1m\u001b[36mspam\u001b[m\u001b[m\n",
      "-rw-r--r--     1 chenbingcheng  staff    65B Apr 19 13:41 test.py\n"
     ]
    }
   ],
   "source": [
    "!ls -lah"
   ]
  },
  {
   "attachments": {},
   "cell_type": "markdown",
   "metadata": {
    "id": "DGlWPVnSNzT7"
   },
   "source": [
    "### 1. Preprocessing: \n",
    "\n",
    "##### 1.1 Look at a few emails from easy_ham, hard_ham and spam. Do you think you would be able to classify the emails just by inspection? How do you think a succesful model can learn the difference between the different classes of emails?\n"
   ]
  },
  {
   "cell_type": "code",
   "execution_count": 16,
   "metadata": {
    "id": "J2sllUWXKblD"
   },
   "outputs": [
    {
     "name": "stdout",
     "output_type": "stream",
     "text": [
      "['easy_ham/2072.373edc9b20518ec3be266c31352e506c']\n",
      "['hard_ham/0167.e069a1be61effd430e3eea8441f5ae90']\n",
      "['spam/0045.75baa6797e2a65053a8373d5aa96f594']\n",
      "############################ No.1 email##############################\n",
      "From rssfeeds@jmason.org  Thu Sep 26 16:42:25 2002\n",
      "Return-Path: <rssfeeds@example.com>\n",
      "Delivered-To: yyyy@localhost.example.com\n",
      "Received: from localhost (jalapeno [127.0.0.1])\n",
      "\tby jmason.org (Postfix) with ESMTP id 10DA716F6D\n",
      "\tfor <jm@localhost>; Thu, 26 Sep 2002 16:41:30 +0100 (IST)\n",
      "Received: from jalapeno [127.0.0.1]\n",
      "\tby localhost with IMAP (fetchmail-5.9.0)\n",
      "\tfor jm@localhost (single-drop); Thu, 26 Sep 2002 16:41:30 +0100 (IST)\n",
      "Received: from dogma.slashnull.org (localhost [127.0.0.1]) by\n",
      "    dogma.slashnull.org (8.11.6/8.11.6) with ESMTP id g8QFWlg25210 for\n",
      "    <jm@jmason.org>; Thu, 26 Sep 2002 16:32:47 +0100\n",
      "Message-Id: <200209261532.g8QFWlg25210@dogma.slashnull.org>\n",
      "To: yyyy@example.com\n",
      "From: newscientist <rssfeeds@example.com>\n",
      "Subject: Iraq invasion could 'worsen terrorist threat'\n",
      "Date: Thu, 26 Sep 2002 15:32:47 -0000\n",
      "Content-Type: text/plain; encoding=utf-8\n",
      "X-Spam-Status: No, hits=0.0 required=5.0\n",
      "\ttests=AWL\n",
      "\tversion=2.50-cvs\n",
      "X-Spam-Level: \n",
      "\n",
      "URL: http://www.newsisfree.com/click/-3,8015194,1440/\n",
      "Date: Not supplied\n",
      "\n",
      "An influential think tank warns that \"regime change\" could disperse weapons \n",
      "stockpiles into the murky world of global terrorism\n",
      "\n",
      "\n",
      "\n",
      "############################ No.2 email##############################\n",
      "Return-Path: spamassassin-talk-admin@lists.sourceforge.net\n",
      "Delivery-Date: Thu Aug 15 15:14:14 2002\n",
      "Return-Path: <spamassassin-talk-admin@lists.sourceforge.net>\n",
      "Received: from webnote.net (mail.webnote.net [193.120.211.219])\n",
      "\tby dogma.slashnull.org (8.11.6/8.11.6) with ESMTP id g7FEEEi01451\n",
      "\tfor <zzz-sa@example.com>; Thu, 15 Aug 2002 15:14:14 +0100\n",
      "Received: from usw-sf-list2.sourceforge.net (usw-sf-fw2.sourceforge.net [216.136.171.252])\n",
      "\tby webnote.net (8.9.3/8.9.3) with ESMTP id OAA08721\n",
      "\tfor <zzz-sa@example.com>; Thu, 15 Aug 2002 14:36:27 +0100\n",
      "Received: from usw-sf-list1-b.sourceforge.net ([10.3.1.13] helo=usw-sf-list1.sourceforge.net)\n",
      "\tby usw-sf-list2.sourceforge.net with esmtp (Exim 3.31-VA-mm2 #1 (Debian))\n",
      "\tid 17fKjL-0005HV-00; Thu, 15 Aug 2002 06:32:03 -0700\n",
      "Received: from mail11.speakeasy.net ([216.254.0.211] helo=mail.speakeasy.net)\n",
      "\tby usw-sf-list1.sourceforge.net with esmtp \n",
      "\t(Cipher TLSv1:DES-CBC3-SHA:168) (Exim 3.31-VA-mm2 #1 (Debian))\n",
      "\tid 17fKik-0006IO-00\n",
      "\tfor <spamassassin-talk@lists.sourceforge.net>; Thu, 15 Aug 2002 06:31:26 -0700\n",
      "Received: (qmail 31585 invoked from network); 15 Aug 2002 13:31:22 -0000\n",
      "Received: from unknown (HELO smoking) ([66.92.72.101]) (envelope-sender <rOD@arsecandle.org>)\n",
      "          by mail11.speakeasy.net (qmail-ldap-1.03) with SMTP\n",
      "          for <spamassassin-talk@lists.sourceforge.net>; 15 Aug 2002 13:31:22 -0000\n",
      "Message-ID: <02f901c24460$096f1820$65485c42@smoking>\n",
      "From: \"rODbegbie\" <rOD@arsecandle.org>\n",
      "To: \"Spam Assassin\" <spamassassin-talk@lists.sourceforge.net>\n",
      "MIME-Version: 1.0\n",
      "Content-Type: multipart/signed;\n",
      "\tprotocol=\"application/x-pkcs7-signature\";\n",
      "\tmicalg=SHA1;\n",
      "\tboundary=\"----=_NextPart_000_02F4_01C2443E.80476960\"\n",
      "X-Priority: 3\n",
      "X-MSMail-Priority: Normal\n",
      "X-Mailer: Microsoft Outlook Express 6.00.2600.0000\n",
      "X-MimeOLE: Produced By Microsoft MimeOLE V6.00.2600.0000\n",
      "Subject: [SAtalk] OT: Can Weblogs Reach Ronald Scelson?\n",
      "Sender: spamassassin-talk-admin@lists.sourceforge.net\n",
      "Errors-To: spamassassin-talk-admin@lists.sourceforge.net\n",
      "X-BeenThere: spamassassin-talk@lists.sourceforge.net\n",
      "X-Mailman-Version: 2.0.9-sf.net\n",
      "Precedence: bulk\n",
      "List-Help: <mailto:spamassassin-talk-request@lists.sourceforge.net?subject=help>\n",
      "List-Post: <mailto:spamassassin-talk@lists.sourceforge.net>\n",
      "List-Subscribe: <https://lists.sourceforge.net/lists/listinfo/spamassassin-talk>,\n",
      "\t<mailto:spamassassin-talk-request@lists.sourceforge.net?subject=subscribe>\n",
      "List-Id: Talk about SpamAssassin <spamassassin-talk.lists.sourceforge.net>\n",
      "List-Unsubscribe: <https://lists.sourceforge.net/lists/listinfo/spamassassin-talk>,\n",
      "\t<mailto:spamassassin-talk-request@lists.sourceforge.net?subject=unsubscribe>\n",
      "List-Archive: <http://www.geocrawler.com/redir-sf.php3?list=spamassassin-talk>\n",
      "X-Original-Date: Thu, 15 Aug 2002 09:31:14 -0400\n",
      "Date: Thu, 15 Aug 2002 09:31:14 -0400\n",
      "\n",
      "This is a multi-part message in MIME format.\n",
      "\n",
      "------=_NextPart_000_02F4_01C2443E.80476960\n",
      "Content-Type: text/plain;\n",
      "\tcharset=\"iso-8859-1\"\n",
      "Content-Transfer-Encoding: 7bit\n",
      "\n",
      "Made me chuckle.\n",
      "\n",
      "http://www.bloggerheads.com/can_weblogs/ronald_scelson.asp\n",
      "\n",
      "rOD.\n",
      "\n",
      "--\n",
      "\"Don't frown, don't pout, don't snivel, don't cry,\n",
      " Don't cough, don't choke, don't faint, don't die.\"\n",
      "\n",
      ">> Doing the blogging thang again at http://www.groovymother.com/ <<\n",
      "\n",
      "\n",
      "------=_NextPart_000_02F4_01C2443E.80476960\n",
      "Content-Type: application/x-pkcs7-signature;\n",
      "\tname=\"smime.p7s\"\n",
      "Content-Transfer-Encoding: base64\n",
      "Content-Disposition: attachment;\n",
      "\tfilename=\"smime.p7s\"\n",
      "\n",
      "MIAGCSqGSIb3DQEHAqCAMIACAQExCzAJBgUrDgMCGgUAMIAGCSqGSIb3DQEHAQAAoIIJIjCCAnow\n",
      "ggHjoAMCAQICARcwDQYJKoZIhvcNAQEFBQAwUzELMAkGA1UEBhMCVVMxHDAaBgNVBAoTE0VxdWlm\n",
      "YXggU2VjdXJlIEluYy4xJjAkBgNVBAMTHUVxdWlmYXggU2VjdXJlIGVCdXNpbmVzcyBDQS0xMB4X\n",
      "DTAyMDQxODE1MjkzN1oXDTIwMDQxMzE1MjkzN1owTjELMAkGA1UEBhMCVVMxFjAUBgNVBAoTDUdl\n",
      "b1RydXN0IEluYy4xJzAlBgNVBAMTHkdlb1RydXN0IFRydWUgQ3JlZGVudGlhbHMgQ0EgMjCBnzAN\n",
      "BgkqhkiG9w0BAQEFAAOBjQAwgYkCgYEAspcspZISpYX/aJqWoYcSyyGqFby3OvsepRzLRU0ENDJR\n",
      "wJo7DwFpirRFOUQkTkKXsY6BQzX/CeCRrn9i4ny5gcXuI2JSyrSmDwobbwl52n5cPEbHGcebybWd\n",
      "KfAf8vvkxYUnTmDZPtt2ob5RNpJTeTiq9MpNCB/5G7Ocr1hEljcCAwEAAaNjMGEwDgYDVR0PAQH/\n",
      "BAQDAgHGMB0GA1UdDgQWBBQig0tNIAIMMfR8WrAaTRXIeF0RSTAPBgNVHRMBAf8EBTADAQH/MB8G\n",
      "A1UdIwQYMBaAFEp4MlIR21kWNl7fwRQ2QGpHfEyhMA0GCSqGSIb3DQEBBQUAA4GBACmw3z+sLsLS\n",
      "fAfdECQJPfiZFzJzSPQKLwY7vHnNWH2lAKYECbtAFHBpdyhSPkrj3KghXeIJnKyMFjsK6xd1k1Yu\n",
      "wMXrauUH+HIDuZUg4okBwQbhBTqjjEdo/cCHILQsaLeU2kM+n5KKrpb0uvrHrocGffRMrWhz9zYB\n",
      "lxoq0/EEMIICgjCCAeugAwIBAgIBBDANBgkqhkiG9w0BAQQFADBTMQswCQYDVQQGEwJVUzEcMBoG\n",
      "A1UEChMTRXF1aWZheCBTZWN1cmUgSW5jLjEmMCQGA1UEAxMdRXF1aWZheCBTZWN1cmUgZUJ1c2lu\n",
      "ZXNzIENBLTEwHhcNOTkwNjIxMDQwMDAwWhcNMjAwNjIxMDQwMDAwWjBTMQswCQYDVQQGEwJVUzEc\n",
      "MBoGA1UEChMTRXF1aWZheCBTZWN1cmUgSW5jLjEmMCQGA1UEAxMdRXF1aWZheCBTZWN1cmUgZUJ1\n",
      "c2luZXNzIENBLTEwgZ8wDQYJKoZIhvcNAQEBBQADgY0AMIGJAoGBAM4vGbwXt3fek6lfWg0XTzQa\n",
      "DJj0ItlZ1MRoRvC0NcWFAyDGr0WlIVFFQesWWDYyb+JQYmT5/VGcqiTZ9J2DKocKIdMSODRsjQBu\n",
      "WqDZQu4aIZX5UkxVWsUPOE9G+m34LjXWHXzr4vCwdYDIqROsvojvOm6rXyo4YgKwEnv+j6YDAgMB\n",
      "AAGjZjBkMBEGCWCGSAGG+EIBAQQEAwIABzAPBgNVHRMBAf8EBTADAQH/MB8GA1UdIwQYMBaAFEp4\n",
      "MlIR21kWNl7fwRQ2QGpHfEyhMB0GA1UdDgQWBBRKeDJSEdtZFjZe38EUNkBqR3xMoTANBgkqhkiG\n",
      "9w0BAQQFAAOBgQB1W6ibAxHm6VZMzfmpTMANmvPMZWnmJXbMWbfWVMMdzZmsGd20hdXgPfxiIKeE\n",
      "S1hl8eL5lSE/9dR+WB5Hh1Q+WKG1tfgq73HnvMP2sUlG4tega+VWeponmHxGYhTnyfxuAxJ5gDgd\n",
      "SIKN/Bf+KpYrtWKmpj29f5JZzVoqgrI3eTCCBBowggODoAMCAQICAxAAdTANBgkqhkiG9w0BAQQF\n",
      "ADBOMQswCQYDVQQGEwJVUzEWMBQGA1UEChMNR2VvVHJ1c3QgSW5jLjEnMCUGA1UEAxMeR2VvVHJ1\n",
      "c3QgVHJ1ZSBDcmVkZW50aWFscyBDQSAyMB4XDTAyMDgwNzE3MzA1NloXDTAzMDgyMTE3MzA1Nlow\n",
      "ggHQMQswCQYDVQQGEwJVUzFJMEcGA1UEChNAR2VvVHJ1c3QgVHJ1ZSBDcmVkZW50aWFscyBDdXN0\n",
      "b21lciAtIE9yZ2FuaXphdGlvbiBub3QgdmFsaWRhdGVkLjE/MD0GA1UECxM2Q1BTIHRlcm1zIGlu\n",
      "Y29ycG9yYXRlZCBieSByZWZlcmVuY2UgbGlhYmlsaXR5IGxpbWl0ZWQuMUkwRwYDVQQLE0BTZWUg\n",
      "VHJ1ZSBDcmVkZW50aWFscyBFeHByZXNzIENQUyB3d3cuZ2VvdHJ1c3QuY29tL3Jlc291cmNlcy9D\n",
      "UFMuMS0wKwYDVQQLEyRFbWFpbCBjb250cm9sIHZhbGlkYXRlZCBieSBHZW9UcnVzdC4xPzA9BgNV\n",
      "BAsTNklkZW50aXR5IGF1dGhlbnRpY2F0ZWQgYnkgUmVnaXN0cmF0aW9uIEF1dGhvcml0eSAoUkEp\n",
      "LjFCMEAGA1UECxQ5UmVnaXN0cmF0aW9uIEF1dGhvcml0eSAoUkEpIC0gcm9kLWdlb3RydXN0QGFy\n",
      "c2VjYW5kbGUub3JnMRMwEQYDVQQDEwpyT0QgQmVnYmllMSEwHwYJKoZIhvcNAQkBFhJyT0RAYXJz\n",
      "ZWNhbmRsZS5vcmcwgZ8wDQYJKoZIhvcNAQEBBQADgY0AMIGJAoGBAMXm5uxWzmnY4QqgZrm7Y0Hp\n",
      "CRnHrXk8zcYCYwTO4Jsh3wdeUEzzAXLuU+kkGduVA8QXWWNb61zlXwNhVMAuazPlLTmdce6GSFVO\n",
      "zCOYViHcuXnF4gj6ptYXTYReKrIznwYW50r7iKRrnsAeVqMMo9D9oM9bS+ySFcQhIBZZl+0lAgMB\n",
      "AAGjgYEwfzARBglghkgBhvhCAQEEBAMCBaAwDgYDVR0PAQH/BAQDAgXgMDkGA1UdHwQyMDAwLqAs\n",
      "oCqGKGh0dHA6Ly9jcmwuZ2VvdHJ1c3QuY29tL2NybHMvZ3R0Y2NhMi5jcmwwHwYDVR0jBBgwFoAU\n",
      "IoNLTSACDDH0fFqwGk0VyHhdEUkwDQYJKoZIhvcNAQEEBQADgYEAeZyTyjFzabynSLBSiQTLxPgp\n",
      "0YoEvrYnCGdioATy99A0TpmWwR+h6hO2iJPTersqPg4iUJrK5douLHjwrzzzJCscFRACsQXuOh+wG\n",
      "oilcCkXEMbqx+ShedO+rthR41RM/l06T45p1lgLJQyYPjy9jpzf8XY0K8GXPK/rtt323fOYxggG4\n",
      "MIIBtAIBATBVME4xCzAJBgNVBAYTAlVTMRYwFAYDVQQKEw1HZW9UcnVzdCBJbmMuMScwJQYDVQQD\n",
      "Ex5HZW9UcnVzdCBUcnVlIENyZWRlbnRpYWxzIENBIDICAxAAdTAJBgUrDgMCGgUAoIG6MBgGCSqG\n",
      "SIb3DQEJAzELBgkqhkiG9w0BBwEwHAYJKoZIhvcNAQkFMQ8XDTAyMDgxNTEzMzExNFowIwYJKoZI\n",
      "hvcNAQkEMRYEFPU20cUcxbb7Jr8xB6HmSrA49uOFMFsGCSqGSIb3DQEJDzFOMEwwCgYIKoZIhvcN\n",
      "AwcwDgYIKoZIhvcNAwICAgCAMA0GCCqGSIb3DQMCAgFAMAcGBSsOAwIHMA0GCCqGSIb3DQMCAgEo\n",
      "MAcGBSsOAwIdMA0GCSqGSIb3DQEBAQUABIGAlwFnZzQnaweuePsqblxBkvc3g+/39icTWoKEgoJt\n",
      "IFCB3uEEOGcU6mjjglUNbqSYKmmpioCv6pfN7MIIudPKtAuRfAUGJnKXc7vrJ0ilQ0lTRsR9DZok\n",
      "KH6So5bO0lu+F5/IpdLdh+rTEJjbrHcF0H1UCgNXFaJLi6xh3r2kIMsAAAAAAAA=\n",
      "\n",
      "------=_NextPart_000_02F4_01C2443E.80476960--\n",
      "\n",
      "\n",
      "\n",
      "\n",
      "-------------------------------------------------------\n",
      "This sf.net email is sponsored by: OSDN - Tired of that same old\n",
      "cell phone?  Get a new here for FREE!\n",
      "https://www.inphonic.com/r.asp?r=sourceforge1&refcode1=vs3390\n",
      "_______________________________________________\n",
      "Spamassassin-talk mailing list\n",
      "Spamassassin-talk@lists.sourceforge.net\n",
      "https://lists.sourceforge.net/lists/listinfo/spamassassin-talk\n",
      "\n",
      "############################ No.3 email##############################\n",
      "From ilug-admin@linux.ie  Fri Aug 23 16:14:11 2002\n",
      "Return-Path: <ilug-admin@linux.ie>\n",
      "Delivered-To: zzzz@localhost.example.com\n",
      "Received: from localhost (localhost [127.0.0.1])\n",
      "\tby phobos.labs.example.com (Postfix) with ESMTP id B684443F9B\n",
      "\tfor <zzzz@localhost>; Fri, 23 Aug 2002 11:14:11 -0400 (EDT)\n",
      "Received: from phobos [127.0.0.1]\n",
      "\tby localhost with IMAP (fetchmail-5.9.0)\n",
      "\tfor zzzz@localhost (single-drop); Fri, 23 Aug 2002 16:14:11 +0100 (IST)\n",
      "Received: from lugh.tuatha.org (root@lugh.tuatha.org [194.125.145.45]) by\n",
      "    dogma.slashnull.org (8.11.6/8.11.6) with ESMTP id g7NFDnZ29206 for\n",
      "    <zzzz-ilug@jmason.org>; Fri, 23 Aug 2002 16:13:49 +0100\n",
      "Received: from lugh (root@localhost [127.0.0.1]) by lugh.tuatha.org\n",
      "    (8.9.3/8.9.3) with ESMTP id QAA01699; Fri, 23 Aug 2002 16:11:26 +0100\n",
      "Received: from yahoo.com ([61.50.141.181]) by lugh.tuatha.org\n",
      "    (8.9.3/8.9.3) with ESMTP id QAA01654 for <ilug@linux.ie>; Fri,\n",
      "    23 Aug 2002 16:11:08 +0100\n",
      "Message-Id: <200208231511.QAA01654@lugh.tuatha.org>\n",
      "X-Authentication-Warning: lugh.tuatha.org: Host [61.50.141.181] claimed to\n",
      "    be yahoo.com\n",
      "From: \"zqcx\" <z_q_c_x@yahoo.com>\n",
      "To: ilug@linux.ie\n",
      "Content-Type: text/plain;charset=\"GB2312\"\n",
      "Reply-To: z_q_c_x@yahoo.com\n",
      "Date: Fri, 23 Aug 2002 23:10:22 +0800\n",
      "X-Priority: 3\n",
      "X-Mailer: Microsoft Outlook Express 5.00.2615.200\n",
      "Subject: [ILUG] enter Chinese market\n",
      "Sender: ilug-admin@linux.ie\n",
      "Errors-To: ilug-admin@linux.ie\n",
      "X-Mailman-Version: 1.1\n",
      "Precedence: bulk\n",
      "List-Id: Irish Linux Users' Group <ilug.linux.ie>\n",
      "X-Beenthere: ilug@linux.ie\n",
      "\n",
      "Dear Sir or Madam:\n",
      "\n",
      "Please reply to \n",
      "Receiver: China Enterprise Management Co., Ltd. (CMC)\n",
      "E-mail: unido@chinatop.net\n",
      "\n",
      "As one technical organization supported by China Investment and Technical Promotion Office of United Nation Industry Development Organization (UNIDO), we cooperate closely with the relevant Chinese Quality Supervision and Standardization Information Organization. We provide the most valuable consulting services to help you to open Chinese market within the shortest time:\n",
      "\n",
      "1. Consulting Service on Mandatory National Standards of The People's Republic of China.\n",
      "\n",
      "2. Consulting Service on Inspection and Quarantine Standards of The People's Republic of China.\n",
      "\n",
      "3. Consulting Service for Permission to Enter Chinese Market\n",
      "\n",
      "We are very sorry to disturb you! \n",
      "\n",
      "More information, please check our World Wide Web: http://www.chinatop.net\n",
      "\n",
      "Sincerely yours\n",
      "\n",
      "-- \n",
      "Irish Linux Users' Group: ilug@linux.ie\n",
      "http://www.linux.ie/mailman/listinfo/ilug for (un)subscription information.\n",
      "List maintainer: listmaster@linux.ie\n",
      "\n",
      "\n"
     ]
    }
   ],
   "source": [
    "import os\n",
    "import random\n",
    "\n",
    "# Set directory path for easy_ham and spam\n",
    "easy_ham_dir = 'easy_ham'\n",
    "hard_ham_dir = 'hard_ham'\n",
    "spam_dir = 'spam'\n",
    "\n",
    "# Get the list of file names in each fold\n",
    "easy_ham_files = [os.path.join(easy_ham_dir, file) for file in os.listdir(easy_ham_dir)]\n",
    "hard_ham_files = [os.path.join(hard_ham_dir, file) for file in os.listdir(hard_ham_dir)]\n",
    "spam_files = [os.path.join(spam_dir, file) for file in os.listdir(spam_dir)]\n",
    "\n",
    "# Choose 1 random file from each type\n",
    "random_easy_ham = random.sample(easy_ham_files,1)\n",
    "random_hard_ham = random.sample(hard_ham_files,1)\n",
    "random_spam = random.sample(spam_files,1)\n",
    "\n",
    "# Print the name of the chosen files\n",
    "print(random_easy_ham)\n",
    "print(random_hard_ham)\n",
    "print(random_spam)\n",
    "\n",
    "# List of files to be read\n",
    "read_list = random_easy_ham + random_hard_ham +random_spam\n",
    "\n",
    "# Loop through the list and read each file\n",
    "for file_name in read_list:\n",
    "    with open(file_name, 'r', encoding='utf-8', errors='ignore') as file:\n",
    "        # print contents\n",
    "        print('############################ No.{} email##############################'.format(read_list.index(file_name)+1))\n",
    "        print(file.read())"
   ]
  },
  {
   "attachments": {},
   "cell_type": "markdown",
   "metadata": {},
   "source": [
    "##### 1.2 Note that the email files contain a lot of extra information, besides the actual message. Ignore that for now and run on the entire text (in the optional part further down can experiment with filtering out the headers and footers). We don’t want to train and test on the same data (it might help to reflect on why if you don't recall). Split the spam and the ham datasets in a training set and a test set. (`hamtrain`, `spamtrain`, `hamtest`, and `spamtest`). Use only the easy_ham part as ham data for quesions 1 and 2."
   ]
  },
  {
   "attachments": {},
   "cell_type": "markdown",
   "metadata": {},
   "source": [
    "Answer 1.1:"
   ]
  },
  {
   "cell_type": "code",
   "execution_count": 17,
   "metadata": {},
   "outputs": [
    {
     "name": "stdout",
     "output_type": "stream",
     "text": [
      "Number of hamtrain: 2040\n",
      "Number of hamtest: 511\n",
      "Number of spamtrain: 400\n",
      "Number of spamtest: 101\n"
     ]
    }
   ],
   "source": [
    "from sklearn.model_selection import train_test_split\n",
    "\n",
    "# Split the ham and spam files into training and testing datasets\n",
    "hamtrain, hamtest = train_test_split(easy_ham_files, test_size=0.2, random_state=42)\n",
    "spamtrain, spamtest = train_test_split(spam_files, test_size=0.2, random_state=42)\n",
    "\n",
    "# Print the number of the traning/testing datasets\n",
    "print(\"Number of hamtrain:\", len(hamtrain))\n",
    "print(\"Number of hamtest:\", len(hamtest))\n",
    "print(\"Number of spamtrain:\", len(spamtrain))\n",
    "print(\"Number of spamtest:\", len(spamtest))"
   ]
  },
  {
   "attachments": {},
   "cell_type": "markdown",
   "metadata": {
    "id": "mnbrbI0_OKCF"
   },
   "source": [
    "### 2.1 Write a Python program that: \n",
    "1.\tUses the four datasets from Question 1 (`hamtrain`, `spamtrain`, `hamtest`, and `spamtest`) \n",
    "2.\tTrains a Naïve Bayes classifier (use the [scikit-learn library](https://scikit-learn.org/stable/)) on `hamtrain` and `spamtrain`, that classifies the test sets and reports True Positive and False Negative rates on the `hamtest` and `spamtest` datasets. Use `CountVectorizer` ([Documentation here](https://scikit-learn.org/stable/modules/generated/sklearn.feature_extraction.text.CountVectorizer.html#sklearn.feature_extraction.text.CountVectorizer)) to transform the email texts into vectors. Please note that there are different types of Naïve Bayes Classifier in scikit-learn ([Documentation here](https://scikit-learn.org/stable/modules/naive_bayes.html)). Test two of these classifiers that are well suited for this problem:\n",
    "- Multinomial Naive Bayes  \n",
    "- Bernoulli Naive Bayes. \n",
    "\n",
    "Please inspect the documentation to ensure input to the classifiers is appropriate before you start coding. \n",
    "\n"
   ]
  },
  {
   "cell_type": "code",
   "execution_count": null,
   "metadata": {
    "id": "MJERHSCcGNaW"
   },
   "outputs": [],
   "source": [
    "# Write your code here"
   ]
  },
  {
   "attachments": {},
   "cell_type": "markdown",
   "metadata": {},
   "source": [
    "### 2.2 Answer the following questions:\n",
    "##### a) What does the CountVectorizer do?\n",
    "Answer 2.2.a\n",
    "##### b) What is the difference between Multinomial Naive Bayes and Bernoulli Naive Bayes\n",
    "Answer 2.2.b\n"
   ]
  },
  {
   "attachments": {},
   "cell_type": "markdown",
   "metadata": {
    "id": "wDFS3uFFUcS7"
   },
   "source": [
    "### 3.1 Run the two models:\n",
    "Run (don't retrain) the two models from Question 2 on spam versus hard-ham. Does the performance differ compared to question 2 when the model was run on spam versus easy-ham? If so, why?"
   ]
  },
  {
   "cell_type": "code",
   "execution_count": null,
   "metadata": {
    "id": "gool_zb8Qzzy"
   },
   "outputs": [],
   "source": [
    "# Write your code here"
   ]
  },
  {
   "attachments": {},
   "cell_type": "markdown",
   "metadata": {},
   "source": [
    "Answer 3.1:"
   ]
  },
  {
   "attachments": {},
   "cell_type": "markdown",
   "metadata": {},
   "source": [
    "### 3.2 Retrain\n",
    "Retrain new Multinomial and Bernolli Naive Bayes classifers on the combined (easy+hard) ham and spam. Now evaluate on spam versus hard-ham as in 3.1. Also evaluate on spam versus easy-ham. Compare the performance with question 2 and 3.1. What do you observe?"
   ]
  },
  {
   "cell_type": "code",
   "execution_count": null,
   "metadata": {},
   "outputs": [],
   "source": [
    "# Write your code here"
   ]
  },
  {
   "attachments": {},
   "cell_type": "markdown",
   "metadata": {},
   "source": [
    "Answer 3.2:"
   ]
  },
  {
   "attachments": {},
   "cell_type": "markdown",
   "metadata": {},
   "source": [
    "### 3.3 Further improvements\n",
    "Do you have any suggestions for how performance could be further improved? You don't have to implement them, just present your ideas."
   ]
  },
  {
   "attachments": {},
   "cell_type": "markdown",
   "metadata": {},
   "source": [
    "Answer 3.3:"
   ]
  }
 ],
 "metadata": {
  "colab": {
   "provenance": []
  },
  "kernelspec": {
   "display_name": "Python 3",
   "language": "python",
   "name": "python3"
  },
  "language_info": {
   "codemirror_mode": {
    "name": "ipython",
    "version": 3
   },
   "file_extension": ".py",
   "mimetype": "text/x-python",
   "name": "python",
   "nbconvert_exporter": "python",
   "pygments_lexer": "ipython3",
   "version": "3.11.2"
  },
  "vscode": {
   "interpreter": {
    "hash": "aee8b7b246df8f9039afb4144a1f6fd8d2ca17a180786b69acc140d282b71a49"
   }
  }
 },
 "nbformat": 4,
 "nbformat_minor": 1
}
